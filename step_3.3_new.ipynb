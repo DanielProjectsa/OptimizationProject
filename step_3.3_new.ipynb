{
 "cells": [
  {
   "cell_type": "code",
   "execution_count": 11,
   "id": "cadf584d-11a3-47e6-8af3-46f7de2e02ec",
   "metadata": {},
   "outputs": [],
   "source": [
    "import os\n",
    "import numpy as np\n",
    "import pandas as pd\n",
    "import tempfile\n",
    "\n",
    "import pandapower as pp\n",
    "import pandapower.networks as nw\n",
    "from pandapower.timeseries import DFData\n",
    "from pandapower.timeseries import OutputWriter\n",
    "from pandapower.timeseries.run_time_series import run_timeseries\n",
    "from pandapower.control import ConstControl\n",
    "import pandapower.plotting as pplt\n",
    "import matplotlib.pyplot as plt\n",
    "from pandapower.plotting.plotly import pf_res_plotly\n",
    "\n",
    "#creating our net\n",
    "net = nw.create_cigre_network_mv()\n",
    "\n",
    "#Creating buses and trafos\n",
    "\n",
    "pp.create_bus(net, name='Bus CS 14', vn_kv=0.4, type='b', geodata=((10,3.5)))\n",
    "pp.create_bus(net, name='Bus CS 11', vn_kv=0.4, type='b', geodata=((2.5,7)))\n",
    "pp.create_bus(net, name='Bus CS 5', vn_kv=0.4, type='b', geodata=((-0.5,7)))\n",
    "pp.create_bus(net, name='Bus CS 4', vn_kv=0.4, type='b', geodata=((1,9)))\n",
    "pp.create_bus(net, name='Bus CS 9', vn_kv=0.4, type='b', geodata=((6,3.5)))\n",
    "\n",
    "\n",
    "pp.create_transformer(net, hv_bus=14, lv_bus= pp.get_element_index(net,'bus', 'Bus CS 14'), name='CS 14 - 0.63MVA', std_type= '0.63 MVA 20/0.4 kV')\n",
    "pp.create_transformer(net, hv_bus=11, lv_bus=pp.get_element_index(net, 'bus', 'Bus CS 11'),  name='CS 11 - 0.4MVA',std_type= '0.4 MVA 20/0.4 kV')\n",
    "pp.create_transformer(net, hv_bus=5, lv_bus=pp.get_element_index (net, 'bus', 'Bus CS 5'),   name='CS 5 - 0.4MVA', std_type= '0.4 MVA 20/0.4 kV')\n",
    "pp.create_transformer(net, hv_bus=4, lv_bus=pp.get_element_index (net, 'bus', 'Bus CS 4'),   name='CS 4 - 0.25MVA', std_type= '0.25 MVA 20/0.4 kV')\n",
    "pp.create_transformer(net, hv_bus=9, lv_bus=pp.get_element_index (net, 'bus', 'Bus CS 9'),   name='CS 9 - 0.25MVA', std_type= '0.25 MVA 20/0.4 kV')\n",
    "\n",
    "#print(net)\n",
    "\n",
    "#ax = pplt.simple_plot(net, show_plot = False)\n",
    "#clc = pplt.create_line_collection(net, color =\"g\", linewidth = 3.,use_bus_geodata=(True))\n",
    "#pplt.draw_collections([clc], ax=ax)\n",
    "#plt.show()\n",
    "\n",
    "#Adding CS at rated power (6.6 kW)\n",
    "\n",
    "\n",
    "max_line_loading=100\n",
    "\n",
    "max_vm_pu= 1.1\n",
    "\n",
    "min_vm_pu= 0.9"
   ]
  },
  {
   "cell_type": "code",
   "execution_count": 12,
   "id": "b7203c74-da77-4926-829a-804d49e0888d",
   "metadata": {},
   "outputs": [
    {
     "data": {
      "text/html": [
       "<div>\n",
       "<style scoped>\n",
       "    .dataframe tbody tr th:only-of-type {\n",
       "        vertical-align: middle;\n",
       "    }\n",
       "\n",
       "    .dataframe tbody tr th {\n",
       "        vertical-align: top;\n",
       "    }\n",
       "\n",
       "    .dataframe thead th {\n",
       "        text-align: right;\n",
       "    }\n",
       "</style>\n",
       "<table border=\"1\" class=\"dataframe\">\n",
       "  <thead>\n",
       "    <tr style=\"text-align: right;\">\n",
       "      <th></th>\n",
       "      <th>name</th>\n",
       "      <th>std_type</th>\n",
       "      <th>hv_bus</th>\n",
       "      <th>lv_bus</th>\n",
       "      <th>sn_mva</th>\n",
       "      <th>vn_hv_kv</th>\n",
       "      <th>vn_lv_kv</th>\n",
       "      <th>vk_percent</th>\n",
       "      <th>vkr_percent</th>\n",
       "      <th>pfe_kw</th>\n",
       "      <th>...</th>\n",
       "      <th>tap_neutral</th>\n",
       "      <th>tap_min</th>\n",
       "      <th>tap_max</th>\n",
       "      <th>tap_step_percent</th>\n",
       "      <th>tap_step_degree</th>\n",
       "      <th>tap_pos</th>\n",
       "      <th>tap_phase_shifter</th>\n",
       "      <th>parallel</th>\n",
       "      <th>df</th>\n",
       "      <th>in_service</th>\n",
       "    </tr>\n",
       "  </thead>\n",
       "  <tbody>\n",
       "    <tr>\n",
       "      <th>0</th>\n",
       "      <td>Trafo 0-1</td>\n",
       "      <td>None</td>\n",
       "      <td>0</td>\n",
       "      <td>1</td>\n",
       "      <td>25.00</td>\n",
       "      <td>110.0</td>\n",
       "      <td>20.0</td>\n",
       "      <td>12.00107</td>\n",
       "      <td>0.160</td>\n",
       "      <td>0.00</td>\n",
       "      <td>...</td>\n",
       "      <td>NaN</td>\n",
       "      <td>NaN</td>\n",
       "      <td>NaN</td>\n",
       "      <td>NaN</td>\n",
       "      <td>NaN</td>\n",
       "      <td>NaN</td>\n",
       "      <td>False</td>\n",
       "      <td>1</td>\n",
       "      <td>1.0</td>\n",
       "      <td>True</td>\n",
       "    </tr>\n",
       "    <tr>\n",
       "      <th>1</th>\n",
       "      <td>Trafo 0-12</td>\n",
       "      <td>None</td>\n",
       "      <td>0</td>\n",
       "      <td>12</td>\n",
       "      <td>25.00</td>\n",
       "      <td>110.0</td>\n",
       "      <td>20.0</td>\n",
       "      <td>12.00107</td>\n",
       "      <td>0.160</td>\n",
       "      <td>0.00</td>\n",
       "      <td>...</td>\n",
       "      <td>NaN</td>\n",
       "      <td>NaN</td>\n",
       "      <td>NaN</td>\n",
       "      <td>NaN</td>\n",
       "      <td>NaN</td>\n",
       "      <td>NaN</td>\n",
       "      <td>False</td>\n",
       "      <td>1</td>\n",
       "      <td>1.0</td>\n",
       "      <td>True</td>\n",
       "    </tr>\n",
       "    <tr>\n",
       "      <th>2</th>\n",
       "      <td>CS 14 - 0.63MVA</td>\n",
       "      <td>0.63 MVA 20/0.4 kV</td>\n",
       "      <td>14</td>\n",
       "      <td>15</td>\n",
       "      <td>0.63</td>\n",
       "      <td>20.0</td>\n",
       "      <td>0.4</td>\n",
       "      <td>6.00000</td>\n",
       "      <td>1.206</td>\n",
       "      <td>1.65</td>\n",
       "      <td>...</td>\n",
       "      <td>0.0</td>\n",
       "      <td>-2.0</td>\n",
       "      <td>2.0</td>\n",
       "      <td>2.5</td>\n",
       "      <td>0.0</td>\n",
       "      <td>0.0</td>\n",
       "      <td>False</td>\n",
       "      <td>1</td>\n",
       "      <td>1.0</td>\n",
       "      <td>True</td>\n",
       "    </tr>\n",
       "    <tr>\n",
       "      <th>3</th>\n",
       "      <td>CS 11 - 0.4MVA</td>\n",
       "      <td>0.4 MVA 20/0.4 kV</td>\n",
       "      <td>11</td>\n",
       "      <td>16</td>\n",
       "      <td>0.40</td>\n",
       "      <td>20.0</td>\n",
       "      <td>0.4</td>\n",
       "      <td>6.00000</td>\n",
       "      <td>1.425</td>\n",
       "      <td>1.35</td>\n",
       "      <td>...</td>\n",
       "      <td>0.0</td>\n",
       "      <td>-2.0</td>\n",
       "      <td>2.0</td>\n",
       "      <td>2.5</td>\n",
       "      <td>0.0</td>\n",
       "      <td>0.0</td>\n",
       "      <td>False</td>\n",
       "      <td>1</td>\n",
       "      <td>1.0</td>\n",
       "      <td>True</td>\n",
       "    </tr>\n",
       "    <tr>\n",
       "      <th>4</th>\n",
       "      <td>CS 5 - 0.4MVA</td>\n",
       "      <td>0.4 MVA 20/0.4 kV</td>\n",
       "      <td>5</td>\n",
       "      <td>17</td>\n",
       "      <td>0.40</td>\n",
       "      <td>20.0</td>\n",
       "      <td>0.4</td>\n",
       "      <td>6.00000</td>\n",
       "      <td>1.425</td>\n",
       "      <td>1.35</td>\n",
       "      <td>...</td>\n",
       "      <td>0.0</td>\n",
       "      <td>-2.0</td>\n",
       "      <td>2.0</td>\n",
       "      <td>2.5</td>\n",
       "      <td>0.0</td>\n",
       "      <td>0.0</td>\n",
       "      <td>False</td>\n",
       "      <td>1</td>\n",
       "      <td>1.0</td>\n",
       "      <td>True</td>\n",
       "    </tr>\n",
       "    <tr>\n",
       "      <th>5</th>\n",
       "      <td>CS 4 - 0.25MVA</td>\n",
       "      <td>0.25 MVA 20/0.4 kV</td>\n",
       "      <td>4</td>\n",
       "      <td>18</td>\n",
       "      <td>0.25</td>\n",
       "      <td>20.0</td>\n",
       "      <td>0.4</td>\n",
       "      <td>6.00000</td>\n",
       "      <td>1.440</td>\n",
       "      <td>0.80</td>\n",
       "      <td>...</td>\n",
       "      <td>0.0</td>\n",
       "      <td>-2.0</td>\n",
       "      <td>2.0</td>\n",
       "      <td>2.5</td>\n",
       "      <td>0.0</td>\n",
       "      <td>0.0</td>\n",
       "      <td>False</td>\n",
       "      <td>1</td>\n",
       "      <td>1.0</td>\n",
       "      <td>True</td>\n",
       "    </tr>\n",
       "    <tr>\n",
       "      <th>6</th>\n",
       "      <td>CS 9 - 0.25MVA</td>\n",
       "      <td>0.25 MVA 20/0.4 kV</td>\n",
       "      <td>9</td>\n",
       "      <td>19</td>\n",
       "      <td>0.25</td>\n",
       "      <td>20.0</td>\n",
       "      <td>0.4</td>\n",
       "      <td>6.00000</td>\n",
       "      <td>1.440</td>\n",
       "      <td>0.80</td>\n",
       "      <td>...</td>\n",
       "      <td>0.0</td>\n",
       "      <td>-2.0</td>\n",
       "      <td>2.0</td>\n",
       "      <td>2.5</td>\n",
       "      <td>0.0</td>\n",
       "      <td>0.0</td>\n",
       "      <td>False</td>\n",
       "      <td>1</td>\n",
       "      <td>1.0</td>\n",
       "      <td>True</td>\n",
       "    </tr>\n",
       "  </tbody>\n",
       "</table>\n",
       "<p>7 rows × 23 columns</p>\n",
       "</div>"
      ],
      "text/plain": [
       "              name            std_type  hv_bus  lv_bus  sn_mva  vn_hv_kv  \\\n",
       "0        Trafo 0-1                None       0       1   25.00     110.0   \n",
       "1       Trafo 0-12                None       0      12   25.00     110.0   \n",
       "2  CS 14 - 0.63MVA  0.63 MVA 20/0.4 kV      14      15    0.63      20.0   \n",
       "3   CS 11 - 0.4MVA   0.4 MVA 20/0.4 kV      11      16    0.40      20.0   \n",
       "4    CS 5 - 0.4MVA   0.4 MVA 20/0.4 kV       5      17    0.40      20.0   \n",
       "5   CS 4 - 0.25MVA  0.25 MVA 20/0.4 kV       4      18    0.25      20.0   \n",
       "6   CS 9 - 0.25MVA  0.25 MVA 20/0.4 kV       9      19    0.25      20.0   \n",
       "\n",
       "   vn_lv_kv  vk_percent  vkr_percent  pfe_kw  ...  tap_neutral  tap_min  \\\n",
       "0      20.0    12.00107        0.160    0.00  ...          NaN      NaN   \n",
       "1      20.0    12.00107        0.160    0.00  ...          NaN      NaN   \n",
       "2       0.4     6.00000        1.206    1.65  ...          0.0     -2.0   \n",
       "3       0.4     6.00000        1.425    1.35  ...          0.0     -2.0   \n",
       "4       0.4     6.00000        1.425    1.35  ...          0.0     -2.0   \n",
       "5       0.4     6.00000        1.440    0.80  ...          0.0     -2.0   \n",
       "6       0.4     6.00000        1.440    0.80  ...          0.0     -2.0   \n",
       "\n",
       "  tap_max  tap_step_percent  tap_step_degree  tap_pos  tap_phase_shifter  \\\n",
       "0     NaN               NaN              NaN      NaN              False   \n",
       "1     NaN               NaN              NaN      NaN              False   \n",
       "2     2.0               2.5              0.0      0.0              False   \n",
       "3     2.0               2.5              0.0      0.0              False   \n",
       "4     2.0               2.5              0.0      0.0              False   \n",
       "5     2.0               2.5              0.0      0.0              False   \n",
       "6     2.0               2.5              0.0      0.0              False   \n",
       "\n",
       "   parallel   df  in_service  \n",
       "0         1  1.0        True  \n",
       "1         1  1.0        True  \n",
       "2         1  1.0        True  \n",
       "3         1  1.0        True  \n",
       "4         1  1.0        True  \n",
       "5         1  1.0        True  \n",
       "6         1  1.0        True  \n",
       "\n",
       "[7 rows x 23 columns]"
      ]
     },
     "execution_count": 12,
     "metadata": {},
     "output_type": "execute_result"
    }
   ],
   "source": [
    "net.trafo"
   ]
  },
  {
   "cell_type": "code",
   "execution_count": 13,
   "id": "2f8bd255-f71c-4ec8-9cd0-155c111b2b43",
   "metadata": {},
   "outputs": [],
   "source": [
    "#importing the active and reactive power of loads from excel\n",
    "df_active = pd.read_csv('active_power_time_series_ev_load.csv')\n",
    "df_reactive = pd.read_csv('reactive_power_time_series_ev_load.csv')\n",
    "# create the data source from\n",
    "ds_active = DFData(df_active)\n",
    "ds_reactive = DFData(df_reactive)\n",
    "\n",
    "def timeseries_example(output_dir):\n",
    "    \n",
    "    #defing the time step\n",
    "    n_timesteps = 24\n",
    "    \n",
    "    # 3. create controllers (to control P values of the load) ds_p is for active power and ds_q for reactive power\n",
    "    create_controllers(net, ds_active, ds_reactive)\n",
    "\n",
    "    # time steps to be calculated. Could also be a list with non-consecutive time steps\n",
    "    time_steps = range(0, n_timesteps)\n",
    "\n",
    "    # 4. the output writer with the desired results to be stored to files.\n",
    "    ow = create_output_writer(net, time_steps, output_dir=output_dir)\n",
    "\n",
    "    # 5. the main time series function\n",
    "    run_timeseries(net, time_steps) \n",
    "    \n",
    "    \n",
    "load_index=net.load.index\n",
    "load_name=net.load.name\n",
    "def create_controllers(net,ds_active,ds_reactive):\n",
    "    for i in range(len(load_index)):\n",
    "        ConstControl(net, element='load', variable='p_mw', element_index=load_index[i],\n",
    "                 data_source=ds_active, profile_name=load_name[i])\n",
    "        ConstControl(net, element='load', variable='q_mvar', element_index=load_index[i],\n",
    "                 data_source=ds_reactive, profile_name=load_name[i])\n",
    "\n",
    "def create_output_writer(net, time_steps, output_dir):\n",
    "    ow = OutputWriter(net, time_steps, output_path=output_dir, output_file_type=\".xlsx\", log_variables=list())\n",
    "    # these variables are saved to the harddisk after / during the time series loop\n",
    "    ow.log_variable('res_load', 'p_mw')\n",
    "    ow.log_variable('res_bus', 'vm_pu')\n",
    "    ow.log_variable('res_line', 'loading_percent')\n",
    "    ow.log_variable('res_line', 'i_ka')\n",
    "    ow.log_variable('res_trafo','loading_percent')\n",
    "    return ow\n"
   ]
  },
  {
   "cell_type": "code",
   "execution_count": null,
   "id": "97dada38-2f4b-4f41-aed1-395ea6648aec",
   "metadata": {},
   "outputs": [],
   "source": []
  },
  {
   "cell_type": "code",
   "execution_count": null,
   "id": "d303d6b4-6848-424a-b98c-c2df1df2eb41",
   "metadata": {},
   "outputs": [],
   "source": []
  },
  {
   "cell_type": "code",
   "execution_count": 14,
   "id": "9746ef02-35ee-4195-856f-67de6c83f315",
   "metadata": {},
   "outputs": [],
   "source": [
    "for i in range (1,93):\n",
    "    l=str(i)\n",
    "    pp.create_load(net, bus=15, p_mw=0.0066, q_mvar=0, name=\"Vehicle \"+l)\n",
    "#Bus CS 11 (0.4 MVA) - trafo id: 3\n",
    "for i in range (93,150):\n",
    "    l=str(i)\n",
    "    pp.create_load(net, bus=16, p_mw=0.0066, q_mvar=0, name=\"Vehicle \"+l)\n",
    "\n",
    "#Bus CS 5 (0.4 MVA) - trafo id: 4\n",
    "for i in range (150,207):\n",
    "    l=str(i)\n",
    "    pp.create_load(net, bus=17, p_mw=0.0066, q_mvar=0, name=\"Vehicle \"+l)\n",
    "\n",
    "for i in range (207,242):\n",
    "    l=str(i)\n",
    "    pp.create_load(net, bus=19, p_mw=0.0066, q_mvar=0, name=\"Vehicle \"+l)"
   ]
  },
  {
   "cell_type": "code",
   "execution_count": null,
   "id": "02388140-6f86-4f7f-ae39-fbe2e38cc288",
   "metadata": {},
   "outputs": [
    {
     "name": "stdout",
     "output_type": "stream",
     "text": [
      "Results can be found in your local temp folder: time_series_ev\n"
     ]
    },
    {
     "name": "stderr",
     "output_type": "stream",
     "text": [
      "100%|██████████| 24/24 [00:01<00:00, 32.39it/s]"
     ]
    }
   ],
   "source": [
    "output_dir = os.path.join(\"time_series_ev\")\n",
    "print(\"Results can be found in your local temp folder: {}\".format(output_dir))\n",
    "if not os.path.exists(output_dir):\n",
    "    os.mkdir(output_dir)\n",
    "timeseries_example(output_dir)"
   ]
  },
  {
   "cell_type": "code",
   "execution_count": null,
   "id": "4ea5f0c1-ea2e-44cc-a571-c3e0038f7c55",
   "metadata": {},
   "outputs": [],
   "source": [
    "ll_file = os.path.join(output_dir, \"res_line\", \"loading_percent.xlsx\")\n",
    "line_loading = pd.read_excel(ll_file, index_col=0)\n",
    "    \n",
    "vm_pu_file = os.path.join(output_dir, \"res_bus\", \"vm_pu.xlsx\")\n",
    "vm_pu = pd.read_excel(vm_pu_file, index_col=0)\n",
    "\n",
    "if any(line_loading.max()>100):\n",
    "        print(\"Overloaded lines\")\n",
    "\n",
    "elif any(vm_pu.max()>max_vm_pu):\n",
    "        print(\"voltage over maximum\")\n",
    "\n",
    "elif any(vm_pu.min()<min_vm_pu):\n",
    "         print(\"voltage below minimum\")"
   ]
  },
  {
   "cell_type": "code",
   "execution_count": null,
   "id": "4c999413-147d-45dc-9ab2-cc55babae9da",
   "metadata": {},
   "outputs": [],
   "source": [
    "print(\"-----------------------------    STEP 1.2    -----------------------\")\n",
    "\n",
    "#net = nw.create_cigre_network_mv()\n",
    "\n",
    "vmax = 1.1\n",
    "vmin = 0.9\n",
    "max_ll = 100\n",
    "\n",
    "lines = net.line.index \n",
    "N = list()\n",
    "\n",
    "for l in lines:\n",
    "    net.line.loc[l,\"in_service\"] = False\n",
    "    output_dir = os.path.join(\"time_series_ev\")\n",
    "    print(\"Results can be found in your local temp folder: {}\".format(output_dir))\n",
    "    if not os.path.exists(output_dir):\n",
    "        os.mkdir(output_dir)\n",
    "    timeseries_example(output_dir)\n",
    "    \n",
    "    ll_file = os.path.join(output_dir, \"res_line\", \"loading_percent.xlsx\")\n",
    "    line_loading = pd.read_excel(ll_file, index_col=0)\n",
    "    vm_pu_file = os.path.join(output_dir, \"res_bus\", \"vm_pu.xlsx\")\n",
    "    vm_pu = pd.read_excel(vm_pu_file, index_col=0)\n",
    "    \n",
    "   # pp.runpp(net)\n",
    "    \n",
    "    if any(vm_pu.max() > vmax) or any(vm_pu.min() < vmin) or any(line_loading) > max_ll:\n",
    "        N.append(l)\n",
    "        print(\"critical line\")\n",
    "        print(l)\n",
    "       \n",
    "    net.line.loc[l,\"in_service\"] = True\n",
    "    \n",
    "#ax = pplt.simple_plot(net, show_plot = False)\n",
    "#clc = pplt.create_line_collection(net, N, color =\"r\", linewidth = 3.,use_bus_geodata=(True))\n",
    "#pplt.draw_collections([clc], ax=ax)\n",
    "#plt.show()\n",
    "print(N)"
   ]
  },
  {
   "cell_type": "code",
   "execution_count": 37,
   "id": "4e64b1c8-e53d-4d82-9cd9-5dbfb65d0826",
   "metadata": {},
   "outputs": [
    {
     "data": {
      "text/plain": [
       "[0, 1, 10, 11]"
      ]
     },
     "execution_count": 37,
     "metadata": {},
     "output_type": "execute_result"
    }
   ],
   "source": [
    "N"
   ]
  },
  {
   "cell_type": "code",
   "execution_count": 54,
   "id": "d3e08277-6ec1-471b-954e-16d5c2f4dd29",
   "metadata": {},
   "outputs": [
    {
     "name": "stdout",
     "output_type": "stream",
     "text": [
      "-----------------------------    STEP 1.2    -----------------------\n",
      "Results can be found in your local temp folder: time_series_ev\n"
     ]
    },
    {
     "name": "stderr",
     "output_type": "stream",
     "text": [
      "100%|██████████| 24/24 [00:04<00:00,  5.32it/s]\n"
     ]
    },
    {
     "name": "stdout",
     "output_type": "stream",
     "text": [
      "critical line\n",
      "0\n",
      "Results can be found in your local temp folder: time_series_ev\n"
     ]
    },
    {
     "name": "stderr",
     "output_type": "stream",
     "text": [
      "100%|██████████| 24/24 [00:04<00:00,  5.14it/s]\n"
     ]
    },
    {
     "name": "stdout",
     "output_type": "stream",
     "text": [
      "critical line\n",
      "1\n",
      "Results can be found in your local temp folder: time_series_ev\n"
     ]
    },
    {
     "name": "stderr",
     "output_type": "stream",
     "text": [
      "100%|██████████| 24/24 [00:05<00:00,  4.76it/s]\n"
     ]
    },
    {
     "name": "stdout",
     "output_type": "stream",
     "text": [
      "Results can be found in your local temp folder: time_series_ev\n"
     ]
    },
    {
     "name": "stderr",
     "output_type": "stream",
     "text": [
      "100%|██████████| 24/24 [00:05<00:00,  4.39it/s]\n"
     ]
    },
    {
     "name": "stdout",
     "output_type": "stream",
     "text": [
      "Results can be found in your local temp folder: time_series_ev\n"
     ]
    },
    {
     "name": "stderr",
     "output_type": "stream",
     "text": [
      "100%|██████████| 24/24 [00:05<00:00,  4.47it/s]\n"
     ]
    },
    {
     "name": "stdout",
     "output_type": "stream",
     "text": [
      "Results can be found in your local temp folder: time_series_ev\n"
     ]
    },
    {
     "name": "stderr",
     "output_type": "stream",
     "text": [
      "100%|██████████| 24/24 [00:06<00:00,  3.86it/s]\n"
     ]
    },
    {
     "name": "stdout",
     "output_type": "stream",
     "text": [
      "Results can be found in your local temp folder: time_series_ev\n"
     ]
    },
    {
     "name": "stderr",
     "output_type": "stream",
     "text": [
      "100%|██████████| 24/24 [00:05<00:00,  4.24it/s]\n"
     ]
    },
    {
     "name": "stdout",
     "output_type": "stream",
     "text": [
      "Results can be found in your local temp folder: time_series_ev\n"
     ]
    },
    {
     "name": "stderr",
     "output_type": "stream",
     "text": [
      "100%|██████████| 24/24 [00:05<00:00,  4.30it/s]\n"
     ]
    },
    {
     "name": "stdout",
     "output_type": "stream",
     "text": [
      "Results can be found in your local temp folder: time_series_ev\n"
     ]
    },
    {
     "name": "stderr",
     "output_type": "stream",
     "text": [
      "100%|██████████| 24/24 [00:05<00:00,  4.00it/s]\n"
     ]
    },
    {
     "name": "stdout",
     "output_type": "stream",
     "text": [
      "Results can be found in your local temp folder: time_series_ev\n"
     ]
    },
    {
     "name": "stderr",
     "output_type": "stream",
     "text": [
      "100%|██████████| 24/24 [00:06<00:00,  3.80it/s]\n"
     ]
    },
    {
     "name": "stdout",
     "output_type": "stream",
     "text": [
      "Results can be found in your local temp folder: time_series_ev\n"
     ]
    },
    {
     "name": "stderr",
     "output_type": "stream",
     "text": [
      "100%|██████████| 24/24 [00:06<00:00,  3.89it/s]\n"
     ]
    },
    {
     "name": "stdout",
     "output_type": "stream",
     "text": [
      "critical line\n",
      "10\n",
      "Results can be found in your local temp folder: time_series_ev\n"
     ]
    },
    {
     "name": "stderr",
     "output_type": "stream",
     "text": [
      "100%|██████████| 24/24 [00:06<00:00,  3.58it/s]\n"
     ]
    },
    {
     "name": "stdout",
     "output_type": "stream",
     "text": [
      "critical line\n",
      "11\n",
      "Results can be found in your local temp folder: time_series_ev\n"
     ]
    },
    {
     "name": "stderr",
     "output_type": "stream",
     "text": [
      "100%|██████████| 24/24 [00:05<00:00,  4.25it/s]\n"
     ]
    },
    {
     "name": "stdout",
     "output_type": "stream",
     "text": [
      "Results can be found in your local temp folder: time_series_ev\n"
     ]
    },
    {
     "name": "stderr",
     "output_type": "stream",
     "text": [
      "100%|██████████| 24/24 [00:05<00:00,  4.62it/s]\n"
     ]
    },
    {
     "name": "stdout",
     "output_type": "stream",
     "text": [
      "Results can be found in your local temp folder: time_series_ev\n"
     ]
    },
    {
     "name": "stderr",
     "output_type": "stream",
     "text": [
      "100%|██████████| 24/24 [00:05<00:00,  4.09it/s]"
     ]
    },
    {
     "name": "stdout",
     "output_type": "stream",
     "text": [
      "[0, 1, 10, 11]\n"
     ]
    },
    {
     "name": "stderr",
     "output_type": "stream",
     "text": [
      "\n"
     ]
    }
   ],
   "source": [
    "print(\"-----------------------------    STEP 1.2    -----------------------\")\n",
    "\n",
    "#net = nw.create_cigre_network_mv()\n",
    "\n",
    "vmax = 1.1\n",
    "vmin = 0.9\n",
    "max_ll = 100\n",
    "\n",
    "lines = net.line.index \n",
    "N_1 = list()\n",
    "\n",
    "net.switch.closed[1] = True\n",
    "net.switch.closed[2] = True\n",
    "net.switch.closed[4] = True\n",
    "\n",
    "for l in lines:\n",
    "    net.line.loc[l,\"in_service\"] = False\n",
    "    output_dir = os.path.join(\"time_series_ev\")\n",
    "    print(\"Results can be found in your local temp folder: {}\".format(output_dir))\n",
    "    if not os.path.exists(output_dir):\n",
    "        os.mkdir(output_dir)\n",
    "    timeseries_example(output_dir)\n",
    "    \n",
    "    ll_file = os.path.join(output_dir, \"res_line\", \"loading_percent.xlsx\")\n",
    "    line_loading = pd.read_excel(ll_file, index_col=0)\n",
    "    vm_pu_file = os.path.join(output_dir, \"res_bus\", \"vm_pu.xlsx\")\n",
    "    vm_pu = pd.read_excel(vm_pu_file, index_col=0)\n",
    "    \n",
    "   # pp.runpp(net)\n",
    "    \n",
    "    if any(vm_pu.max() > vmax) or any(vm_pu.min() < vmin) or any(line_loading) > max_ll:\n",
    "        N_1.append(l)\n",
    "        print(\"critical line\")\n",
    "        print(l)\n",
    "       \n",
    "    net.line.loc[l,\"in_service\"] = True\n",
    "    \n",
    "#ax = pplt.simple_plot(net, show_plot = False)\n",
    "#clc = pplt.create_line_collection(net, N, color =\"r\", linewidth = 3.,use_bus_geodata=(True))\n",
    "#pplt.draw_collections([clc], ax=ax)\n",
    "#plt.show()\n",
    "print(N_1)"
   ]
  },
  {
   "cell_type": "code",
   "execution_count": null,
   "id": "0102b7ac-908b-47b8-b08e-dd87754467a3",
   "metadata": {},
   "outputs": [],
   "source": [
    "print(\"-----------------------------    STEP 1.2    -----------------------\")\n",
    "\n",
    "#net = nw.create_cigre_network_mv()\n",
    "\n",
    "vmax = 1.1\n",
    "vmin = 0.9\n",
    "max_ll = 100\n",
    "\n",
    "lines = net.line.index \n",
    "N_2 = list()\n",
    "net.switch.closed[1] = False\n",
    "net.switch.closed[2] = False\n",
    "net.switch.closed[4] = False\n",
    "\n",
    "for l in lines:\n",
    "    net.line.loc[l,\"in_service\"] = False\n",
    "    output_dir = os.path.join(\"time_series_ev\")\n",
    "    print(\"Results can be found in your local temp folder: {}\".format(output_dir))\n",
    "    if not os.path.exists(output_dir):\n",
    "        os.mkdir(output_dir)\n",
    "    timeseries_example(output_dir)\n",
    "    \n",
    "    ll_file = os.path.join(output_dir, \"res_line\", \"loading_percent.xlsx\")\n",
    "    line_loading = pd.read_excel(ll_file, index_col=0)\n",
    "    vm_pu_file = os.path.join(output_dir, \"res_bus\", \"vm_pu.xlsx\")\n",
    "    vm_pu = pd.read_excel(vm_pu_file, index_col=0)\n",
    "    \n",
    "   # pp.runpp(net)\n",
    "    \n",
    "    if any(vm_pu.max() > vmax) or any(vm_pu.min() < vmin) or any(line_loading) > max_ll:\n",
    "        N_2.append(l)\n",
    "        print(\"critical line\")\n",
    "        print(l)\n",
    "       \n",
    "    net.line.loc[l,\"in_service\"] = True\n",
    "    \n",
    "#ax = pplt.simple_plot(net, show_plot = False)\n",
    "#clc = pplt.create_line_collection(net, N, color =\"r\", linewidth = 3.,use_bus_geodata=(True))\n",
    "#pplt.draw_collections([clc], ax=ax)\n",
    "#plt.show()\n",
    "print(N_2)"
   ]
  },
  {
   "cell_type": "code",
   "execution_count": 55,
   "id": "f3066512-b24d-41aa-9cf1-298a78aa0189",
   "metadata": {},
   "outputs": [
    {
     "name": "stdout",
     "output_type": "stream",
     "text": [
      "-----------------------------    STEP 1.2    -----------------------\n",
      "Results can be found in your local temp folder: time_series_ev\n"
     ]
    },
    {
     "name": "stderr",
     "output_type": "stream",
     "text": [
      "100%|██████████| 24/24 [00:08<00:00,  2.81it/s]\n"
     ]
    },
    {
     "name": "stdout",
     "output_type": "stream",
     "text": [
      "critical line\n",
      "0\n",
      "Results can be found in your local temp folder: time_series_ev\n"
     ]
    },
    {
     "name": "stderr",
     "output_type": "stream",
     "text": [
      "100%|██████████| 24/24 [00:08<00:00,  2.93it/s]\n"
     ]
    },
    {
     "name": "stdout",
     "output_type": "stream",
     "text": [
      "critical line\n",
      "1\n",
      "Results can be found in your local temp folder: time_series_ev\n"
     ]
    },
    {
     "name": "stderr",
     "output_type": "stream",
     "text": [
      "100%|██████████| 24/24 [00:08<00:00,  2.78it/s]\n"
     ]
    },
    {
     "name": "stdout",
     "output_type": "stream",
     "text": [
      "Results can be found in your local temp folder: time_series_ev\n"
     ]
    },
    {
     "name": "stderr",
     "output_type": "stream",
     "text": [
      "100%|██████████| 24/24 [00:07<00:00,  3.16it/s]\n"
     ]
    },
    {
     "name": "stdout",
     "output_type": "stream",
     "text": [
      "Results can be found in your local temp folder: time_series_ev\n"
     ]
    },
    {
     "name": "stderr",
     "output_type": "stream",
     "text": [
      "100%|██████████| 24/24 [00:08<00:00,  2.80it/s]\n"
     ]
    },
    {
     "name": "stdout",
     "output_type": "stream",
     "text": [
      "Results can be found in your local temp folder: time_series_ev\n"
     ]
    },
    {
     "name": "stderr",
     "output_type": "stream",
     "text": [
      "100%|██████████| 24/24 [00:06<00:00,  3.72it/s]\n"
     ]
    },
    {
     "name": "stdout",
     "output_type": "stream",
     "text": [
      "Results can be found in your local temp folder: time_series_ev\n"
     ]
    },
    {
     "name": "stderr",
     "output_type": "stream",
     "text": [
      "100%|██████████| 24/24 [00:09<00:00,  2.43it/s]\n"
     ]
    },
    {
     "name": "stdout",
     "output_type": "stream",
     "text": [
      "Results can be found in your local temp folder: time_series_ev\n"
     ]
    },
    {
     "name": "stderr",
     "output_type": "stream",
     "text": [
      "100%|██████████| 24/24 [00:08<00:00,  2.82it/s]\n"
     ]
    },
    {
     "name": "stdout",
     "output_type": "stream",
     "text": [
      "Results can be found in your local temp folder: time_series_ev\n"
     ]
    },
    {
     "name": "stderr",
     "output_type": "stream",
     "text": [
      "100%|██████████| 24/24 [00:08<00:00,  2.96it/s]\n"
     ]
    },
    {
     "name": "stdout",
     "output_type": "stream",
     "text": [
      "Results can be found in your local temp folder: time_series_ev\n"
     ]
    },
    {
     "name": "stderr",
     "output_type": "stream",
     "text": [
      "100%|██████████| 24/24 [00:06<00:00,  3.50it/s]\n"
     ]
    },
    {
     "name": "stdout",
     "output_type": "stream",
     "text": [
      "Results can be found in your local temp folder: time_series_ev\n"
     ]
    },
    {
     "name": "stderr",
     "output_type": "stream",
     "text": [
      "100%|██████████| 24/24 [00:12<00:00,  1.86it/s]\n"
     ]
    },
    {
     "name": "stdout",
     "output_type": "stream",
     "text": [
      "critical line\n",
      "10\n",
      "Results can be found in your local temp folder: time_series_ev\n"
     ]
    },
    {
     "name": "stderr",
     "output_type": "stream",
     "text": [
      "100%|██████████| 24/24 [00:10<00:00,  2.37it/s]\n"
     ]
    },
    {
     "name": "stdout",
     "output_type": "stream",
     "text": [
      "critical line\n",
      "11\n",
      "Results can be found in your local temp folder: time_series_ev\n"
     ]
    },
    {
     "name": "stderr",
     "output_type": "stream",
     "text": [
      "100%|██████████| 24/24 [00:09<00:00,  2.48it/s]\n"
     ]
    },
    {
     "name": "stdout",
     "output_type": "stream",
     "text": [
      "Results can be found in your local temp folder: time_series_ev\n"
     ]
    },
    {
     "name": "stderr",
     "output_type": "stream",
     "text": [
      "100%|██████████| 24/24 [00:08<00:00,  2.94it/s]\n"
     ]
    },
    {
     "name": "stdout",
     "output_type": "stream",
     "text": [
      "Results can be found in your local temp folder: time_series_ev\n"
     ]
    },
    {
     "name": "stderr",
     "output_type": "stream",
     "text": [
      "100%|██████████| 24/24 [00:10<00:00,  2.35it/s]"
     ]
    },
    {
     "name": "stdout",
     "output_type": "stream",
     "text": [
      "[0, 1, 10, 11]\n"
     ]
    },
    {
     "name": "stderr",
     "output_type": "stream",
     "text": [
      "\n"
     ]
    }
   ],
   "source": [
    "print(\"-----------------------------    STEP 1.2    -----------------------\")\n",
    "\n",
    "#net = nw.create_cigre_network_mv()\n",
    "\n",
    "vmax = 1.1\n",
    "vmin = 0.9\n",
    "max_ll = 100\n",
    "\n",
    "lines = net.line.index \n",
    "N_3 = list()\n",
    "net.switch.closed[1] = False\n",
    "net.switch.closed[2] = True\n",
    "net.switch.closed[4] = True\n",
    "\n",
    "for l in lines:\n",
    "    net.line.loc[l,\"in_service\"] = False\n",
    "    output_dir = os.path.join(\"time_series_ev\")\n",
    "    print(\"Results can be found in your local temp folder: {}\".format(output_dir))\n",
    "    if not os.path.exists(output_dir):\n",
    "        os.mkdir(output_dir)\n",
    "    timeseries_example(output_dir)\n",
    "    \n",
    "    ll_file = os.path.join(output_dir, \"res_line\", \"loading_percent.xlsx\")\n",
    "    line_loading = pd.read_excel(ll_file, index_col=0)\n",
    "    vm_pu_file = os.path.join(output_dir, \"res_bus\", \"vm_pu.xlsx\")\n",
    "    vm_pu = pd.read_excel(vm_pu_file, index_col=0)\n",
    "    \n",
    "   # pp.runpp(net)\n",
    "    \n",
    "    if any(vm_pu.max() > vmax) or any(vm_pu.min() < vmin) or any(line_loading) > max_ll:\n",
    "        N_3.append(l)\n",
    "        print(\"critical line\")\n",
    "        print(l)\n",
    "       \n",
    "    net.line.loc[l,\"in_service\"] = True\n",
    "    \n",
    "#ax = pplt.simple_plot(net, show_plot = False)\n",
    "#clc = pplt.create_line_collection(net, N, color =\"r\", linewidth = 3.,use_bus_geodata=(True))\n",
    "#pplt.draw_collections([clc], ax=ax)\n",
    "#plt.show()\n",
    "print(N_3)"
   ]
  },
  {
   "cell_type": "code",
   "execution_count": null,
   "id": "237fec39-81f4-476b-ad31-13f940c88bd2",
   "metadata": {},
   "outputs": [],
   "source": [
    "print(\"-----------------------------    STEP 1.2    -----------------------\")\n",
    "\n",
    "#net = nw.create_cigre_network_mv()\n",
    "\n",
    "vmax = 1.1\n",
    "vmin = 0.9\n",
    "max_ll = 100\n",
    "\n",
    "lines = net.line.index \n",
    "N_4 = list()\n",
    "net.switch.closed[1] = True\n",
    "net.switch.closed[2] = False\n",
    "net.switch.closed[4] = True\n",
    "\n",
    "for l in lines:\n",
    "    net.line.loc[l,\"in_service\"] = False\n",
    "    output_dir = os.path.join(\"time_series_ev\")\n",
    "    print(\"Results can be found in your local temp folder: {}\".format(output_dir))\n",
    "    if not os.path.exists(output_dir):\n",
    "        os.mkdir(output_dir)\n",
    "    timeseries_example(output_dir)\n",
    "    \n",
    "    ll_file = os.path.join(output_dir, \"res_line\", \"loading_percent.xlsx\")\n",
    "    line_loading = pd.read_excel(ll_file, index_col=0)\n",
    "    vm_pu_file = os.path.join(output_dir, \"res_bus\", \"vm_pu.xlsx\")\n",
    "    vm_pu = pd.read_excel(vm_pu_file, index_col=0)\n",
    "    \n",
    "   # pp.runpp(net)\n",
    "    \n",
    "    if any(vm_pu.max() > vmax) or any(vm_pu.min() < vmin) or any(line_loading) > max_ll:\n",
    "        N_4.append(l)\n",
    "        print(\"critical line\")\n",
    "        print(l)\n",
    "       \n",
    "    net.line.loc[l,\"in_service\"] = True\n",
    "    \n",
    "#ax = pplt.simple_plot(net, show_plot = False)\n",
    "#clc = pplt.create_line_collection(net, N, color =\"r\", linewidth = 3.,use_bus_geodata=(True))\n",
    "#pplt.draw_collections([clc], ax=ax)\n",
    "#plt.show()\n",
    "print(N_4)"
   ]
  },
  {
   "cell_type": "code",
   "execution_count": null,
   "id": "e997ffef-b046-4884-9279-9f9662d2879d",
   "metadata": {},
   "outputs": [],
   "source": [
    "print(\"-----------------------------    STEP 1.2    -----------------------\")\n",
    "\n",
    "#net = nw.create_cigre_network_mv()\n",
    "\n",
    "vmax = 1.1\n",
    "vmin = 0.9\n",
    "max_ll = 100\n",
    "\n",
    "lines = net.line.index \n",
    "N_5 = list()\n",
    "net.switch.closed[1] = True\n",
    "net.switch.closed[2] = True\n",
    "net.switch.closed[4] = False\n",
    "\n",
    "for l in lines:\n",
    "    net.line.loc[l,\"in_service\"] = False\n",
    "    output_dir = os.path.join(\"time_series_ev\")\n",
    "    print(\"Results can be found in your local temp folder: {}\".format(output_dir))\n",
    "    if not os.path.exists(output_dir):\n",
    "        os.mkdir(output_dir)\n",
    "    timeseries_example(output_dir)\n",
    "    \n",
    "    ll_file = os.path.join(output_dir, \"res_line\", \"loading_percent.xlsx\")\n",
    "    line_loading = pd.read_excel(ll_file, index_col=0)\n",
    "    vm_pu_file = os.path.join(output_dir, \"res_bus\", \"vm_pu.xlsx\")\n",
    "    vm_pu = pd.read_excel(vm_pu_file, index_col=0)\n",
    "    \n",
    "   # pp.runpp(net)\n",
    "    \n",
    "    if any(vm_pu.max() > vmax) or any(vm_pu.min() < vmin) or any(line_loading) > max_ll:\n",
    "        N_5.append(l)\n",
    "        print(\"critical line\")\n",
    "        print(l)\n",
    "       \n",
    "    net.line.loc[l,\"in_service\"] = True\n",
    "    \n",
    "#ax = pplt.simple_plot(net, show_plot = False)\n",
    "#clc = pplt.create_line_collection(net, N, color =\"r\", linewidth = 3.,use_bus_geodata=(True))\n",
    "#pplt.draw_collections([clc], ax=ax)\n",
    "#plt.show()\n",
    "print(N_5)"
   ]
  },
  {
   "cell_type": "code",
   "execution_count": null,
   "id": "95ee0982-9ef0-41fe-9a60-adf100f30d34",
   "metadata": {},
   "outputs": [],
   "source": [
    "print(\"-----------------------------    STEP 1.2    -----------------------\")\n",
    "\n",
    "#net = nw.create_cigre_network_mv()\n",
    "\n",
    "vmax = 1.1\n",
    "vmin = 0.9\n",
    "max_ll = 100\n",
    "\n",
    "lines = net.line.index \n",
    "N_6 = list()\n",
    "net.switch.closed[1] = False\n",
    "net.switch.closed[2] = False\n",
    "net.switch.closed[4] = True\n",
    "\n",
    "for l in lines:\n",
    "    net.line.loc[l,\"in_service\"] = False\n",
    "    output_dir = os.path.join(\"time_series_ev\")\n",
    "    print(\"Results can be found in your local temp folder: {}\".format(output_dir))\n",
    "    if not os.path.exists(output_dir):\n",
    "        os.mkdir(output_dir)\n",
    "    timeseries_example(output_dir)\n",
    "    \n",
    "    ll_file = os.path.join(output_dir, \"res_line\", \"loading_percent.xlsx\")\n",
    "    line_loading = pd.read_excel(ll_file, index_col=0)\n",
    "    vm_pu_file = os.path.join(output_dir, \"res_bus\", \"vm_pu.xlsx\")\n",
    "    vm_pu = pd.read_excel(vm_pu_file, index_col=0)\n",
    "    \n",
    "   # pp.runpp(net)\n",
    "    \n",
    "    if any(vm_pu.max() > vmax) or any(vm_pu.min() < vmin) or any(line_loading) > max_ll:\n",
    "        N_6.append(l)\n",
    "        print(\"critical line\")\n",
    "        print(l)\n",
    "       \n",
    "    net.line.loc[l,\"in_service\"] = True\n",
    "    \n",
    "#ax = pplt.simple_plot(net, show_plot = False)\n",
    "#clc = pplt.create_line_collection(net, N, color =\"r\", linewidth = 3.,use_bus_geodata=(True))\n",
    "#pplt.draw_collections([clc], ax=ax)\n",
    "#plt.show()\n",
    "print(N_6)"
   ]
  }
 ],
 "metadata": {
  "kernelspec": {
   "display_name": "Python 3 (ipykernel)",
   "language": "python",
   "name": "python3"
  },
  "language_info": {
   "codemirror_mode": {
    "name": "ipython",
    "version": 3
   },
   "file_extension": ".py",
   "mimetype": "text/x-python",
   "name": "python",
   "nbconvert_exporter": "python",
   "pygments_lexer": "ipython3",
   "version": "3.9.12"
  }
 },
 "nbformat": 4,
 "nbformat_minor": 5
}
