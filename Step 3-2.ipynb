{
 "cells": [
  {
   "cell_type": "code",
   "execution_count": 89,
   "id": "ba6cb70d",
   "metadata": {},
   "outputs": [],
   "source": [
    "import os\n",
    "import numpy as np\n",
    "import pandas as pd\n",
    "import tempfile\n",
    "\n",
    "import pandapower as pp\n",
    "import pandapower.networks as nw\n",
    "from pandapower.timeseries import DFData\n",
    "from pandapower.timeseries import OutputWriter\n",
    "from pandapower.timeseries.run_time_series import run_timeseries\n",
    "from pandapower.control import ConstControl\n",
    "import pandapower.plotting as pplt\n",
    "import matplotlib.pyplot as plt\n",
    "from pandapower.plotting.plotly import pf_res_plotly\n",
    "\n",
    "#creating our net\n",
    "net = nw.create_cigre_network_mv()\n",
    "\n",
    "#Creating buses and trafos\n",
    "\n",
    "pp.create_bus(net, name='Bus CS 14', vn_kv=0.4, type='b', geodata=((10,3.5)))\n",
    "pp.create_bus(net, name='Bus CS 11', vn_kv=0.4, type='b', geodata=((2.5,7)))\n",
    "pp.create_bus(net, name='Bus CS 5', vn_kv=0.4, type='b', geodata=((-0.5,7)))\n",
    "pp.create_bus(net, name='Bus CS 4', vn_kv=0.4, type='b', geodata=((1,9)))\n",
    "pp.create_bus(net, name='Bus CS 9', vn_kv=0.4, type='b', geodata=((6,3.5)))\n",
    "\n",
    "\n",
    "pp.create_transformer(net, hv_bus=14, lv_bus= pp.get_element_index(net,'bus', 'Bus CS 14'), name='CS 14 - 0.63MVA', std_type= '0.63 MVA 20/0.4 kV')\n",
    "pp.create_transformer(net, hv_bus=11, lv_bus=pp.get_element_index(net, 'bus', 'Bus CS 11'),  name='CS 11 - 0.4MVA',std_type= '0.4 MVA 20/0.4 kV')\n",
    "pp.create_transformer(net, hv_bus=5, lv_bus=pp.get_element_index (net, 'bus', 'Bus CS 5'),   name='CS 5 - 0.4MVA', std_type= '0.4 MVA 20/0.4 kV')\n",
    "pp.create_transformer(net, hv_bus=4, lv_bus=pp.get_element_index (net, 'bus', 'Bus CS 4'),   name='CS 4 - 0.25MVA', std_type= '0.25 MVA 20/0.4 kV')\n",
    "pp.create_transformer(net, hv_bus=9, lv_bus=pp.get_element_index (net, 'bus', 'Bus CS 9'),   name='CS 9 - 0.25MVA', std_type= '0.25 MVA 20/0.4 kV')\n",
    "\n",
    "#print(net)\n",
    "\n",
    "#ax = pplt.simple_plot(net, show_plot = False)\n",
    "#clc = pplt.create_line_collection(net, color =\"g\", linewidth = 3.,use_bus_geodata=(True))\n",
    "#pplt.draw_collections([clc], ax=ax)\n",
    "#plt.show()\n",
    "\n",
    "#Adding CS at rated power (6.6 kW)\n",
    "\n",
    "\n",
    "max_line_loading=100\n",
    "\n",
    "max_vm_pu= 1.1\n",
    "\n",
    "min_vm_pu= 0.9\n",
    "\n"
   ]
  },
  {
   "cell_type": "code",
   "execution_count": 90,
   "id": "fb403d98",
   "metadata": {},
   "outputs": [],
   "source": [
    "\n",
    "#importing the active and reactive power of loads from excel\n",
    "df_active = pd.read_csv('active_power_time_series_ev_load.csv')\n",
    "df_reactive = pd.read_csv('reactive_power_time_series_ev_load.csv')\n",
    "# create the data source from\n",
    "ds_active = DFData(df_active)\n",
    "ds_reactive = DFData(df_reactive)\n",
    "\n",
    "def timeseries_example(output_dir):\n",
    "    \n",
    "    #defing the time step\n",
    "    n_timesteps = 24\n",
    "    \n",
    "    # 3. create controllers (to control P values of the load) ds_p is for active power and ds_q for reactive power\n",
    "    create_controllers(net, ds_active, ds_reactive)\n",
    "\n",
    "    # time steps to be calculated. Could also be a list with non-consecutive time steps\n",
    "    time_steps = range(0, n_timesteps)\n",
    "\n",
    "    # 4. the output writer with the desired results to be stored to files.\n",
    "    ow = create_output_writer(net, time_steps, output_dir=output_dir)\n",
    "\n",
    "    # 5. the main time series function\n",
    "    run_timeseries(net, time_steps) \n",
    "    \n",
    "    \n",
    "load_index=net.load.index\n",
    "load_name=net.load.name\n",
    "def create_controllers(net,ds_active,ds_reactive):\n",
    "    for i in range(len(load_index)):\n",
    "        ConstControl(net, element='load', variable='p_mw', element_index=load_index[i],\n",
    "                 data_source=ds_active, profile_name=load_name[i])\n",
    "        ConstControl(net, element='load', variable='q_mvar', element_index=load_index[i],\n",
    "                 data_source=ds_reactive, profile_name=load_name[i])\n",
    "\n",
    "def create_output_writer(net, time_steps, output_dir):\n",
    "    ow = OutputWriter(net, time_steps, output_path=output_dir, output_file_type=\".xlsx\", log_variables=list())\n",
    "    # these variables are saved to the harddisk after / during the time series loop\n",
    "    ow.log_variable('res_load', 'p_mw')\n",
    "    ow.log_variable('res_bus', 'vm_pu')\n",
    "    ow.log_variable('res_line', 'loading_percent')\n",
    "    ow.log_variable('res_line', 'i_ka')\n",
    "    ow.log_variable('res_trafo','loading_percent')\n",
    "    return ow\n",
    "\n",
    "\n"
   ]
  },
  {
   "cell_type": "code",
   "execution_count": 91,
   "id": "6d2a5b23",
   "metadata": {},
   "outputs": [
    {
     "name": "stdout",
     "output_type": "stream",
     "text": [
      "Results can be found in your local temp folder: time_series_ev\n"
     ]
    },
    {
     "name": "stderr",
     "output_type": "stream",
     "text": [
      "\n",
      "  0%|                                                    | 0/24 [00:00<?, ?it/s]\u001b[A\n",
      "100%|██████████████████████████████████████████| 24/24 [00:00<00:00, 128.42it/s]\u001b[A\n"
     ]
    }
   ],
   "source": [
    "output_dir = os.path.join(\"time_series_ev\")\n",
    "print(\"Results can be found in your local temp folder: {}\".format(output_dir))\n",
    "if not os.path.exists(output_dir):\n",
    "    os.mkdir(output_dir)\n",
    "timeseries_example(output_dir)"
   ]
  },
  {
   "cell_type": "code",
   "execution_count": 92,
   "id": "c3f4c925",
   "metadata": {},
   "outputs": [],
   "source": [
    "#Bus CS 14 (0.63 MVA) - trafo id: 2\n",
    "\n",
    "#for i in range (1,41):\n",
    " #   l = str(i)\n",
    "  #  pp.create_load(net, bus=15, p_mw=0.0066, q_mvar=0, name=\"Vehicle \"+l)\n",
    "\n",
    "#Bus CS 11 (0.4 MVA) - trafo id: 3\n",
    "#for i in range (41,60):\n",
    " #   l = str(i)\n",
    "  #  pp.create_load(net, bus=16, p_mw=0.0066, q_mvar=0, name=\"Vehicle \"+l)\n",
    "\n",
    "#Bus CS 5 (0.4 MVA) - trafo id: 4\n",
    "#for i in range (61,80):\n",
    " #   l = str(i)\n",
    "  #  pp.create_load(net, bus=17, p_mw=0.0066, q_mvar=0, name=\"Vehicle \"+l)\n",
    "    \n",
    "#Bus CS 4 (0.25 MVA) - trafo id: 5\n",
    "#for i in range (81,90):\n",
    " #   l = str(i)\n",
    "  #  pp.create_load(net, bus=18, p_mw=0.0066, q_mvar=0, name=\"Vehicle \"+l)\n",
    "    \n",
    "#Bus CS 9 (0.25 MVA)- trafo id: 6\n",
    "#for i in range (91,101):\n",
    " #   l = str(i)\n",
    "  #  pp.create_load(net, bus=19, p_mw=0.0066, q_mvar=0, name=\"Vehicle \"+l)\n",
    "\n",
    "\n"
   ]
  },
  {
   "cell_type": "code",
   "execution_count": 93,
   "id": "63199ad7",
   "metadata": {},
   "outputs": [
    {
     "name": "stdout",
     "output_type": "stream",
     "text": [
      "voltage over maximum\n"
     ]
    }
   ],
   "source": [
    "ll_file = os.path.join(output_dir, \"res_line\", \"loading_percent.xlsx\")\n",
    "line_loading = pd.read_excel(ll_file, index_col=0)\n",
    "\n",
    "if max(line_loading)>100:\n",
    "    print(\"Overloaded lines\")\n",
    "\n",
    "\n",
    "\n",
    "vm_pu_file = os.path.join(output_dir, \"res_bus\", \"vm_pu.xlsx\")\n",
    "vm_pu = pd.read_excel(vm_pu_file, index_col=0)\n",
    "a=vm_pu\n",
    "\n",
    "if max(vm_pu)>max_vm_pu:\n",
    "    print(\"voltage over maximum\")\n",
    "    \n",
    "elif min(vm_pu)<min_vm_pu:\n",
    "        \n",
    "     print(\"voltage below minimum\")\n",
    "        \n",
    "    \n"
   ]
  },
  {
   "cell_type": "code",
   "execution_count": 94,
   "id": "6fec9f65",
   "metadata": {
    "scrolled": false
   },
   "outputs": [
    {
     "name": "stdout",
     "output_type": "stream",
     "text": [
      "400\n",
      "Results can be found in your local temp folder: time_series_ev\n"
     ]
    },
    {
     "name": "stderr",
     "output_type": "stream",
     "text": [
      "\n",
      "  0%|                                                    | 0/24 [00:00<?, ?it/s]\u001b[A\n",
      "100%|███████████████████████████████████████████| 24/24 [00:00<00:00, 85.74it/s]\u001b[A\n"
     ]
    },
    {
     "name": "stdout",
     "output_type": "stream",
     "text": [
      "401\n",
      "Results can be found in your local temp folder: time_series_ev\n"
     ]
    },
    {
     "name": "stderr",
     "output_type": "stream",
     "text": [
      "\n",
      "  0%|                                                    | 0/24 [00:00<?, ?it/s]\u001b[A\n",
      "100%|███████████████████████████████████████████| 24/24 [00:00<00:00, 78.58it/s]\u001b[A\n"
     ]
    },
    {
     "name": "stdout",
     "output_type": "stream",
     "text": [
      "402\n",
      "Results can be found in your local temp folder: time_series_ev\n"
     ]
    },
    {
     "name": "stderr",
     "output_type": "stream",
     "text": [
      "\n",
      "  0%|                                                    | 0/24 [00:00<?, ?it/s]\u001b[A\n",
      "  8%|███▋                                        | 2/24 [00:00<00:01, 19.45it/s]\u001b[A\n",
      "100%|███████████████████████████████████████████| 24/24 [00:00<00:00, 68.64it/s]\u001b[A\n"
     ]
    },
    {
     "name": "stdout",
     "output_type": "stream",
     "text": [
      "403\n",
      "Results can be found in your local temp folder: time_series_ev\n"
     ]
    },
    {
     "name": "stderr",
     "output_type": "stream",
     "text": [
      "\n",
      "  0%|                                                    | 0/24 [00:00<?, ?it/s]\u001b[A\n",
      "  4%|█▊                                          | 1/24 [00:00<00:02,  8.58it/s]\u001b[A\n",
      "100%|███████████████████████████████████████████| 24/24 [00:00<00:00, 48.74it/s]\u001b[A\n"
     ]
    },
    {
     "name": "stdout",
     "output_type": "stream",
     "text": [
      "404\n",
      "Results can be found in your local temp folder: time_series_ev\n"
     ]
    },
    {
     "name": "stderr",
     "output_type": "stream",
     "text": [
      "\n",
      "  0%|                                                    | 0/24 [00:00<?, ?it/s]\u001b[A\n",
      "  4%|█▊                                          | 1/24 [00:00<00:03,  7.02it/s]\u001b[A\n",
      "100%|███████████████████████████████████████████| 24/24 [00:00<00:00, 56.57it/s]\u001b[A\n"
     ]
    },
    {
     "name": "stdout",
     "output_type": "stream",
     "text": [
      "405\n",
      "Results can be found in your local temp folder: time_series_ev\n"
     ]
    },
    {
     "name": "stderr",
     "output_type": "stream",
     "text": [
      "\n",
      "  0%|                                                    | 0/24 [00:00<?, ?it/s]\u001b[A\n",
      "  4%|█▊                                          | 1/24 [00:00<00:03,  5.82it/s]\u001b[A\n",
      "100%|███████████████████████████████████████████| 24/24 [00:00<00:00, 51.32it/s]\u001b[A\n"
     ]
    },
    {
     "name": "stdout",
     "output_type": "stream",
     "text": [
      "406\n",
      "Results can be found in your local temp folder: time_series_ev\n"
     ]
    },
    {
     "name": "stderr",
     "output_type": "stream",
     "text": [
      "\n",
      "  0%|                                                    | 0/24 [00:00<?, ?it/s]\u001b[A\n",
      "  4%|█▊                                          | 1/24 [00:00<00:04,  5.18it/s]\u001b[A\n",
      "100%|███████████████████████████████████████████| 24/24 [00:00<00:00, 48.10it/s]\u001b[A\n"
     ]
    },
    {
     "name": "stdout",
     "output_type": "stream",
     "text": [
      "407\n",
      "Results can be found in your local temp folder: time_series_ev\n"
     ]
    },
    {
     "name": "stderr",
     "output_type": "stream",
     "text": [
      "\n",
      "  0%|                                                    | 0/24 [00:00<?, ?it/s]\u001b[A\n",
      "  4%|█▊                                          | 1/24 [00:00<00:05,  4.26it/s]\u001b[A\n",
      "100%|███████████████████████████████████████████| 24/24 [00:00<00:00, 43.43it/s]\u001b[A\n"
     ]
    },
    {
     "name": "stdout",
     "output_type": "stream",
     "text": [
      "408\n",
      "Results can be found in your local temp folder: time_series_ev\n"
     ]
    },
    {
     "name": "stderr",
     "output_type": "stream",
     "text": [
      "\n",
      "  0%|                                                    | 0/24 [00:00<?, ?it/s]\u001b[A\n",
      "  4%|█▊                                          | 1/24 [00:00<00:05,  4.03it/s]\u001b[A\n",
      "100%|███████████████████████████████████████████| 24/24 [00:00<00:00, 41.42it/s]\u001b[A\n"
     ]
    },
    {
     "name": "stdout",
     "output_type": "stream",
     "text": [
      "409\n",
      "Results can be found in your local temp folder: time_series_ev\n"
     ]
    },
    {
     "name": "stderr",
     "output_type": "stream",
     "text": [
      "\n",
      "  0%|                                                    | 0/24 [00:00<?, ?it/s]\u001b[A\n",
      "  4%|█▊                                          | 1/24 [00:00<00:06,  3.64it/s]\u001b[A\n",
      " 50%|█████████████████████▌                     | 12/24 [00:00<00:00, 39.26it/s]\u001b[A\n",
      "100%|███████████████████████████████████████████| 24/24 [00:00<00:00, 38.88it/s]\u001b[A\n"
     ]
    },
    {
     "name": "stdout",
     "output_type": "stream",
     "text": [
      "410\n",
      "Results can be found in your local temp folder: time_series_ev\n"
     ]
    },
    {
     "name": "stderr",
     "output_type": "stream",
     "text": [
      "\n",
      "  0%|                                                    | 0/24 [00:00<?, ?it/s]\u001b[A\n",
      "  4%|█▊                                          | 1/24 [00:00<00:07,  3.24it/s]\u001b[A\n",
      " 50%|█████████████████████▌                     | 12/24 [00:00<00:00, 36.18it/s]\u001b[A\n",
      "100%|███████████████████████████████████████████| 24/24 [00:00<00:00, 36.44it/s]\u001b[A\n"
     ]
    },
    {
     "name": "stdout",
     "output_type": "stream",
     "text": [
      "411\n",
      "Results can be found in your local temp folder: time_series_ev\n"
     ]
    },
    {
     "name": "stderr",
     "output_type": "stream",
     "text": [
      "\n",
      "  0%|                                                    | 0/24 [00:00<?, ?it/s]\u001b[A\n",
      "  4%|█▊                                          | 1/24 [00:00<00:07,  3.01it/s]\u001b[A\n",
      " 46%|███████████████████▋                       | 11/24 [00:00<00:00, 31.40it/s]\u001b[A\n",
      "100%|███████████████████████████████████████████| 24/24 [00:00<00:00, 34.08it/s]\u001b[A\n"
     ]
    },
    {
     "name": "stdout",
     "output_type": "stream",
     "text": [
      "412\n",
      "Results can be found in your local temp folder: time_series_ev\n"
     ]
    },
    {
     "name": "stderr",
     "output_type": "stream",
     "text": [
      "\n",
      "  0%|                                                    | 0/24 [00:00<?, ?it/s]\u001b[A\n",
      "  4%|█▊                                          | 1/24 [00:00<00:08,  2.80it/s]\u001b[A\n",
      " 46%|███████████████████▋                       | 11/24 [00:00<00:00, 29.80it/s]\u001b[A\n",
      "100%|███████████████████████████████████████████| 24/24 [00:00<00:00, 32.72it/s]\u001b[A\n"
     ]
    },
    {
     "name": "stdout",
     "output_type": "stream",
     "text": [
      "413\n",
      "Results can be found in your local temp folder: time_series_ev\n"
     ]
    },
    {
     "name": "stderr",
     "output_type": "stream",
     "text": [
      "\n",
      "  0%|                                                    | 0/24 [00:00<?, ?it/s]\u001b[A\n",
      "  4%|█▊                                          | 1/24 [00:00<00:09,  2.54it/s]\u001b[A\n",
      " 38%|████████████████▌                           | 9/24 [00:00<00:00, 22.98it/s]\u001b[A\n",
      "100%|███████████████████████████████████████████| 24/24 [00:00<00:00, 27.21it/s]\u001b[A\n"
     ]
    },
    {
     "name": "stdout",
     "output_type": "stream",
     "text": [
      "414\n",
      "Results can be found in your local temp folder: time_series_ev\n"
     ]
    },
    {
     "name": "stderr",
     "output_type": "stream",
     "text": [
      "\n",
      "  0%|                                                    | 0/24 [00:00<?, ?it/s]\u001b[A\n",
      "  4%|█▊                                          | 1/24 [00:00<00:09,  2.38it/s]\u001b[A\n",
      " 33%|██████████████▋                             | 8/24 [00:00<00:00, 19.48it/s]\u001b[A\n",
      " 67%|████████████████████████████▋              | 16/24 [00:00<00:00, 35.33it/s]\u001b[A\n",
      "100%|███████████████████████████████████████████| 24/24 [00:00<00:00, 25.45it/s]\u001b[A\n"
     ]
    },
    {
     "name": "stdout",
     "output_type": "stream",
     "text": [
      "415\n",
      "Results can be found in your local temp folder: time_series_ev\n"
     ]
    },
    {
     "name": "stderr",
     "output_type": "stream",
     "text": [
      "\n",
      "  0%|                                                    | 0/24 [00:00<?, ?it/s]\u001b[A\n",
      "  4%|█▊                                          | 1/24 [00:00<00:10,  2.12it/s]\u001b[A\n",
      " 38%|████████████████▌                           | 9/24 [00:00<00:00, 20.11it/s]\u001b[A\n",
      "100%|███████████████████████████████████████████| 24/24 [00:00<00:00, 26.96it/s]\u001b[A\n"
     ]
    },
    {
     "name": "stdout",
     "output_type": "stream",
     "text": [
      "416\n",
      "Results can be found in your local temp folder: time_series_ev\n"
     ]
    },
    {
     "name": "stderr",
     "output_type": "stream",
     "text": [
      "\n",
      "  0%|                                                    | 0/24 [00:00<?, ?it/s]\u001b[A\n",
      "  4%|█▊                                          | 1/24 [00:00<00:10,  2.15it/s]\u001b[A\n",
      " 38%|████████████████▌                           | 9/24 [00:00<00:00, 20.19it/s]\u001b[A\n",
      "100%|███████████████████████████████████████████| 24/24 [00:00<00:00, 26.96it/s]\u001b[A\n"
     ]
    },
    {
     "name": "stdout",
     "output_type": "stream",
     "text": [
      "417\n",
      "Results can be found in your local temp folder: time_series_ev\n"
     ]
    },
    {
     "name": "stderr",
     "output_type": "stream",
     "text": [
      "\n",
      "  0%|                                                    | 0/24 [00:00<?, ?it/s]\u001b[A\n",
      "  4%|█▊                                          | 1/24 [00:00<00:11,  1.99it/s]\u001b[A\n",
      " 33%|██████████████▋                             | 8/24 [00:00<00:00, 16.54it/s]\u001b[A\n",
      " 67%|████████████████████████████▋              | 16/24 [00:00<00:00, 30.87it/s]\u001b[A\n",
      "100%|███████████████████████████████████████████| 24/24 [00:00<00:00, 24.89it/s]\u001b[A\n"
     ]
    },
    {
     "name": "stdout",
     "output_type": "stream",
     "text": [
      "418\n",
      "Results can be found in your local temp folder: time_series_ev\n"
     ]
    },
    {
     "name": "stderr",
     "output_type": "stream",
     "text": [
      "\n",
      "  0%|                                                    | 0/24 [00:00<?, ?it/s]\u001b[A\n",
      "  4%|█▊                                          | 1/24 [00:00<00:11,  1.94it/s]\u001b[A\n",
      " 38%|████████████████▌                           | 9/24 [00:00<00:00, 18.35it/s]\u001b[A\n",
      "100%|███████████████████████████████████████████| 24/24 [00:00<00:00, 24.91it/s]\u001b[A\n"
     ]
    },
    {
     "name": "stdout",
     "output_type": "stream",
     "text": [
      "419\n",
      "Results can be found in your local temp folder: time_series_ev\n"
     ]
    },
    {
     "name": "stderr",
     "output_type": "stream",
     "text": [
      "\n",
      "  0%|                                                    | 0/24 [00:00<?, ?it/s]\u001b[A\n",
      "  4%|█▊                                          | 1/24 [00:00<00:12,  1.84it/s]\u001b[A\n",
      " 33%|██████████████▋                             | 8/24 [00:00<00:01, 15.88it/s]\u001b[A\n",
      " 67%|████████████████████████████▋              | 16/24 [00:00<00:00, 29.60it/s]\u001b[A\n",
      "100%|███████████████████████████████████████████| 24/24 [00:01<00:00, 23.80it/s]\u001b[A\n"
     ]
    },
    {
     "name": "stdout",
     "output_type": "stream",
     "text": [
      "420\n",
      "Results can be found in your local temp folder: time_series_ev\n"
     ]
    },
    {
     "name": "stderr",
     "output_type": "stream",
     "text": [
      "\n",
      "  0%|                                                    | 0/24 [00:00<?, ?it/s]\u001b[A\n",
      "  4%|█▊                                          | 1/24 [00:00<00:13,  1.76it/s]\u001b[A\n",
      " 33%|██████████████▋                             | 8/24 [00:00<00:01, 15.23it/s]\u001b[A\n",
      " 62%|██████████████████████████▉                | 15/24 [00:00<00:00, 27.13it/s]\u001b[A\n",
      "100%|███████████████████████████████████████████| 24/24 [00:01<00:00, 22.91it/s]\u001b[A\n"
     ]
    },
    {
     "name": "stdout",
     "output_type": "stream",
     "text": [
      "421\n",
      "Results can be found in your local temp folder: time_series_ev\n"
     ]
    },
    {
     "name": "stderr",
     "output_type": "stream",
     "text": [
      "\n",
      "  0%|                                                    | 0/24 [00:00<?, ?it/s]\u001b[A\n",
      "  4%|█▊                                          | 1/24 [00:00<00:13,  1.66it/s]\u001b[A\n",
      " 33%|██████████████▋                             | 8/24 [00:00<00:01, 14.36it/s]\u001b[A\n",
      " 62%|██████████████████████████▉                | 15/24 [00:00<00:00, 25.63it/s]\u001b[A\n",
      "100%|███████████████████████████████████████████| 24/24 [00:01<00:00, 21.77it/s]\u001b[A\n"
     ]
    },
    {
     "name": "stdout",
     "output_type": "stream",
     "text": [
      "422\n",
      "Results can be found in your local temp folder: time_series_ev\n"
     ]
    },
    {
     "name": "stderr",
     "output_type": "stream",
     "text": [
      "\n",
      "  0%|                                                    | 0/24 [00:00<?, ?it/s]\u001b[A\n",
      "  4%|█▊                                          | 1/24 [00:00<00:14,  1.61it/s]\u001b[A\n",
      " 33%|██████████████▋                             | 8/24 [00:00<00:01, 14.01it/s]\u001b[A\n",
      " 62%|██████████████████████████▉                | 15/24 [00:00<00:00, 25.07it/s]\u001b[A\n",
      "100%|███████████████████████████████████████████| 24/24 [00:01<00:00, 21.39it/s]\u001b[A\n"
     ]
    },
    {
     "name": "stdout",
     "output_type": "stream",
     "text": [
      "423\n",
      "Results can be found in your local temp folder: time_series_ev\n"
     ]
    },
    {
     "name": "stderr",
     "output_type": "stream",
     "text": [
      "\n",
      "  0%|                                                    | 0/24 [00:00<?, ?it/s]\u001b[A\n",
      "  4%|█▊                                          | 1/24 [00:00<00:14,  1.55it/s]\u001b[A\n",
      " 29%|████████████▊                               | 7/24 [00:00<00:01, 12.11it/s]\u001b[A\n",
      " 58%|█████████████████████████                  | 14/24 [00:00<00:00, 23.38it/s]\u001b[A\n",
      "100%|███████████████████████████████████████████| 24/24 [00:01<00:00, 20.73it/s]\u001b[A\n"
     ]
    },
    {
     "name": "stdout",
     "output_type": "stream",
     "text": [
      "424\n",
      "Results can be found in your local temp folder: time_series_ev\n"
     ]
    },
    {
     "name": "stderr",
     "output_type": "stream",
     "text": [
      "\n",
      "  0%|                                                    | 0/24 [00:00<?, ?it/s]\u001b[A\n",
      "  4%|█▊                                          | 1/24 [00:00<00:15,  1.49it/s]\u001b[A\n",
      " 29%|████████████▊                               | 7/24 [00:00<00:01, 11.62it/s]\u001b[A\n",
      " 54%|███████████████████████▎                   | 13/24 [00:00<00:00, 21.22it/s]\u001b[A\n",
      "100%|███████████████████████████████████████████| 24/24 [00:01<00:00, 18.50it/s]\u001b[A\n"
     ]
    },
    {
     "name": "stdout",
     "output_type": "stream",
     "text": [
      "425\n",
      "Results can be found in your local temp folder: time_series_ev\n"
     ]
    },
    {
     "name": "stderr",
     "output_type": "stream",
     "text": [
      "\n",
      "  0%|                                                    | 0/24 [00:00<?, ?it/s]\u001b[A\n",
      "  4%|█▊                                          | 1/24 [00:00<00:16,  1.43it/s]\u001b[A\n",
      " 29%|████████████▊                               | 7/24 [00:00<00:01, 11.01it/s]\u001b[A\n",
      " 54%|███████████████████████▎                   | 13/24 [00:00<00:00, 19.86it/s]\u001b[A\n",
      "100%|███████████████████████████████████████████| 24/24 [00:01<00:00, 18.86it/s]\u001b[A\n"
     ]
    },
    {
     "name": "stdout",
     "output_type": "stream",
     "text": [
      "426\n",
      "Results can be found in your local temp folder: time_series_ev\n"
     ]
    },
    {
     "name": "stderr",
     "output_type": "stream",
     "text": [
      "\n",
      "  0%|                                                    | 0/24 [00:00<?, ?it/s]\u001b[A\n",
      "  4%|█▊                                          | 1/24 [00:00<00:17,  1.32it/s]\u001b[A\n",
      " 29%|████████████▊                               | 7/24 [00:00<00:01, 10.37it/s]\u001b[A\n",
      " 54%|███████████████████████▎                   | 13/24 [00:00<00:00, 19.04it/s]\u001b[A\n",
      "100%|███████████████████████████████████████████| 24/24 [00:01<00:00, 18.24it/s]\u001b[A\n"
     ]
    },
    {
     "name": "stdout",
     "output_type": "stream",
     "text": [
      "427\n",
      "Results can be found in your local temp folder: time_series_ev\n"
     ]
    },
    {
     "name": "stderr",
     "output_type": "stream",
     "text": [
      "\n",
      "  0%|                                                    | 0/24 [00:00<?, ?it/s]\u001b[A\n",
      "  4%|█▊                                          | 1/24 [00:00<00:17,  1.28it/s]\u001b[A\n",
      " 25%|███████████                                 | 6/24 [00:00<00:02,  8.77it/s]\u001b[A\n",
      " 50%|█████████████████████▌                     | 12/24 [00:01<00:00, 17.49it/s]\u001b[A\n",
      " 75%|████████████████████████████████▎          | 18/24 [00:01<00:00, 25.35it/s]\u001b[A\n",
      "100%|███████████████████████████████████████████| 24/24 [00:01<00:00, 17.45it/s]\u001b[A\n"
     ]
    },
    {
     "name": "stdout",
     "output_type": "stream",
     "text": [
      "428\n",
      "Results can be found in your local temp folder: time_series_ev\n"
     ]
    },
    {
     "name": "stderr",
     "output_type": "stream",
     "text": [
      "\n",
      "  0%|                                                    | 0/24 [00:00<?, ?it/s]\u001b[A\n",
      "  4%|█▊                                          | 1/24 [00:00<00:17,  1.29it/s]\u001b[A\n",
      " 25%|███████████                                 | 6/24 [00:00<00:02,  8.84it/s]\u001b[A\n",
      " 50%|█████████████████████▌                     | 12/24 [00:00<00:00, 17.67it/s]\u001b[A\n",
      " 75%|████████████████████████████████▎          | 18/24 [00:01<00:00, 25.59it/s]\u001b[A\n",
      "100%|███████████████████████████████████████████| 24/24 [00:01<00:00, 17.64it/s]\u001b[A\n"
     ]
    },
    {
     "name": "stdout",
     "output_type": "stream",
     "text": [
      "429\n",
      "Results can be found in your local temp folder: time_series_ev\n"
     ]
    },
    {
     "name": "stderr",
     "output_type": "stream",
     "text": [
      "\n",
      "  0%|                                                    | 0/24 [00:00<?, ?it/s]\u001b[A\n",
      "  4%|█▊                                          | 1/24 [00:00<00:18,  1.25it/s]\u001b[A\n",
      " 25%|███████████                                 | 6/24 [00:00<00:02,  8.63it/s]\u001b[A\n",
      " 50%|█████████████████████▌                     | 12/24 [00:01<00:00, 17.26it/s]\u001b[A\n",
      " 75%|████████████████████████████████▎          | 18/24 [00:01<00:00, 24.93it/s]\u001b[A\n",
      "100%|███████████████████████████████████████████| 24/24 [00:01<00:00, 17.25it/s]\u001b[A\n"
     ]
    },
    {
     "name": "stdout",
     "output_type": "stream",
     "text": [
      "430\n",
      "Results can be found in your local temp folder: time_series_ev\n"
     ]
    },
    {
     "name": "stderr",
     "output_type": "stream",
     "text": [
      "\n",
      "  0%|                                                    | 0/24 [00:00<?, ?it/s]\u001b[A\n",
      "  4%|█▊                                          | 1/24 [00:00<00:19,  1.21it/s]\u001b[A\n",
      " 25%|███████████                                 | 6/24 [00:00<00:02,  8.32it/s]\u001b[A\n",
      " 46%|███████████████████▋                       | 11/24 [00:01<00:00, 15.50it/s]\u001b[A\n",
      " 67%|████████████████████████████▋              | 16/24 [00:01<00:00, 22.31it/s]\u001b[A\n",
      "100%|███████████████████████████████████████████| 24/24 [00:01<00:00, 16.74it/s]\u001b[A\n"
     ]
    },
    {
     "name": "stdout",
     "output_type": "stream",
     "text": [
      "431\n",
      "Results can be found in your local temp folder: time_series_ev\n"
     ]
    },
    {
     "name": "stderr",
     "output_type": "stream",
     "text": [
      "\n",
      "  0%|                                                    | 0/24 [00:00<?, ?it/s]\u001b[A\n",
      "  4%|█▊                                          | 1/24 [00:00<00:19,  1.18it/s]\u001b[A\n",
      " 25%|███████████                                 | 6/24 [00:00<00:02,  8.13it/s]\u001b[A\n",
      " 46%|███████████████████▋                       | 11/24 [00:01<00:00, 15.16it/s]\u001b[A\n",
      " 67%|████████████████████████████▋              | 16/24 [00:01<00:00, 21.84it/s]\u001b[A\n",
      "100%|███████████████████████████████████████████| 24/24 [00:01<00:00, 16.38it/s]\u001b[A\n"
     ]
    },
    {
     "name": "stdout",
     "output_type": "stream",
     "text": [
      "432\n",
      "Results can be found in your local temp folder: time_series_ev\n"
     ]
    },
    {
     "name": "stderr",
     "output_type": "stream",
     "text": [
      "\n",
      "  0%|                                                    | 0/24 [00:00<?, ?it/s]\u001b[A\n",
      "  4%|█▊                                          | 1/24 [00:00<00:20,  1.15it/s]\u001b[A\n",
      " 25%|███████████                                 | 6/24 [00:00<00:02,  7.92it/s]\u001b[A\n",
      " 46%|███████████████████▋                       | 11/24 [00:01<00:00, 14.80it/s]\u001b[A\n",
      " 67%|████████████████████████████▋              | 16/24 [00:01<00:00, 21.32it/s]\u001b[A\n",
      "100%|███████████████████████████████████████████| 24/24 [00:01<00:00, 16.02it/s]\u001b[A\n"
     ]
    },
    {
     "name": "stdout",
     "output_type": "stream",
     "text": [
      "433\n",
      "Results can be found in your local temp folder: time_series_ev\n"
     ]
    },
    {
     "name": "stderr",
     "output_type": "stream",
     "text": [
      "\n",
      "  0%|                                                    | 0/24 [00:00<?, ?it/s]\u001b[A\n",
      "  4%|█▊                                          | 1/24 [00:00<00:20,  1.11it/s]\u001b[A\n",
      " 25%|███████████                                 | 6/24 [00:01<00:02,  7.70it/s]\u001b[A\n",
      " 46%|███████████████████▋                       | 11/24 [00:01<00:00, 14.38it/s]\u001b[A\n",
      " 67%|████████████████████████████▋              | 16/24 [00:01<00:00, 20.79it/s]\u001b[A\n",
      "100%|███████████████████████████████████████████| 24/24 [00:01<00:00, 15.65it/s]\u001b[A\n"
     ]
    },
    {
     "name": "stdout",
     "output_type": "stream",
     "text": [
      "434\n",
      "Results can be found in your local temp folder: time_series_ev\n"
     ]
    },
    {
     "name": "stderr",
     "output_type": "stream",
     "text": [
      "\n",
      "  0%|                                                    | 0/24 [00:00<?, ?it/s]\u001b[A\n",
      "  4%|█▊                                          | 1/24 [00:00<00:22,  1.04it/s]\u001b[A\n",
      " 25%|███████████                                 | 6/24 [00:01<00:02,  7.26it/s]\u001b[A\n",
      " 46%|███████████████████▋                       | 11/24 [00:01<00:00, 13.65it/s]\u001b[A\n",
      " 67%|████████████████████████████▋              | 16/24 [00:01<00:00, 19.83it/s]\u001b[A\n",
      "100%|███████████████████████████████████████████| 24/24 [00:01<00:00, 14.29it/s]\u001b[A\n"
     ]
    },
    {
     "name": "stdout",
     "output_type": "stream",
     "text": [
      "435\n",
      "Results can be found in your local temp folder: time_series_ev\n"
     ]
    },
    {
     "name": "stderr",
     "output_type": "stream",
     "text": [
      "\n",
      "  0%|                                                    | 0/24 [00:00<?, ?it/s]\u001b[A\n",
      "  4%|█▊                                          | 1/24 [00:00<00:22,  1.02it/s]\u001b[A\n",
      " 25%|███████████                                 | 6/24 [00:01<00:02,  7.12it/s]\u001b[A\n",
      " 46%|███████████████████▋                       | 11/24 [00:01<00:00, 13.36it/s]\u001b[A\n",
      " 67%|████████████████████████████▋              | 16/24 [00:01<00:00, 19.41it/s]\u001b[A\n",
      "100%|███████████████████████████████████████████| 24/24 [00:01<00:00, 14.63it/s]\u001b[A\n"
     ]
    },
    {
     "name": "stdout",
     "output_type": "stream",
     "text": [
      "436\n",
      "Results can be found in your local temp folder: time_series_ev\n"
     ]
    },
    {
     "name": "stderr",
     "output_type": "stream",
     "text": [
      "\n",
      "  0%|                                                    | 0/24 [00:00<?, ?it/s]\u001b[A\n",
      "  4%|█▊                                          | 1/24 [00:01<00:23,  1.03s/it]\u001b[A\n",
      " 21%|█████████▏                                  | 5/24 [00:01<00:03,  5.70it/s]\u001b[A\n",
      " 42%|█████████████████▉                         | 10/24 [00:01<00:01, 11.93it/s]\u001b[A\n",
      " 62%|██████████████████████████▉                | 15/24 [00:01<00:00, 17.94it/s]\u001b[A\n",
      "100%|███████████████████████████████████████████| 24/24 [00:01<00:00, 13.93it/s]\u001b[A\n"
     ]
    },
    {
     "name": "stdout",
     "output_type": "stream",
     "text": [
      "437\n",
      "Results can be found in your local temp folder: time_series_ev\n"
     ]
    },
    {
     "name": "stderr",
     "output_type": "stream",
     "text": [
      "\n",
      "  0%|                                                    | 0/24 [00:00<?, ?it/s]\u001b[A\n",
      "  4%|█▊                                          | 1/24 [00:01<00:23,  1.03s/it]\u001b[A\n",
      " 21%|█████████▏                                  | 5/24 [00:01<00:03,  5.70it/s]\u001b[A\n",
      " 42%|█████████████████▉                         | 10/24 [00:01<00:01, 11.93it/s]\u001b[A\n",
      " 62%|██████████████████████████▉                | 15/24 [00:01<00:00, 17.90it/s]\u001b[A\n",
      "100%|███████████████████████████████████████████| 24/24 [00:01<00:00, 13.91it/s]\u001b[A\n"
     ]
    },
    {
     "name": "stdout",
     "output_type": "stream",
     "text": [
      "438\n",
      "Results can be found in your local temp folder: time_series_ev\n"
     ]
    },
    {
     "name": "stderr",
     "output_type": "stream",
     "text": [
      "\n",
      "  0%|                                                    | 0/24 [00:00<?, ?it/s]\u001b[A\n",
      "  4%|█▊                                          | 1/24 [00:01<00:24,  1.06s/it]\u001b[A\n",
      " 21%|█████████▏                                  | 5/24 [00:01<00:03,  5.55it/s]\u001b[A\n",
      " 42%|█████████████████▉                         | 10/24 [00:01<00:01, 11.64it/s]\u001b[A\n",
      " 62%|██████████████████████████▉                | 15/24 [00:01<00:00, 17.49it/s]\u001b[A\n",
      "100%|███████████████████████████████████████████| 24/24 [00:01<00:00, 13.61it/s]\u001b[A\n"
     ]
    },
    {
     "name": "stdout",
     "output_type": "stream",
     "text": [
      "439\n",
      "Results can be found in your local temp folder: time_series_ev\n"
     ]
    },
    {
     "name": "stderr",
     "output_type": "stream",
     "text": [
      "\n",
      "  0%|                                                    | 0/24 [00:00<?, ?it/s]\u001b[A\n",
      "  4%|█▊                                          | 1/24 [00:01<00:24,  1.09s/it]\u001b[A\n",
      " 21%|█████████▏                                  | 5/24 [00:01<00:03,  5.45it/s]\u001b[A\n",
      " 42%|█████████████████▉                         | 10/24 [00:01<00:01, 11.43it/s]\u001b[A\n",
      " 62%|██████████████████████████▉                | 15/24 [00:01<00:00, 17.18it/s]\u001b[A\n",
      "100%|███████████████████████████████████████████| 24/24 [00:01<00:00, 13.37it/s]\u001b[A\n"
     ]
    },
    {
     "name": "stdout",
     "output_type": "stream",
     "text": [
      "440\n",
      "Results can be found in your local temp folder: time_series_ev\n"
     ]
    },
    {
     "name": "stderr",
     "output_type": "stream",
     "text": [
      "\n",
      "  0%|                                                    | 0/24 [00:00<?, ?it/s]\u001b[A\n",
      "  4%|█▊                                          | 1/24 [00:01<00:25,  1.11s/it]\u001b[A\n",
      " 21%|█████████▏                                  | 5/24 [00:01<00:03,  5.33it/s]\u001b[A\n",
      " 38%|████████████████▌                           | 9/24 [00:01<00:01, 10.16it/s]\u001b[A\n",
      " 54%|███████████████████████▎                   | 13/24 [00:01<00:00, 15.09it/s]\u001b[A\n",
      " 75%|████████████████████████████████▎          | 18/24 [00:01<00:00, 20.85it/s]\u001b[A\n",
      "100%|███████████████████████████████████████████| 24/24 [00:01<00:00, 13.07it/s]\u001b[A\n"
     ]
    },
    {
     "name": "stdout",
     "output_type": "stream",
     "text": [
      "441\n",
      "Results can be found in your local temp folder: time_series_ev\n"
     ]
    },
    {
     "name": "stderr",
     "output_type": "stream",
     "text": [
      "\n",
      "  0%|                                                    | 0/24 [00:00<?, ?it/s]\u001b[A\n",
      "  4%|█▊                                          | 1/24 [00:01<00:26,  1.14s/it]\u001b[A\n",
      " 21%|█████████▏                                  | 5/24 [00:01<00:03,  5.22it/s]\u001b[A\n",
      " 38%|████████████████▌                           | 9/24 [00:01<00:01,  9.95it/s]\u001b[A\n",
      " 54%|███████████████████████▎                   | 13/24 [00:01<00:00, 14.83it/s]\u001b[A\n",
      " 71%|██████████████████████████████▍            | 17/24 [00:01<00:00, 19.53it/s]\u001b[A\n",
      "100%|███████████████████████████████████████████| 24/24 [00:01<00:00, 12.82it/s]\u001b[A\n"
     ]
    },
    {
     "name": "stdout",
     "output_type": "stream",
     "text": [
      "442\n",
      "Results can be found in your local temp folder: time_series_ev\n"
     ]
    },
    {
     "name": "stderr",
     "output_type": "stream",
     "text": [
      "\n",
      "  0%|                                                    | 0/24 [00:00<?, ?it/s]\u001b[A\n",
      "  4%|█▊                                          | 1/24 [00:01<00:27,  1.18s/it]\u001b[A\n",
      " 21%|█████████▏                                  | 5/24 [00:01<00:03,  5.04it/s]\u001b[A\n",
      " 38%|████████████████▌                           | 9/24 [00:01<00:01,  9.64it/s]\u001b[A\n",
      " 54%|███████████████████████▎                   | 13/24 [00:01<00:00, 14.39it/s]\u001b[A\n",
      " 71%|██████████████████████████████▍            | 17/24 [00:01<00:00, 19.00it/s]\u001b[A\n",
      "100%|███████████████████████████████████████████| 24/24 [00:01<00:00, 12.48it/s]\u001b[A\n"
     ]
    },
    {
     "name": "stdout",
     "output_type": "stream",
     "text": [
      "443\n",
      "Results can be found in your local temp folder: time_series_ev\n"
     ]
    },
    {
     "name": "stderr",
     "output_type": "stream",
     "text": [
      "\n",
      "  0%|                                                    | 0/24 [00:00<?, ?it/s]\u001b[A\n",
      "  4%|█▊                                          | 1/24 [00:01<00:27,  1.19s/it]\u001b[A\n",
      " 21%|█████████▏                                  | 5/24 [00:01<00:03,  4.99it/s]\u001b[A\n",
      " 38%|████████████████▌                           | 9/24 [00:01<00:01,  9.54it/s]\u001b[A\n",
      " 54%|███████████████████████▎                   | 13/24 [00:01<00:00, 14.21it/s]\u001b[A\n",
      " 71%|██████████████████████████████▍            | 17/24 [00:01<00:00, 18.76it/s]\u001b[A\n",
      "100%|███████████████████████████████████████████| 24/24 [00:01<00:00, 12.34it/s]\u001b[A\n"
     ]
    },
    {
     "name": "stdout",
     "output_type": "stream",
     "text": [
      "444\n",
      "Results can be found in your local temp folder: time_series_ev\n"
     ]
    },
    {
     "name": "stderr",
     "output_type": "stream",
     "text": [
      "\n",
      "  0%|                                                    | 0/24 [00:00<?, ?it/s]\u001b[A\n",
      "  4%|█▊                                          | 1/24 [00:01<00:27,  1.22s/it]\u001b[A\n",
      " 21%|█████████▏                                  | 5/24 [00:01<00:03,  4.87it/s]\u001b[A\n",
      " 38%|████████████████▌                           | 9/24 [00:01<00:01,  9.30it/s]\u001b[A\n",
      " 54%|███████████████████████▎                   | 13/24 [00:01<00:00, 13.85it/s]\u001b[A\n",
      " 71%|██████████████████████████████▍            | 17/24 [00:01<00:00, 18.25it/s]\u001b[A\n",
      "100%|███████████████████████████████████████████| 24/24 [00:02<00:00, 11.63it/s]\u001b[A\n"
     ]
    },
    {
     "name": "stdout",
     "output_type": "stream",
     "text": [
      "445\n",
      "Results can be found in your local temp folder: time_series_ev\n"
     ]
    },
    {
     "name": "stderr",
     "output_type": "stream",
     "text": [
      "\n",
      "  0%|                                                    | 0/24 [00:00<?, ?it/s]\u001b[A\n",
      "  4%|█▊                                          | 1/24 [00:01<00:28,  1.24s/it]\u001b[A\n",
      " 21%|█████████▏                                  | 5/24 [00:01<00:03,  4.76it/s]\u001b[A\n",
      " 38%|████████████████▌                           | 9/24 [00:01<00:01,  9.07it/s]\u001b[A\n",
      " 54%|███████████████████████▎                   | 13/24 [00:01<00:00, 13.55it/s]\u001b[A\n",
      " 71%|██████████████████████████████▍            | 17/24 [00:01<00:00, 17.86it/s]\u001b[A\n",
      "100%|███████████████████████████████████████████| 24/24 [00:02<00:00, 11.79it/s]\u001b[A\n"
     ]
    },
    {
     "name": "stdout",
     "output_type": "stream",
     "text": [
      "446\n",
      "Results can be found in your local temp folder: time_series_ev\n"
     ]
    },
    {
     "name": "stderr",
     "output_type": "stream",
     "text": [
      "\n",
      "  0%|                                                    | 0/24 [00:00<?, ?it/s]\u001b[A\n",
      "  4%|█▊                                          | 1/24 [00:01<00:29,  1.27s/it]\u001b[A\n",
      " 21%|█████████▏                                  | 5/24 [00:01<00:04,  4.69it/s]\u001b[A\n",
      " 38%|████████████████▌                           | 9/24 [00:01<00:01,  8.91it/s]\u001b[A\n",
      " 54%|███████████████████████▎                   | 13/24 [00:01<00:00, 13.18it/s]\u001b[A\n",
      " 71%|██████████████████████████████▍            | 17/24 [00:01<00:00, 17.17it/s]\u001b[A\n",
      "100%|███████████████████████████████████████████| 24/24 [00:02<00:00, 11.42it/s]\u001b[A\n"
     ]
    },
    {
     "name": "stdout",
     "output_type": "stream",
     "text": [
      "447\n",
      "Results can be found in your local temp folder: time_series_ev\n"
     ]
    },
    {
     "name": "stderr",
     "output_type": "stream",
     "text": [
      "\n",
      "  0%|                                                    | 0/24 [00:00<?, ?it/s]\u001b[A\n",
      "  4%|█▊                                          | 1/24 [00:01<00:29,  1.30s/it]\u001b[A\n",
      " 21%|█████████▏                                  | 5/24 [00:01<00:04,  4.58it/s]\u001b[A\n",
      " 38%|████████████████▌                           | 9/24 [00:01<00:01,  8.74it/s]\u001b[A\n",
      " 54%|███████████████████████▎                   | 13/24 [00:01<00:00, 13.04it/s]\u001b[A\n",
      " 71%|██████████████████████████████▍            | 17/24 [00:01<00:00, 17.21it/s]\u001b[A\n",
      "100%|███████████████████████████████████████████| 24/24 [00:02<00:00, 11.36it/s]\u001b[A\n"
     ]
    },
    {
     "name": "stdout",
     "output_type": "stream",
     "text": [
      "448\n",
      "Results can be found in your local temp folder: time_series_ev\n"
     ]
    },
    {
     "name": "stderr",
     "output_type": "stream",
     "text": [
      "\n",
      "  0%|                                                    | 0/24 [00:00<?, ?it/s]\u001b[A\n",
      "  4%|█▊                                          | 1/24 [00:01<00:30,  1.33s/it]\u001b[A\n",
      " 21%|█████████▏                                  | 5/24 [00:01<00:04,  4.45it/s]\u001b[A\n",
      " 38%|████████████████▌                           | 9/24 [00:01<00:01,  8.45it/s]\u001b[A\n",
      " 54%|███████████████████████▎                   | 13/24 [00:01<00:00, 12.53it/s]\u001b[A\n",
      " 71%|██████████████████████████████▍            | 17/24 [00:01<00:00, 16.42it/s]\u001b[A\n",
      "100%|███████████████████████████████████████████| 24/24 [00:02<00:00, 10.93it/s]\u001b[A\n"
     ]
    },
    {
     "name": "stdout",
     "output_type": "stream",
     "text": [
      "449\n",
      "Results can be found in your local temp folder: time_series_ev\n"
     ]
    },
    {
     "name": "stderr",
     "output_type": "stream",
     "text": [
      "\n",
      "  0%|                                                    | 0/24 [00:00<?, ?it/s]\u001b[A\n",
      "  4%|█▊                                          | 1/24 [00:01<00:31,  1.35s/it]\u001b[A\n",
      " 21%|█████████▏                                  | 5/24 [00:01<00:04,  4.40it/s]\u001b[A\n",
      " 38%|████████████████▌                           | 9/24 [00:01<00:01,  8.42it/s]\u001b[A\n",
      " 54%|███████████████████████▎                   | 13/24 [00:01<00:00, 12.57it/s]\u001b[A\n",
      " 71%|██████████████████████████████▍            | 17/24 [00:01<00:00, 16.60it/s]\u001b[A\n",
      "100%|███████████████████████████████████████████| 24/24 [00:02<00:00, 10.98it/s]\u001b[A\n"
     ]
    },
    {
     "name": "stdout",
     "output_type": "stream",
     "text": [
      "450\n",
      "Results can be found in your local temp folder: time_series_ev\n"
     ]
    },
    {
     "name": "stderr",
     "output_type": "stream",
     "text": [
      "\n",
      "  0%|                                                    | 0/24 [00:00<?, ?it/s]\u001b[A\n",
      "  4%|█▊                                          | 1/24 [00:01<00:31,  1.37s/it]\u001b[A\n",
      " 21%|█████████▏                                  | 5/24 [00:01<00:04,  4.33it/s]\u001b[A\n",
      " 38%|████████████████▌                           | 9/24 [00:01<00:01,  8.27it/s]\u001b[A\n",
      " 54%|███████████████████████▎                   | 13/24 [00:01<00:00, 12.36it/s]\u001b[A\n",
      " 71%|██████████████████████████████▍            | 17/24 [00:01<00:00, 16.32it/s]\u001b[A\n",
      "100%|███████████████████████████████████████████| 24/24 [00:02<00:00, 10.81it/s]\u001b[A"
     ]
    },
    {
     "name": "stdout",
     "output_type": "stream",
     "text": [
      "no maximum has been found\n"
     ]
    },
    {
     "name": "stderr",
     "output_type": "stream",
     "text": [
      "\n"
     ]
    }
   ],
   "source": [
    "#Bus CS 14 (0.63 MVA) - trafo id: 2\n",
    "\n",
    "for i in range (1,400):\n",
    "    l = str(i)\n",
    "    pp.create_load(net, bus=15, p_mw=0.0066, q_mvar=0, name=\"Vehicle \"+l)\n",
    "\n",
    "c=i\n",
    "while all(vm_pu.max())<max_vm_pu and all(line_loading.max())<100 and all(vm_pu.min())>min_vm_pu and c<450:\n",
    "    \n",
    "    c=c+1\n",
    "    print(c)\n",
    "    k=str(c)\n",
    "    pp.create_load(net, bus=15, p_mw=0.0066, q_mvar=0, name=\"Vehicle \"+k)\n",
    "    \n",
    "    output_dir = os.path.join(\"time_series_ev\")\n",
    "    print(\"Results can be found in your local temp folder: {}\".format(output_dir))\n",
    "    if not os.path.exists(output_dir):\n",
    "        os.mkdir(output_dir)\n",
    "    timeseries_example(output_dir)\n",
    "\n",
    "    ll_file = os.path.join(output_dir, \"res_line\", \"loading_percent.xlsx\")\n",
    "    line_loading = pd.read_excel(ll_file, index_col=0)\n",
    "    \n",
    "    vm_pu_file = os.path.join(output_dir, \"res_bus\", \"vm_pu.xlsx\")\n",
    "    vm_pu = pd.read_excel(vm_pu_file, index_col=0)\n",
    "\n",
    "    if any(line_loading.max())>100:\n",
    "        print(\"Overloaded lines\")\n",
    "\n",
    "    elif any(vm_pu.max())>max_vm_pu:\n",
    "        print(\"voltage over maximum\")\n",
    "\n",
    "    elif any(vm_pu.min())<min_vm_pu:\n",
    "         print(\"voltage below minimum\")\n",
    "            \n",
    "    elif c==450:\n",
    "        print(\"no maximum has been found\")\n",
    "\n"
   ]
  },
  {
   "cell_type": "code",
   "execution_count": 95,
   "id": "b097c312",
   "metadata": {},
   "outputs": [
    {
     "data": {
      "text/html": [
       "<div>\n",
       "<style scoped>\n",
       "    .dataframe tbody tr th:only-of-type {\n",
       "        vertical-align: middle;\n",
       "    }\n",
       "\n",
       "    .dataframe tbody tr th {\n",
       "        vertical-align: top;\n",
       "    }\n",
       "\n",
       "    .dataframe thead th {\n",
       "        text-align: right;\n",
       "    }\n",
       "</style>\n",
       "<table border=\"1\" class=\"dataframe\">\n",
       "  <thead>\n",
       "    <tr style=\"text-align: right;\">\n",
       "      <th></th>\n",
       "      <th>0</th>\n",
       "      <th>1</th>\n",
       "      <th>2</th>\n",
       "      <th>3</th>\n",
       "      <th>4</th>\n",
       "      <th>5</th>\n",
       "      <th>6</th>\n",
       "      <th>7</th>\n",
       "      <th>8</th>\n",
       "      <th>9</th>\n",
       "      <th>10</th>\n",
       "      <th>11</th>\n",
       "      <th>12</th>\n",
       "      <th>13</th>\n",
       "      <th>14</th>\n",
       "    </tr>\n",
       "  </thead>\n",
       "  <tbody>\n",
       "    <tr>\n",
       "      <th>0</th>\n",
       "      <td>24.439443</td>\n",
       "      <td>24.734911</td>\n",
       "      <td>9.696833</td>\n",
       "      <td>7.238953</td>\n",
       "      <td>3.136339</td>\n",
       "      <td>0.566307</td>\n",
       "      <td>8.584885</td>\n",
       "      <td>5.021206</td>\n",
       "      <td>1.891682</td>\n",
       "      <td>12.234007</td>\n",
       "      <td>54.520528</td>\n",
       "      <td>54.373469</td>\n",
       "      <td>0.091468</td>\n",
       "      <td>0.186601</td>\n",
       "      <td>0.036524</td>\n",
       "    </tr>\n",
       "    <tr>\n",
       "      <th>1</th>\n",
       "      <td>7.513364</td>\n",
       "      <td>7.038936</td>\n",
       "      <td>2.641008</td>\n",
       "      <td>1.978996</td>\n",
       "      <td>0.951739</td>\n",
       "      <td>0.589315</td>\n",
       "      <td>2.220915</td>\n",
       "      <td>1.354775</td>\n",
       "      <td>0.555322</td>\n",
       "      <td>3.271636</td>\n",
       "      <td>51.862337</td>\n",
       "      <td>51.835998</td>\n",
       "      <td>0.093257</td>\n",
       "      <td>0.190375</td>\n",
       "      <td>0.036832</td>\n",
       "    </tr>\n",
       "    <tr>\n",
       "      <th>2</th>\n",
       "      <td>5.611273</td>\n",
       "      <td>4.580948</td>\n",
       "      <td>1.213176</td>\n",
       "      <td>0.947155</td>\n",
       "      <td>0.676175</td>\n",
       "      <td>0.634533</td>\n",
       "      <td>0.793972</td>\n",
       "      <td>0.641413</td>\n",
       "      <td>0.327573</td>\n",
       "      <td>1.815974</td>\n",
       "      <td>51.146836</td>\n",
       "      <td>51.153439</td>\n",
       "      <td>0.093731</td>\n",
       "      <td>0.191374</td>\n",
       "      <td>0.036914</td>\n",
       "    </tr>\n",
       "    <tr>\n",
       "      <th>3</th>\n",
       "      <td>5.768426</td>\n",
       "      <td>4.673707</td>\n",
       "      <td>1.131259</td>\n",
       "      <td>0.896509</td>\n",
       "      <td>0.684405</td>\n",
       "      <td>0.648344</td>\n",
       "      <td>0.712270</td>\n",
       "      <td>0.608317</td>\n",
       "      <td>0.318254</td>\n",
       "      <td>1.846094</td>\n",
       "      <td>50.961089</td>\n",
       "      <td>50.976274</td>\n",
       "      <td>0.093853</td>\n",
       "      <td>0.191632</td>\n",
       "      <td>0.036935</td>\n",
       "    </tr>\n",
       "    <tr>\n",
       "      <th>4</th>\n",
       "      <td>5.857754</td>\n",
       "      <td>4.757885</td>\n",
       "      <td>1.146328</td>\n",
       "      <td>0.909141</td>\n",
       "      <td>0.692907</td>\n",
       "      <td>0.652108</td>\n",
       "      <td>0.736312</td>\n",
       "      <td>0.617806</td>\n",
       "      <td>0.320733</td>\n",
       "      <td>1.891193</td>\n",
       "      <td>50.912175</td>\n",
       "      <td>50.929621</td>\n",
       "      <td>0.093885</td>\n",
       "      <td>0.191700</td>\n",
       "      <td>0.036940</td>\n",
       "    </tr>\n",
       "    <tr>\n",
       "      <th>5</th>\n",
       "      <td>5.883260</td>\n",
       "      <td>4.782807</td>\n",
       "      <td>1.152528</td>\n",
       "      <td>0.914012</td>\n",
       "      <td>0.695452</td>\n",
       "      <td>0.653066</td>\n",
       "      <td>0.745236</td>\n",
       "      <td>0.621374</td>\n",
       "      <td>0.321680</td>\n",
       "      <td>1.904819</td>\n",
       "      <td>50.899832</td>\n",
       "      <td>50.917850</td>\n",
       "      <td>0.093894</td>\n",
       "      <td>0.191717</td>\n",
       "      <td>0.036942</td>\n",
       "    </tr>\n",
       "    <tr>\n",
       "      <th>6</th>\n",
       "      <td>5.889953</td>\n",
       "      <td>4.789394</td>\n",
       "      <td>1.154261</td>\n",
       "      <td>0.915360</td>\n",
       "      <td>0.696127</td>\n",
       "      <td>0.653311</td>\n",
       "      <td>0.747685</td>\n",
       "      <td>0.622356</td>\n",
       "      <td>0.321942</td>\n",
       "      <td>1.908433</td>\n",
       "      <td>50.896684</td>\n",
       "      <td>50.914847</td>\n",
       "      <td>0.093896</td>\n",
       "      <td>0.191722</td>\n",
       "      <td>0.036942</td>\n",
       "    </tr>\n",
       "    <tr>\n",
       "      <th>7</th>\n",
       "      <td>5.891702</td>\n",
       "      <td>4.791119</td>\n",
       "      <td>1.154721</td>\n",
       "      <td>0.915716</td>\n",
       "      <td>0.696303</td>\n",
       "      <td>0.653374</td>\n",
       "      <td>0.748332</td>\n",
       "      <td>0.622616</td>\n",
       "      <td>0.322011</td>\n",
       "      <td>1.909381</td>\n",
       "      <td>50.895866</td>\n",
       "      <td>50.914067</td>\n",
       "      <td>0.093896</td>\n",
       "      <td>0.191723</td>\n",
       "      <td>0.036942</td>\n",
       "    </tr>\n",
       "    <tr>\n",
       "      <th>8</th>\n",
       "      <td>5.892145</td>\n",
       "      <td>4.791556</td>\n",
       "      <td>1.154838</td>\n",
       "      <td>0.915807</td>\n",
       "      <td>0.696347</td>\n",
       "      <td>0.653391</td>\n",
       "      <td>0.748496</td>\n",
       "      <td>0.622682</td>\n",
       "      <td>0.322029</td>\n",
       "      <td>1.909620</td>\n",
       "      <td>50.895659</td>\n",
       "      <td>50.913870</td>\n",
       "      <td>0.093896</td>\n",
       "      <td>0.191723</td>\n",
       "      <td>0.036942</td>\n",
       "    </tr>\n",
       "    <tr>\n",
       "      <th>9</th>\n",
       "      <td>5.892300</td>\n",
       "      <td>4.791709</td>\n",
       "      <td>1.154879</td>\n",
       "      <td>0.915839</td>\n",
       "      <td>0.696363</td>\n",
       "      <td>0.653396</td>\n",
       "      <td>0.748554</td>\n",
       "      <td>0.622706</td>\n",
       "      <td>0.322035</td>\n",
       "      <td>1.909705</td>\n",
       "      <td>50.895587</td>\n",
       "      <td>50.913801</td>\n",
       "      <td>0.093896</td>\n",
       "      <td>0.191723</td>\n",
       "      <td>0.036942</td>\n",
       "    </tr>\n",
       "    <tr>\n",
       "      <th>10</th>\n",
       "      <td>5.892353</td>\n",
       "      <td>4.791761</td>\n",
       "      <td>1.154893</td>\n",
       "      <td>0.915850</td>\n",
       "      <td>0.696368</td>\n",
       "      <td>0.653398</td>\n",
       "      <td>0.748573</td>\n",
       "      <td>0.622713</td>\n",
       "      <td>0.322037</td>\n",
       "      <td>1.909733</td>\n",
       "      <td>50.895563</td>\n",
       "      <td>50.913778</td>\n",
       "      <td>0.093896</td>\n",
       "      <td>0.191723</td>\n",
       "      <td>0.036942</td>\n",
       "    </tr>\n",
       "    <tr>\n",
       "      <th>11</th>\n",
       "      <td>5.892373</td>\n",
       "      <td>4.791780</td>\n",
       "      <td>1.154898</td>\n",
       "      <td>0.915854</td>\n",
       "      <td>0.696370</td>\n",
       "      <td>0.653399</td>\n",
       "      <td>0.748581</td>\n",
       "      <td>0.622716</td>\n",
       "      <td>0.322038</td>\n",
       "      <td>1.909744</td>\n",
       "      <td>50.895554</td>\n",
       "      <td>50.913769</td>\n",
       "      <td>0.093896</td>\n",
       "      <td>0.191723</td>\n",
       "      <td>0.036942</td>\n",
       "    </tr>\n",
       "    <tr>\n",
       "      <th>12</th>\n",
       "      <td>5.892388</td>\n",
       "      <td>4.791795</td>\n",
       "      <td>1.154902</td>\n",
       "      <td>0.915857</td>\n",
       "      <td>0.696372</td>\n",
       "      <td>0.653399</td>\n",
       "      <td>0.748586</td>\n",
       "      <td>0.622719</td>\n",
       "      <td>0.322038</td>\n",
       "      <td>1.909752</td>\n",
       "      <td>50.895546</td>\n",
       "      <td>50.913762</td>\n",
       "      <td>0.093896</td>\n",
       "      <td>0.191723</td>\n",
       "      <td>0.036942</td>\n",
       "    </tr>\n",
       "    <tr>\n",
       "      <th>13</th>\n",
       "      <td>5.892402</td>\n",
       "      <td>4.791809</td>\n",
       "      <td>1.154906</td>\n",
       "      <td>0.915860</td>\n",
       "      <td>0.696373</td>\n",
       "      <td>0.653400</td>\n",
       "      <td>0.748592</td>\n",
       "      <td>0.622721</td>\n",
       "      <td>0.322039</td>\n",
       "      <td>1.909760</td>\n",
       "      <td>50.895540</td>\n",
       "      <td>50.913756</td>\n",
       "      <td>0.093896</td>\n",
       "      <td>0.191723</td>\n",
       "      <td>0.036942</td>\n",
       "    </tr>\n",
       "    <tr>\n",
       "      <th>14</th>\n",
       "      <td>5.892414</td>\n",
       "      <td>4.791822</td>\n",
       "      <td>1.154909</td>\n",
       "      <td>0.915862</td>\n",
       "      <td>0.696375</td>\n",
       "      <td>0.653400</td>\n",
       "      <td>0.748596</td>\n",
       "      <td>0.622723</td>\n",
       "      <td>0.322040</td>\n",
       "      <td>1.909766</td>\n",
       "      <td>50.895534</td>\n",
       "      <td>50.913750</td>\n",
       "      <td>0.093896</td>\n",
       "      <td>0.191723</td>\n",
       "      <td>0.036942</td>\n",
       "    </tr>\n",
       "    <tr>\n",
       "      <th>15</th>\n",
       "      <td>5.892425</td>\n",
       "      <td>4.791832</td>\n",
       "      <td>1.154912</td>\n",
       "      <td>0.915865</td>\n",
       "      <td>0.696376</td>\n",
       "      <td>0.653401</td>\n",
       "      <td>0.748600</td>\n",
       "      <td>0.622724</td>\n",
       "      <td>0.322040</td>\n",
       "      <td>1.909772</td>\n",
       "      <td>50.895529</td>\n",
       "      <td>50.913746</td>\n",
       "      <td>0.093896</td>\n",
       "      <td>0.191723</td>\n",
       "      <td>0.036942</td>\n",
       "    </tr>\n",
       "    <tr>\n",
       "      <th>16</th>\n",
       "      <td>5.892442</td>\n",
       "      <td>4.791848</td>\n",
       "      <td>1.154916</td>\n",
       "      <td>0.915868</td>\n",
       "      <td>0.696377</td>\n",
       "      <td>0.653401</td>\n",
       "      <td>0.748606</td>\n",
       "      <td>0.622727</td>\n",
       "      <td>0.322041</td>\n",
       "      <td>1.909781</td>\n",
       "      <td>50.895521</td>\n",
       "      <td>50.913738</td>\n",
       "      <td>0.093896</td>\n",
       "      <td>0.191723</td>\n",
       "      <td>0.036942</td>\n",
       "    </tr>\n",
       "    <tr>\n",
       "      <th>17</th>\n",
       "      <td>5.892464</td>\n",
       "      <td>4.791871</td>\n",
       "      <td>1.154922</td>\n",
       "      <td>0.915873</td>\n",
       "      <td>0.696380</td>\n",
       "      <td>0.653402</td>\n",
       "      <td>0.748615</td>\n",
       "      <td>0.622730</td>\n",
       "      <td>0.322042</td>\n",
       "      <td>1.909793</td>\n",
       "      <td>50.895511</td>\n",
       "      <td>50.913728</td>\n",
       "      <td>0.093896</td>\n",
       "      <td>0.191723</td>\n",
       "      <td>0.036942</td>\n",
       "    </tr>\n",
       "    <tr>\n",
       "      <th>18</th>\n",
       "      <td>5.892476</td>\n",
       "      <td>4.791883</td>\n",
       "      <td>1.154925</td>\n",
       "      <td>0.915875</td>\n",
       "      <td>0.696381</td>\n",
       "      <td>0.653403</td>\n",
       "      <td>0.748619</td>\n",
       "      <td>0.622732</td>\n",
       "      <td>0.322042</td>\n",
       "      <td>1.909800</td>\n",
       "      <td>50.895505</td>\n",
       "      <td>50.913723</td>\n",
       "      <td>0.093896</td>\n",
       "      <td>0.191723</td>\n",
       "      <td>0.036942</td>\n",
       "    </tr>\n",
       "    <tr>\n",
       "      <th>19</th>\n",
       "      <td>5.892482</td>\n",
       "      <td>4.791888</td>\n",
       "      <td>1.154927</td>\n",
       "      <td>0.915876</td>\n",
       "      <td>0.696381</td>\n",
       "      <td>0.653403</td>\n",
       "      <td>0.748621</td>\n",
       "      <td>0.622733</td>\n",
       "      <td>0.322042</td>\n",
       "      <td>1.909803</td>\n",
       "      <td>50.895502</td>\n",
       "      <td>50.913720</td>\n",
       "      <td>0.093896</td>\n",
       "      <td>0.191723</td>\n",
       "      <td>0.036942</td>\n",
       "    </tr>\n",
       "    <tr>\n",
       "      <th>20</th>\n",
       "      <td>5.892484</td>\n",
       "      <td>4.791891</td>\n",
       "      <td>1.154927</td>\n",
       "      <td>0.915877</td>\n",
       "      <td>0.696382</td>\n",
       "      <td>0.653403</td>\n",
       "      <td>0.748622</td>\n",
       "      <td>0.622733</td>\n",
       "      <td>0.322042</td>\n",
       "      <td>1.909804</td>\n",
       "      <td>50.895501</td>\n",
       "      <td>50.913719</td>\n",
       "      <td>0.093896</td>\n",
       "      <td>0.191723</td>\n",
       "      <td>0.036942</td>\n",
       "    </tr>\n",
       "    <tr>\n",
       "      <th>21</th>\n",
       "      <td>5.892485</td>\n",
       "      <td>4.791891</td>\n",
       "      <td>1.154927</td>\n",
       "      <td>0.915877</td>\n",
       "      <td>0.696382</td>\n",
       "      <td>0.653403</td>\n",
       "      <td>0.748622</td>\n",
       "      <td>0.622733</td>\n",
       "      <td>0.322042</td>\n",
       "      <td>1.909805</td>\n",
       "      <td>50.895501</td>\n",
       "      <td>50.913719</td>\n",
       "      <td>0.093896</td>\n",
       "      <td>0.191723</td>\n",
       "      <td>0.036942</td>\n",
       "    </tr>\n",
       "    <tr>\n",
       "      <th>22</th>\n",
       "      <td>5.892485</td>\n",
       "      <td>4.791892</td>\n",
       "      <td>1.154928</td>\n",
       "      <td>0.915877</td>\n",
       "      <td>0.696382</td>\n",
       "      <td>0.653403</td>\n",
       "      <td>0.748623</td>\n",
       "      <td>0.622733</td>\n",
       "      <td>0.322042</td>\n",
       "      <td>1.909805</td>\n",
       "      <td>50.895501</td>\n",
       "      <td>50.913719</td>\n",
       "      <td>0.093896</td>\n",
       "      <td>0.191723</td>\n",
       "      <td>0.036942</td>\n",
       "    </tr>\n",
       "    <tr>\n",
       "      <th>23</th>\n",
       "      <td>5.892485</td>\n",
       "      <td>4.791892</td>\n",
       "      <td>1.154928</td>\n",
       "      <td>0.915877</td>\n",
       "      <td>0.696382</td>\n",
       "      <td>0.653403</td>\n",
       "      <td>0.748623</td>\n",
       "      <td>0.622733</td>\n",
       "      <td>0.322042</td>\n",
       "      <td>1.909805</td>\n",
       "      <td>50.895501</td>\n",
       "      <td>50.913719</td>\n",
       "      <td>0.093896</td>\n",
       "      <td>0.191723</td>\n",
       "      <td>0.036942</td>\n",
       "    </tr>\n",
       "  </tbody>\n",
       "</table>\n",
       "</div>"
      ],
      "text/plain": [
       "           0          1         2         3         4         5         6   \\\n",
       "0   24.439443  24.734911  9.696833  7.238953  3.136339  0.566307  8.584885   \n",
       "1    7.513364   7.038936  2.641008  1.978996  0.951739  0.589315  2.220915   \n",
       "2    5.611273   4.580948  1.213176  0.947155  0.676175  0.634533  0.793972   \n",
       "3    5.768426   4.673707  1.131259  0.896509  0.684405  0.648344  0.712270   \n",
       "4    5.857754   4.757885  1.146328  0.909141  0.692907  0.652108  0.736312   \n",
       "5    5.883260   4.782807  1.152528  0.914012  0.695452  0.653066  0.745236   \n",
       "6    5.889953   4.789394  1.154261  0.915360  0.696127  0.653311  0.747685   \n",
       "7    5.891702   4.791119  1.154721  0.915716  0.696303  0.653374  0.748332   \n",
       "8    5.892145   4.791556  1.154838  0.915807  0.696347  0.653391  0.748496   \n",
       "9    5.892300   4.791709  1.154879  0.915839  0.696363  0.653396  0.748554   \n",
       "10   5.892353   4.791761  1.154893  0.915850  0.696368  0.653398  0.748573   \n",
       "11   5.892373   4.791780  1.154898  0.915854  0.696370  0.653399  0.748581   \n",
       "12   5.892388   4.791795  1.154902  0.915857  0.696372  0.653399  0.748586   \n",
       "13   5.892402   4.791809  1.154906  0.915860  0.696373  0.653400  0.748592   \n",
       "14   5.892414   4.791822  1.154909  0.915862  0.696375  0.653400  0.748596   \n",
       "15   5.892425   4.791832  1.154912  0.915865  0.696376  0.653401  0.748600   \n",
       "16   5.892442   4.791848  1.154916  0.915868  0.696377  0.653401  0.748606   \n",
       "17   5.892464   4.791871  1.154922  0.915873  0.696380  0.653402  0.748615   \n",
       "18   5.892476   4.791883  1.154925  0.915875  0.696381  0.653403  0.748619   \n",
       "19   5.892482   4.791888  1.154927  0.915876  0.696381  0.653403  0.748621   \n",
       "20   5.892484   4.791891  1.154927  0.915877  0.696382  0.653403  0.748622   \n",
       "21   5.892485   4.791891  1.154927  0.915877  0.696382  0.653403  0.748622   \n",
       "22   5.892485   4.791892  1.154928  0.915877  0.696382  0.653403  0.748623   \n",
       "23   5.892485   4.791892  1.154928  0.915877  0.696382  0.653403  0.748623   \n",
       "\n",
       "          7         8          9          10         11        12        13  \\\n",
       "0   5.021206  1.891682  12.234007  54.520528  54.373469  0.091468  0.186601   \n",
       "1   1.354775  0.555322   3.271636  51.862337  51.835998  0.093257  0.190375   \n",
       "2   0.641413  0.327573   1.815974  51.146836  51.153439  0.093731  0.191374   \n",
       "3   0.608317  0.318254   1.846094  50.961089  50.976274  0.093853  0.191632   \n",
       "4   0.617806  0.320733   1.891193  50.912175  50.929621  0.093885  0.191700   \n",
       "5   0.621374  0.321680   1.904819  50.899832  50.917850  0.093894  0.191717   \n",
       "6   0.622356  0.321942   1.908433  50.896684  50.914847  0.093896  0.191722   \n",
       "7   0.622616  0.322011   1.909381  50.895866  50.914067  0.093896  0.191723   \n",
       "8   0.622682  0.322029   1.909620  50.895659  50.913870  0.093896  0.191723   \n",
       "9   0.622706  0.322035   1.909705  50.895587  50.913801  0.093896  0.191723   \n",
       "10  0.622713  0.322037   1.909733  50.895563  50.913778  0.093896  0.191723   \n",
       "11  0.622716  0.322038   1.909744  50.895554  50.913769  0.093896  0.191723   \n",
       "12  0.622719  0.322038   1.909752  50.895546  50.913762  0.093896  0.191723   \n",
       "13  0.622721  0.322039   1.909760  50.895540  50.913756  0.093896  0.191723   \n",
       "14  0.622723  0.322040   1.909766  50.895534  50.913750  0.093896  0.191723   \n",
       "15  0.622724  0.322040   1.909772  50.895529  50.913746  0.093896  0.191723   \n",
       "16  0.622727  0.322041   1.909781  50.895521  50.913738  0.093896  0.191723   \n",
       "17  0.622730  0.322042   1.909793  50.895511  50.913728  0.093896  0.191723   \n",
       "18  0.622732  0.322042   1.909800  50.895505  50.913723  0.093896  0.191723   \n",
       "19  0.622733  0.322042   1.909803  50.895502  50.913720  0.093896  0.191723   \n",
       "20  0.622733  0.322042   1.909804  50.895501  50.913719  0.093896  0.191723   \n",
       "21  0.622733  0.322042   1.909805  50.895501  50.913719  0.093896  0.191723   \n",
       "22  0.622733  0.322042   1.909805  50.895501  50.913719  0.093896  0.191723   \n",
       "23  0.622733  0.322042   1.909805  50.895501  50.913719  0.093896  0.191723   \n",
       "\n",
       "          14  \n",
       "0   0.036524  \n",
       "1   0.036832  \n",
       "2   0.036914  \n",
       "3   0.036935  \n",
       "4   0.036940  \n",
       "5   0.036942  \n",
       "6   0.036942  \n",
       "7   0.036942  \n",
       "8   0.036942  \n",
       "9   0.036942  \n",
       "10  0.036942  \n",
       "11  0.036942  \n",
       "12  0.036942  \n",
       "13  0.036942  \n",
       "14  0.036942  \n",
       "15  0.036942  \n",
       "16  0.036942  \n",
       "17  0.036942  \n",
       "18  0.036942  \n",
       "19  0.036942  \n",
       "20  0.036942  \n",
       "21  0.036942  \n",
       "22  0.036942  \n",
       "23  0.036942  "
      ]
     },
     "execution_count": 95,
     "metadata": {},
     "output_type": "execute_result"
    }
   ],
   "source": [
    "line_loading"
   ]
  },
  {
   "cell_type": "code",
   "execution_count": 96,
   "id": "10790bf9",
   "metadata": {},
   "outputs": [
    {
     "data": {
      "text/html": [
       "<div>\n",
       "<style scoped>\n",
       "    .dataframe tbody tr th:only-of-type {\n",
       "        vertical-align: middle;\n",
       "    }\n",
       "\n",
       "    .dataframe tbody tr th {\n",
       "        vertical-align: top;\n",
       "    }\n",
       "\n",
       "    .dataframe thead th {\n",
       "        text-align: right;\n",
       "    }\n",
       "</style>\n",
       "<table border=\"1\" class=\"dataframe\">\n",
       "  <thead>\n",
       "    <tr style=\"text-align: right;\">\n",
       "      <th></th>\n",
       "      <th>0</th>\n",
       "      <th>1</th>\n",
       "      <th>2</th>\n",
       "      <th>3</th>\n",
       "      <th>4</th>\n",
       "      <th>5</th>\n",
       "      <th>6</th>\n",
       "      <th>7</th>\n",
       "      <th>8</th>\n",
       "      <th>9</th>\n",
       "      <th>10</th>\n",
       "      <th>11</th>\n",
       "      <th>12</th>\n",
       "      <th>13</th>\n",
       "      <th>14</th>\n",
       "      <th>15</th>\n",
       "      <th>16</th>\n",
       "      <th>17</th>\n",
       "      <th>18</th>\n",
       "      <th>19</th>\n",
       "    </tr>\n",
       "  </thead>\n",
       "  <tbody>\n",
       "    <tr>\n",
       "      <th>0</th>\n",
       "      <td>1.03</td>\n",
       "      <td>1.022289</td>\n",
       "      <td>1.017222</td>\n",
       "      <td>1.008787</td>\n",
       "      <td>1.008343</td>\n",
       "      <td>1.008041</td>\n",
       "      <td>1.007691</td>\n",
       "      <td>1.007450</td>\n",
       "      <td>1.007487</td>\n",
       "      <td>1.007246</td>\n",
       "      <td>1.006946</td>\n",
       "      <td>1.006900</td>\n",
       "      <td>1.016075</td>\n",
       "      <td>0.988832</td>\n",
       "      <td>0.972242</td>\n",
       "      <td>0.848790</td>\n",
       "      <td>1.006876</td>\n",
       "      <td>1.008017</td>\n",
       "      <td>1.008320</td>\n",
       "      <td>1.007223</td>\n",
       "    </tr>\n",
       "    <tr>\n",
       "      <th>1</th>\n",
       "      <td>1.03</td>\n",
       "      <td>1.029070</td>\n",
       "      <td>1.028707</td>\n",
       "      <td>1.027587</td>\n",
       "      <td>1.027508</td>\n",
       "      <td>1.027457</td>\n",
       "      <td>1.027403</td>\n",
       "      <td>1.027405</td>\n",
       "      <td>1.027379</td>\n",
       "      <td>1.027328</td>\n",
       "      <td>1.027271</td>\n",
       "      <td>1.027264</td>\n",
       "      <td>1.022052</td>\n",
       "      <td>0.996222</td>\n",
       "      <td>0.980457</td>\n",
       "      <td>0.859837</td>\n",
       "      <td>1.027239</td>\n",
       "      <td>1.027432</td>\n",
       "      <td>1.027485</td>\n",
       "      <td>1.027305</td>\n",
       "    </tr>\n",
       "    <tr>\n",
       "      <th>2</th>\n",
       "      <td>1.03</td>\n",
       "      <td>1.030816</td>\n",
       "      <td>1.031711</td>\n",
       "      <td>1.032557</td>\n",
       "      <td>1.032577</td>\n",
       "      <td>1.032593</td>\n",
       "      <td>1.032619</td>\n",
       "      <td>1.032686</td>\n",
       "      <td>1.032643</td>\n",
       "      <td>1.032644</td>\n",
       "      <td>1.032652</td>\n",
       "      <td>1.032656</td>\n",
       "      <td>1.023618</td>\n",
       "      <td>0.998169</td>\n",
       "      <td>0.982625</td>\n",
       "      <td>0.862728</td>\n",
       "      <td>1.032631</td>\n",
       "      <td>1.032568</td>\n",
       "      <td>1.032553</td>\n",
       "      <td>1.032620</td>\n",
       "    </tr>\n",
       "    <tr>\n",
       "      <th>3</th>\n",
       "      <td>1.03</td>\n",
       "      <td>1.031263</td>\n",
       "      <td>1.032485</td>\n",
       "      <td>1.033840</td>\n",
       "      <td>1.033886</td>\n",
       "      <td>1.033920</td>\n",
       "      <td>1.033967</td>\n",
       "      <td>1.034051</td>\n",
       "      <td>1.034003</td>\n",
       "      <td>1.034017</td>\n",
       "      <td>1.034043</td>\n",
       "      <td>1.034049</td>\n",
       "      <td>1.024022</td>\n",
       "      <td>0.998671</td>\n",
       "      <td>0.983185</td>\n",
       "      <td>0.863473</td>\n",
       "      <td>1.034024</td>\n",
       "      <td>1.033895</td>\n",
       "      <td>1.033863</td>\n",
       "      <td>1.033994</td>\n",
       "    </tr>\n",
       "    <tr>\n",
       "      <th>4</th>\n",
       "      <td>1.03</td>\n",
       "      <td>1.031380</td>\n",
       "      <td>1.032688</td>\n",
       "      <td>1.034178</td>\n",
       "      <td>1.034231</td>\n",
       "      <td>1.034269</td>\n",
       "      <td>1.034322</td>\n",
       "      <td>1.034410</td>\n",
       "      <td>1.034361</td>\n",
       "      <td>1.034379</td>\n",
       "      <td>1.034408</td>\n",
       "      <td>1.034415</td>\n",
       "      <td>1.024128</td>\n",
       "      <td>0.998803</td>\n",
       "      <td>0.983332</td>\n",
       "      <td>0.863668</td>\n",
       "      <td>1.034390</td>\n",
       "      <td>1.034244</td>\n",
       "      <td>1.034207</td>\n",
       "      <td>1.034355</td>\n",
       "    </tr>\n",
       "    <tr>\n",
       "      <th>5</th>\n",
       "      <td>1.03</td>\n",
       "      <td>1.031410</td>\n",
       "      <td>1.032740</td>\n",
       "      <td>1.034263</td>\n",
       "      <td>1.034318</td>\n",
       "      <td>1.034357</td>\n",
       "      <td>1.034411</td>\n",
       "      <td>1.034500</td>\n",
       "      <td>1.034451</td>\n",
       "      <td>1.034470</td>\n",
       "      <td>1.034501</td>\n",
       "      <td>1.034508</td>\n",
       "      <td>1.024154</td>\n",
       "      <td>0.998836</td>\n",
       "      <td>0.983369</td>\n",
       "      <td>0.863718</td>\n",
       "      <td>1.034483</td>\n",
       "      <td>1.034332</td>\n",
       "      <td>1.034294</td>\n",
       "      <td>1.034446</td>\n",
       "    </tr>\n",
       "    <tr>\n",
       "      <th>6</th>\n",
       "      <td>1.03</td>\n",
       "      <td>1.031417</td>\n",
       "      <td>1.032753</td>\n",
       "      <td>1.034285</td>\n",
       "      <td>1.034340</td>\n",
       "      <td>1.034379</td>\n",
       "      <td>1.034434</td>\n",
       "      <td>1.034523</td>\n",
       "      <td>1.034474</td>\n",
       "      <td>1.034493</td>\n",
       "      <td>1.034524</td>\n",
       "      <td>1.034531</td>\n",
       "      <td>1.024161</td>\n",
       "      <td>0.998845</td>\n",
       "      <td>0.983378</td>\n",
       "      <td>0.863730</td>\n",
       "      <td>1.034506</td>\n",
       "      <td>1.034355</td>\n",
       "      <td>1.034316</td>\n",
       "      <td>1.034469</td>\n",
       "    </tr>\n",
       "    <tr>\n",
       "      <th>7</th>\n",
       "      <td>1.03</td>\n",
       "      <td>1.031419</td>\n",
       "      <td>1.032756</td>\n",
       "      <td>1.034291</td>\n",
       "      <td>1.034346</td>\n",
       "      <td>1.034385</td>\n",
       "      <td>1.034440</td>\n",
       "      <td>1.034529</td>\n",
       "      <td>1.034480</td>\n",
       "      <td>1.034499</td>\n",
       "      <td>1.034530</td>\n",
       "      <td>1.034537</td>\n",
       "      <td>1.024163</td>\n",
       "      <td>0.998847</td>\n",
       "      <td>0.983381</td>\n",
       "      <td>0.863734</td>\n",
       "      <td>1.034513</td>\n",
       "      <td>1.034360</td>\n",
       "      <td>1.034322</td>\n",
       "      <td>1.034475</td>\n",
       "    </tr>\n",
       "    <tr>\n",
       "      <th>8</th>\n",
       "      <td>1.03</td>\n",
       "      <td>1.031420</td>\n",
       "      <td>1.032757</td>\n",
       "      <td>1.034292</td>\n",
       "      <td>1.034347</td>\n",
       "      <td>1.034387</td>\n",
       "      <td>1.034441</td>\n",
       "      <td>1.034531</td>\n",
       "      <td>1.034482</td>\n",
       "      <td>1.034501</td>\n",
       "      <td>1.034532</td>\n",
       "      <td>1.034539</td>\n",
       "      <td>1.024164</td>\n",
       "      <td>0.998847</td>\n",
       "      <td>0.983382</td>\n",
       "      <td>0.863734</td>\n",
       "      <td>1.034514</td>\n",
       "      <td>1.034362</td>\n",
       "      <td>1.034323</td>\n",
       "      <td>1.034477</td>\n",
       "    </tr>\n",
       "    <tr>\n",
       "      <th>9</th>\n",
       "      <td>1.03</td>\n",
       "      <td>1.031420</td>\n",
       "      <td>1.032757</td>\n",
       "      <td>1.034293</td>\n",
       "      <td>1.034348</td>\n",
       "      <td>1.034387</td>\n",
       "      <td>1.034442</td>\n",
       "      <td>1.034531</td>\n",
       "      <td>1.034482</td>\n",
       "      <td>1.034501</td>\n",
       "      <td>1.034532</td>\n",
       "      <td>1.034539</td>\n",
       "      <td>1.024164</td>\n",
       "      <td>0.998848</td>\n",
       "      <td>0.983382</td>\n",
       "      <td>0.863735</td>\n",
       "      <td>1.034515</td>\n",
       "      <td>1.034362</td>\n",
       "      <td>1.034324</td>\n",
       "      <td>1.034477</td>\n",
       "    </tr>\n",
       "    <tr>\n",
       "      <th>10</th>\n",
       "      <td>1.03</td>\n",
       "      <td>1.031420</td>\n",
       "      <td>1.032757</td>\n",
       "      <td>1.034293</td>\n",
       "      <td>1.034348</td>\n",
       "      <td>1.034387</td>\n",
       "      <td>1.034442</td>\n",
       "      <td>1.034532</td>\n",
       "      <td>1.034483</td>\n",
       "      <td>1.034501</td>\n",
       "      <td>1.034533</td>\n",
       "      <td>1.034540</td>\n",
       "      <td>1.024164</td>\n",
       "      <td>0.998848</td>\n",
       "      <td>0.983382</td>\n",
       "      <td>0.863735</td>\n",
       "      <td>1.034515</td>\n",
       "      <td>1.034363</td>\n",
       "      <td>1.034324</td>\n",
       "      <td>1.034478</td>\n",
       "    </tr>\n",
       "    <tr>\n",
       "      <th>11</th>\n",
       "      <td>1.03</td>\n",
       "      <td>1.031420</td>\n",
       "      <td>1.032757</td>\n",
       "      <td>1.034293</td>\n",
       "      <td>1.034348</td>\n",
       "      <td>1.034387</td>\n",
       "      <td>1.034442</td>\n",
       "      <td>1.034532</td>\n",
       "      <td>1.034483</td>\n",
       "      <td>1.034501</td>\n",
       "      <td>1.034533</td>\n",
       "      <td>1.034540</td>\n",
       "      <td>1.024164</td>\n",
       "      <td>0.998848</td>\n",
       "      <td>0.983382</td>\n",
       "      <td>0.863735</td>\n",
       "      <td>1.034515</td>\n",
       "      <td>1.034363</td>\n",
       "      <td>1.034324</td>\n",
       "      <td>1.034478</td>\n",
       "    </tr>\n",
       "    <tr>\n",
       "      <th>12</th>\n",
       "      <td>1.03</td>\n",
       "      <td>1.031420</td>\n",
       "      <td>1.032757</td>\n",
       "      <td>1.034293</td>\n",
       "      <td>1.034348</td>\n",
       "      <td>1.034388</td>\n",
       "      <td>1.034442</td>\n",
       "      <td>1.034532</td>\n",
       "      <td>1.034483</td>\n",
       "      <td>1.034501</td>\n",
       "      <td>1.034533</td>\n",
       "      <td>1.034540</td>\n",
       "      <td>1.024164</td>\n",
       "      <td>0.998848</td>\n",
       "      <td>0.983382</td>\n",
       "      <td>0.863735</td>\n",
       "      <td>1.034515</td>\n",
       "      <td>1.034363</td>\n",
       "      <td>1.034324</td>\n",
       "      <td>1.034478</td>\n",
       "    </tr>\n",
       "    <tr>\n",
       "      <th>13</th>\n",
       "      <td>1.03</td>\n",
       "      <td>1.031420</td>\n",
       "      <td>1.032757</td>\n",
       "      <td>1.034293</td>\n",
       "      <td>1.034348</td>\n",
       "      <td>1.034388</td>\n",
       "      <td>1.034442</td>\n",
       "      <td>1.034532</td>\n",
       "      <td>1.034483</td>\n",
       "      <td>1.034502</td>\n",
       "      <td>1.034533</td>\n",
       "      <td>1.034540</td>\n",
       "      <td>1.024164</td>\n",
       "      <td>0.998848</td>\n",
       "      <td>0.983382</td>\n",
       "      <td>0.863735</td>\n",
       "      <td>1.034515</td>\n",
       "      <td>1.034363</td>\n",
       "      <td>1.034324</td>\n",
       "      <td>1.034478</td>\n",
       "    </tr>\n",
       "    <tr>\n",
       "      <th>14</th>\n",
       "      <td>1.03</td>\n",
       "      <td>1.031420</td>\n",
       "      <td>1.032757</td>\n",
       "      <td>1.034293</td>\n",
       "      <td>1.034348</td>\n",
       "      <td>1.034388</td>\n",
       "      <td>1.034442</td>\n",
       "      <td>1.034532</td>\n",
       "      <td>1.034483</td>\n",
       "      <td>1.034502</td>\n",
       "      <td>1.034533</td>\n",
       "      <td>1.034540</td>\n",
       "      <td>1.024164</td>\n",
       "      <td>0.998848</td>\n",
       "      <td>0.983382</td>\n",
       "      <td>0.863735</td>\n",
       "      <td>1.034515</td>\n",
       "      <td>1.034363</td>\n",
       "      <td>1.034324</td>\n",
       "      <td>1.034478</td>\n",
       "    </tr>\n",
       "    <tr>\n",
       "      <th>15</th>\n",
       "      <td>1.03</td>\n",
       "      <td>1.031420</td>\n",
       "      <td>1.032757</td>\n",
       "      <td>1.034293</td>\n",
       "      <td>1.034348</td>\n",
       "      <td>1.034388</td>\n",
       "      <td>1.034442</td>\n",
       "      <td>1.034532</td>\n",
       "      <td>1.034483</td>\n",
       "      <td>1.034502</td>\n",
       "      <td>1.034533</td>\n",
       "      <td>1.034540</td>\n",
       "      <td>1.024164</td>\n",
       "      <td>0.998848</td>\n",
       "      <td>0.983382</td>\n",
       "      <td>0.863735</td>\n",
       "      <td>1.034515</td>\n",
       "      <td>1.034363</td>\n",
       "      <td>1.034324</td>\n",
       "      <td>1.034478</td>\n",
       "    </tr>\n",
       "    <tr>\n",
       "      <th>16</th>\n",
       "      <td>1.03</td>\n",
       "      <td>1.031420</td>\n",
       "      <td>1.032757</td>\n",
       "      <td>1.034293</td>\n",
       "      <td>1.034348</td>\n",
       "      <td>1.034388</td>\n",
       "      <td>1.034442</td>\n",
       "      <td>1.034532</td>\n",
       "      <td>1.034483</td>\n",
       "      <td>1.034502</td>\n",
       "      <td>1.034533</td>\n",
       "      <td>1.034540</td>\n",
       "      <td>1.024164</td>\n",
       "      <td>0.998848</td>\n",
       "      <td>0.983382</td>\n",
       "      <td>0.863735</td>\n",
       "      <td>1.034515</td>\n",
       "      <td>1.034363</td>\n",
       "      <td>1.034324</td>\n",
       "      <td>1.034478</td>\n",
       "    </tr>\n",
       "    <tr>\n",
       "      <th>17</th>\n",
       "      <td>1.03</td>\n",
       "      <td>1.031420</td>\n",
       "      <td>1.032758</td>\n",
       "      <td>1.034293</td>\n",
       "      <td>1.034348</td>\n",
       "      <td>1.034388</td>\n",
       "      <td>1.034442</td>\n",
       "      <td>1.034532</td>\n",
       "      <td>1.034483</td>\n",
       "      <td>1.034502</td>\n",
       "      <td>1.034533</td>\n",
       "      <td>1.034540</td>\n",
       "      <td>1.024164</td>\n",
       "      <td>0.998848</td>\n",
       "      <td>0.983382</td>\n",
       "      <td>0.863735</td>\n",
       "      <td>1.034515</td>\n",
       "      <td>1.034363</td>\n",
       "      <td>1.034324</td>\n",
       "      <td>1.034478</td>\n",
       "    </tr>\n",
       "    <tr>\n",
       "      <th>18</th>\n",
       "      <td>1.03</td>\n",
       "      <td>1.031420</td>\n",
       "      <td>1.032758</td>\n",
       "      <td>1.034293</td>\n",
       "      <td>1.034348</td>\n",
       "      <td>1.034388</td>\n",
       "      <td>1.034443</td>\n",
       "      <td>1.034532</td>\n",
       "      <td>1.034483</td>\n",
       "      <td>1.034502</td>\n",
       "      <td>1.034533</td>\n",
       "      <td>1.034540</td>\n",
       "      <td>1.024164</td>\n",
       "      <td>0.998848</td>\n",
       "      <td>0.983382</td>\n",
       "      <td>0.863735</td>\n",
       "      <td>1.034515</td>\n",
       "      <td>1.034363</td>\n",
       "      <td>1.034324</td>\n",
       "      <td>1.034478</td>\n",
       "    </tr>\n",
       "    <tr>\n",
       "      <th>19</th>\n",
       "      <td>1.03</td>\n",
       "      <td>1.031420</td>\n",
       "      <td>1.032758</td>\n",
       "      <td>1.034293</td>\n",
       "      <td>1.034348</td>\n",
       "      <td>1.034388</td>\n",
       "      <td>1.034443</td>\n",
       "      <td>1.034532</td>\n",
       "      <td>1.034483</td>\n",
       "      <td>1.034502</td>\n",
       "      <td>1.034533</td>\n",
       "      <td>1.034540</td>\n",
       "      <td>1.024164</td>\n",
       "      <td>0.998848</td>\n",
       "      <td>0.983382</td>\n",
       "      <td>0.863735</td>\n",
       "      <td>1.034515</td>\n",
       "      <td>1.034363</td>\n",
       "      <td>1.034324</td>\n",
       "      <td>1.034478</td>\n",
       "    </tr>\n",
       "    <tr>\n",
       "      <th>20</th>\n",
       "      <td>1.03</td>\n",
       "      <td>1.031420</td>\n",
       "      <td>1.032758</td>\n",
       "      <td>1.034293</td>\n",
       "      <td>1.034348</td>\n",
       "      <td>1.034388</td>\n",
       "      <td>1.034443</td>\n",
       "      <td>1.034532</td>\n",
       "      <td>1.034483</td>\n",
       "      <td>1.034502</td>\n",
       "      <td>1.034533</td>\n",
       "      <td>1.034540</td>\n",
       "      <td>1.024164</td>\n",
       "      <td>0.998848</td>\n",
       "      <td>0.983382</td>\n",
       "      <td>0.863735</td>\n",
       "      <td>1.034515</td>\n",
       "      <td>1.034363</td>\n",
       "      <td>1.034324</td>\n",
       "      <td>1.034478</td>\n",
       "    </tr>\n",
       "    <tr>\n",
       "      <th>21</th>\n",
       "      <td>1.03</td>\n",
       "      <td>1.031420</td>\n",
       "      <td>1.032758</td>\n",
       "      <td>1.034293</td>\n",
       "      <td>1.034348</td>\n",
       "      <td>1.034388</td>\n",
       "      <td>1.034443</td>\n",
       "      <td>1.034532</td>\n",
       "      <td>1.034483</td>\n",
       "      <td>1.034502</td>\n",
       "      <td>1.034533</td>\n",
       "      <td>1.034540</td>\n",
       "      <td>1.024164</td>\n",
       "      <td>0.998848</td>\n",
       "      <td>0.983382</td>\n",
       "      <td>0.863735</td>\n",
       "      <td>1.034515</td>\n",
       "      <td>1.034363</td>\n",
       "      <td>1.034324</td>\n",
       "      <td>1.034478</td>\n",
       "    </tr>\n",
       "    <tr>\n",
       "      <th>22</th>\n",
       "      <td>1.03</td>\n",
       "      <td>1.031420</td>\n",
       "      <td>1.032758</td>\n",
       "      <td>1.034293</td>\n",
       "      <td>1.034348</td>\n",
       "      <td>1.034388</td>\n",
       "      <td>1.034443</td>\n",
       "      <td>1.034532</td>\n",
       "      <td>1.034483</td>\n",
       "      <td>1.034502</td>\n",
       "      <td>1.034533</td>\n",
       "      <td>1.034540</td>\n",
       "      <td>1.024164</td>\n",
       "      <td>0.998848</td>\n",
       "      <td>0.983382</td>\n",
       "      <td>0.863735</td>\n",
       "      <td>1.034515</td>\n",
       "      <td>1.034363</td>\n",
       "      <td>1.034324</td>\n",
       "      <td>1.034478</td>\n",
       "    </tr>\n",
       "    <tr>\n",
       "      <th>23</th>\n",
       "      <td>1.03</td>\n",
       "      <td>1.031420</td>\n",
       "      <td>1.032758</td>\n",
       "      <td>1.034293</td>\n",
       "      <td>1.034348</td>\n",
       "      <td>1.034388</td>\n",
       "      <td>1.034443</td>\n",
       "      <td>1.034532</td>\n",
       "      <td>1.034483</td>\n",
       "      <td>1.034502</td>\n",
       "      <td>1.034533</td>\n",
       "      <td>1.034540</td>\n",
       "      <td>1.024164</td>\n",
       "      <td>0.998848</td>\n",
       "      <td>0.983382</td>\n",
       "      <td>0.863735</td>\n",
       "      <td>1.034515</td>\n",
       "      <td>1.034363</td>\n",
       "      <td>1.034324</td>\n",
       "      <td>1.034478</td>\n",
       "    </tr>\n",
       "  </tbody>\n",
       "</table>\n",
       "</div>"
      ],
      "text/plain": [
       "      0         1         2         3         4         5         6   \\\n",
       "0   1.03  1.022289  1.017222  1.008787  1.008343  1.008041  1.007691   \n",
       "1   1.03  1.029070  1.028707  1.027587  1.027508  1.027457  1.027403   \n",
       "2   1.03  1.030816  1.031711  1.032557  1.032577  1.032593  1.032619   \n",
       "3   1.03  1.031263  1.032485  1.033840  1.033886  1.033920  1.033967   \n",
       "4   1.03  1.031380  1.032688  1.034178  1.034231  1.034269  1.034322   \n",
       "5   1.03  1.031410  1.032740  1.034263  1.034318  1.034357  1.034411   \n",
       "6   1.03  1.031417  1.032753  1.034285  1.034340  1.034379  1.034434   \n",
       "7   1.03  1.031419  1.032756  1.034291  1.034346  1.034385  1.034440   \n",
       "8   1.03  1.031420  1.032757  1.034292  1.034347  1.034387  1.034441   \n",
       "9   1.03  1.031420  1.032757  1.034293  1.034348  1.034387  1.034442   \n",
       "10  1.03  1.031420  1.032757  1.034293  1.034348  1.034387  1.034442   \n",
       "11  1.03  1.031420  1.032757  1.034293  1.034348  1.034387  1.034442   \n",
       "12  1.03  1.031420  1.032757  1.034293  1.034348  1.034388  1.034442   \n",
       "13  1.03  1.031420  1.032757  1.034293  1.034348  1.034388  1.034442   \n",
       "14  1.03  1.031420  1.032757  1.034293  1.034348  1.034388  1.034442   \n",
       "15  1.03  1.031420  1.032757  1.034293  1.034348  1.034388  1.034442   \n",
       "16  1.03  1.031420  1.032757  1.034293  1.034348  1.034388  1.034442   \n",
       "17  1.03  1.031420  1.032758  1.034293  1.034348  1.034388  1.034442   \n",
       "18  1.03  1.031420  1.032758  1.034293  1.034348  1.034388  1.034443   \n",
       "19  1.03  1.031420  1.032758  1.034293  1.034348  1.034388  1.034443   \n",
       "20  1.03  1.031420  1.032758  1.034293  1.034348  1.034388  1.034443   \n",
       "21  1.03  1.031420  1.032758  1.034293  1.034348  1.034388  1.034443   \n",
       "22  1.03  1.031420  1.032758  1.034293  1.034348  1.034388  1.034443   \n",
       "23  1.03  1.031420  1.032758  1.034293  1.034348  1.034388  1.034443   \n",
       "\n",
       "          7         8         9         10        11        12        13  \\\n",
       "0   1.007450  1.007487  1.007246  1.006946  1.006900  1.016075  0.988832   \n",
       "1   1.027405  1.027379  1.027328  1.027271  1.027264  1.022052  0.996222   \n",
       "2   1.032686  1.032643  1.032644  1.032652  1.032656  1.023618  0.998169   \n",
       "3   1.034051  1.034003  1.034017  1.034043  1.034049  1.024022  0.998671   \n",
       "4   1.034410  1.034361  1.034379  1.034408  1.034415  1.024128  0.998803   \n",
       "5   1.034500  1.034451  1.034470  1.034501  1.034508  1.024154  0.998836   \n",
       "6   1.034523  1.034474  1.034493  1.034524  1.034531  1.024161  0.998845   \n",
       "7   1.034529  1.034480  1.034499  1.034530  1.034537  1.024163  0.998847   \n",
       "8   1.034531  1.034482  1.034501  1.034532  1.034539  1.024164  0.998847   \n",
       "9   1.034531  1.034482  1.034501  1.034532  1.034539  1.024164  0.998848   \n",
       "10  1.034532  1.034483  1.034501  1.034533  1.034540  1.024164  0.998848   \n",
       "11  1.034532  1.034483  1.034501  1.034533  1.034540  1.024164  0.998848   \n",
       "12  1.034532  1.034483  1.034501  1.034533  1.034540  1.024164  0.998848   \n",
       "13  1.034532  1.034483  1.034502  1.034533  1.034540  1.024164  0.998848   \n",
       "14  1.034532  1.034483  1.034502  1.034533  1.034540  1.024164  0.998848   \n",
       "15  1.034532  1.034483  1.034502  1.034533  1.034540  1.024164  0.998848   \n",
       "16  1.034532  1.034483  1.034502  1.034533  1.034540  1.024164  0.998848   \n",
       "17  1.034532  1.034483  1.034502  1.034533  1.034540  1.024164  0.998848   \n",
       "18  1.034532  1.034483  1.034502  1.034533  1.034540  1.024164  0.998848   \n",
       "19  1.034532  1.034483  1.034502  1.034533  1.034540  1.024164  0.998848   \n",
       "20  1.034532  1.034483  1.034502  1.034533  1.034540  1.024164  0.998848   \n",
       "21  1.034532  1.034483  1.034502  1.034533  1.034540  1.024164  0.998848   \n",
       "22  1.034532  1.034483  1.034502  1.034533  1.034540  1.024164  0.998848   \n",
       "23  1.034532  1.034483  1.034502  1.034533  1.034540  1.024164  0.998848   \n",
       "\n",
       "          14        15        16        17        18        19  \n",
       "0   0.972242  0.848790  1.006876  1.008017  1.008320  1.007223  \n",
       "1   0.980457  0.859837  1.027239  1.027432  1.027485  1.027305  \n",
       "2   0.982625  0.862728  1.032631  1.032568  1.032553  1.032620  \n",
       "3   0.983185  0.863473  1.034024  1.033895  1.033863  1.033994  \n",
       "4   0.983332  0.863668  1.034390  1.034244  1.034207  1.034355  \n",
       "5   0.983369  0.863718  1.034483  1.034332  1.034294  1.034446  \n",
       "6   0.983378  0.863730  1.034506  1.034355  1.034316  1.034469  \n",
       "7   0.983381  0.863734  1.034513  1.034360  1.034322  1.034475  \n",
       "8   0.983382  0.863734  1.034514  1.034362  1.034323  1.034477  \n",
       "9   0.983382  0.863735  1.034515  1.034362  1.034324  1.034477  \n",
       "10  0.983382  0.863735  1.034515  1.034363  1.034324  1.034478  \n",
       "11  0.983382  0.863735  1.034515  1.034363  1.034324  1.034478  \n",
       "12  0.983382  0.863735  1.034515  1.034363  1.034324  1.034478  \n",
       "13  0.983382  0.863735  1.034515  1.034363  1.034324  1.034478  \n",
       "14  0.983382  0.863735  1.034515  1.034363  1.034324  1.034478  \n",
       "15  0.983382  0.863735  1.034515  1.034363  1.034324  1.034478  \n",
       "16  0.983382  0.863735  1.034515  1.034363  1.034324  1.034478  \n",
       "17  0.983382  0.863735  1.034515  1.034363  1.034324  1.034478  \n",
       "18  0.983382  0.863735  1.034515  1.034363  1.034324  1.034478  \n",
       "19  0.983382  0.863735  1.034515  1.034363  1.034324  1.034478  \n",
       "20  0.983382  0.863735  1.034515  1.034363  1.034324  1.034478  \n",
       "21  0.983382  0.863735  1.034515  1.034363  1.034324  1.034478  \n",
       "22  0.983382  0.863735  1.034515  1.034363  1.034324  1.034478  \n",
       "23  0.983382  0.863735  1.034515  1.034363  1.034324  1.034478  "
      ]
     },
     "execution_count": 96,
     "metadata": {},
     "output_type": "execute_result"
    }
   ],
   "source": [
    "vm_pu"
   ]
  },
  {
   "cell_type": "code",
   "execution_count": 97,
   "id": "5241c9a1",
   "metadata": {},
   "outputs": [
    {
     "data": {
      "text/plain": [
       "0     1.030000\n",
       "1     1.022289\n",
       "2     1.017222\n",
       "3     1.008787\n",
       "4     1.008343\n",
       "5     1.008041\n",
       "6     1.007691\n",
       "7     1.007450\n",
       "8     1.007487\n",
       "9     1.007246\n",
       "10    1.006946\n",
       "11    1.006900\n",
       "12    1.016075\n",
       "13    0.988832\n",
       "14    0.972242\n",
       "15    0.848790\n",
       "16    1.006876\n",
       "17    1.008017\n",
       "18    1.008320\n",
       "19    1.007223\n",
       "dtype: float64"
      ]
     },
     "execution_count": 97,
     "metadata": {},
     "output_type": "execute_result"
    }
   ],
   "source": [
    "vm_pu.min()"
   ]
  },
  {
   "cell_type": "code",
   "execution_count": 98,
   "id": "fb3726c7",
   "metadata": {},
   "outputs": [
    {
     "data": {
      "text/plain": [
       "True"
      ]
     },
     "execution_count": 98,
     "metadata": {},
     "output_type": "execute_result"
    }
   ],
   "source": [
    "any(vm_pu.min())<2"
   ]
  },
  {
   "cell_type": "code",
   "execution_count": 99,
   "id": "c671eaff",
   "metadata": {},
   "outputs": [
    {
     "data": {
      "text/plain": [
       "14"
      ]
     },
     "execution_count": 99,
     "metadata": {},
     "output_type": "execute_result"
    }
   ],
   "source": [
    "max(line_loading)"
   ]
  },
  {
   "cell_type": "code",
   "execution_count": 100,
   "id": "1998acce",
   "metadata": {},
   "outputs": [
    {
     "data": {
      "text/plain": [
       "False"
      ]
     },
     "execution_count": 100,
     "metadata": {},
     "output_type": "execute_result"
    }
   ],
   "source": [
    "all(vm_pu.min()<min_vm_pu)"
   ]
  },
  {
   "cell_type": "code",
   "execution_count": 101,
   "id": "479a7e4c",
   "metadata": {},
   "outputs": [
    {
     "data": {
      "text/plain": [
       "False"
      ]
     },
     "execution_count": 101,
     "metadata": {},
     "output_type": "execute_result"
    }
   ],
   "source": [
    "all(vm_pu.max())<max_vm_pu and all(line_loading.max())<100 and all(vm_pu.min())>min_vm_pu and c<450"
   ]
  },
  {
   "cell_type": "code",
   "execution_count": null,
   "id": "64e86437",
   "metadata": {},
   "outputs": [],
   "source": []
  }
 ],
 "metadata": {
  "kernelspec": {
   "display_name": "Python 3 (ipykernel)",
   "language": "python",
   "name": "python3"
  },
  "language_info": {
   "codemirror_mode": {
    "name": "ipython",
    "version": 3
   },
   "file_extension": ".py",
   "mimetype": "text/x-python",
   "name": "python",
   "nbconvert_exporter": "python",
   "pygments_lexer": "ipython3",
   "version": "3.9.12"
  }
 },
 "nbformat": 4,
 "nbformat_minor": 5
}
