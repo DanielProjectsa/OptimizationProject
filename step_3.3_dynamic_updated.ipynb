{
 "cells": [
  {
   "cell_type": "code",
   "execution_count": 22,
   "id": "cadf584d-11a3-47e6-8af3-46f7de2e02ec",
   "metadata": {},
   "outputs": [],
   "source": [
    "import os\n",
    "import numpy as np\n",
    "import pandas as pd\n",
    "import tempfile\n",
    "\n",
    "import pandapower as pp\n",
    "import pandapower.networks as nw\n",
    "from pandapower.timeseries import DFData\n",
    "from pandapower.timeseries import OutputWriter\n",
    "from pandapower.timeseries.run_time_series import run_timeseries\n",
    "from pandapower.control import ConstControl\n",
    "import pandapower.plotting as pplt\n",
    "import matplotlib.pyplot as plt\n",
    "from pandapower.plotting.plotly import pf_res_plotly\n",
    "\n",
    "#creating our net\n",
    "net = nw.create_cigre_network_mv()\n",
    "\n",
    "#Creating buses and trafos\n",
    "\n",
    "pp.create_bus(net, name='Bus CS 14', vn_kv=0.4, type='b', geodata=((10,3.5)))\n",
    "pp.create_bus(net, name='Bus CS 11', vn_kv=0.4, type='b', geodata=((2.5,7)))\n",
    "pp.create_bus(net, name='Bus CS 5', vn_kv=0.4, type='b', geodata=((-0.5,7)))\n",
    "pp.create_bus(net, name='Bus CS 4', vn_kv=0.4, type='b', geodata=((1,9)))\n",
    "pp.create_bus(net, name='Bus CS 9', vn_kv=0.4, type='b', geodata=((6,3.5)))\n",
    "\n",
    "\n",
    "pp.create_transformer(net, hv_bus=14, lv_bus= pp.get_element_index(net,'bus', 'Bus CS 14'), name='CS 14 - 0.63MVA', std_type= '0.63 MVA 20/0.4 kV')\n",
    "pp.create_transformer(net, hv_bus=11, lv_bus=pp.get_element_index(net, 'bus', 'Bus CS 11'),  name='CS 11 - 0.4MVA',std_type= '0.4 MVA 20/0.4 kV')\n",
    "pp.create_transformer(net, hv_bus=5, lv_bus=pp.get_element_index (net, 'bus', 'Bus CS 5'),   name='CS 5 - 0.4MVA', std_type= '0.4 MVA 20/0.4 kV')\n",
    "pp.create_transformer(net, hv_bus=4, lv_bus=pp.get_element_index (net, 'bus', 'Bus CS 4'),   name='CS 4 - 0.25MVA', std_type= '0.25 MVA 20/0.4 kV')\n",
    "pp.create_transformer(net, hv_bus=9, lv_bus=pp.get_element_index (net, 'bus', 'Bus CS 9'),   name='CS 9 - 0.25MVA', std_type= '0.25 MVA 20/0.4 kV')\n",
    "\n",
    "#print(net)\n",
    "\n",
    "#ax = pplt.simple_plot(net, show_plot = False)\n",
    "#clc = pplt.create_line_collection(net, color =\"g\", linewidth = 3.,use_bus_geodata=(True))\n",
    "#pplt.draw_collections([clc], ax=ax)\n",
    "#plt.show()\n",
    "\n",
    "#Adding CS at rated power (6.6 kW)\n",
    "\n",
    "\n",
    "max_line_loading=100\n",
    "\n",
    "max_vm_pu= 1.1\n",
    "\n",
    "min_vm_pu= 0.9"
   ]
  },
  {
   "cell_type": "code",
   "execution_count": 23,
   "id": "2f8bd255-f71c-4ec8-9cd0-155c111b2b43",
   "metadata": {},
   "outputs": [],
   "source": [
    "#importing the active and reactive power of loads from excel\n",
    "df_active = pd.read_csv('active_power_time_series_ev_load.csv')\n",
    "df_reactive = pd.read_csv('reactive_power_time_series_ev_load.csv')\n",
    "# create the data source from\n",
    "ds_active = DFData(df_active)\n",
    "ds_reactive = DFData(df_reactive)\n",
    "\n",
    "def timeseries_example(output_dir):\n",
    "    \n",
    "    #defing the time step\n",
    "    n_timesteps = 24\n",
    "    \n",
    "    # 3. create controllers (to control P values of the load) ds_p is for active power and ds_q for reactive power\n",
    "    create_controllers(net, ds_active, ds_reactive)\n",
    "\n",
    "    # time steps to be calculated. Could also be a list with non-consecutive time steps\n",
    "    time_steps = range(0, n_timesteps)\n",
    "\n",
    "    # 4. the output writer with the desired results to be stored to files.\n",
    "    ow = create_output_writer(net, time_steps, output_dir=output_dir)\n",
    "\n",
    "    # 5. the main time series function\n",
    "    run_timeseries(net, time_steps) \n",
    "    \n",
    "    \n",
    "load_index=net.load.index\n",
    "load_name=net.load.name\n",
    "def create_controllers(net,ds_active,ds_reactive):\n",
    "    for i in range(len(load_index)):\n",
    "        ConstControl(net, element='load', variable='p_mw', element_index=load_index[i],\n",
    "                 data_source=ds_active, profile_name=load_name[i])\n",
    "        ConstControl(net, element='load', variable='q_mvar', element_index=load_index[i],\n",
    "                 data_source=ds_reactive, profile_name=load_name[i])\n",
    "\n",
    "def create_output_writer(net, time_steps, output_dir):\n",
    "    ow = OutputWriter(net, time_steps, output_path=output_dir, output_file_type=\".xlsx\", log_variables=list())\n",
    "    # these variables are saved to the harddisk after / during the time series loop\n",
    "    ow.log_variable('res_load', 'p_mw')\n",
    "    ow.log_variable('res_bus', 'vm_pu')\n",
    "    ow.log_variable('res_line', 'loading_percent')\n",
    "    ow.log_variable('res_line', 'i_ka')\n",
    "    ow.log_variable('res_trafo','loading_percent')\n",
    "    return ow\n"
   ]
  },
  {
   "cell_type": "code",
   "execution_count": 24,
   "id": "97dada38-2f4b-4f41-aed1-395ea6648aec",
   "metadata": {},
   "outputs": [
    {
     "name": "stdout",
     "output_type": "stream",
     "text": [
      "Results can be found in your local temp folder: time_series_ev\n"
     ]
    },
    {
     "name": "stderr",
     "output_type": "stream",
     "text": [
      "100%|██████████| 24/24 [00:01<00:00, 18.97it/s]\n"
     ]
    }
   ],
   "source": [
    "output_dir = os.path.join(\"time_series_ev\")\n",
    "print(\"Results can be found in your local temp folder: {}\".format(output_dir))\n",
    "if not os.path.exists(output_dir):\n",
    "    os.mkdir(output_dir)\n",
    "timeseries_example(output_dir)"
   ]
  },
  {
   "cell_type": "code",
   "execution_count": 25,
   "id": "d303d6b4-6848-424a-b98c-c2df1df2eb41",
   "metadata": {},
   "outputs": [],
   "source": [
    "ll_file = os.path.join(output_dir, \"res_line\", \"loading_percent.xlsx\")\n",
    "line_loading = pd.read_excel(ll_file, index_col=0)\n",
    "    \n",
    "vm_pu_file = os.path.join(output_dir, \"res_bus\", \"vm_pu.xlsx\")\n",
    "vm_pu = pd.read_excel(vm_pu_file, index_col=0)\n",
    "\n",
    "if any(line_loading.max()>100):\n",
    "        print(\"Overloaded lines\")\n",
    "\n",
    "elif any(vm_pu.max()>max_vm_pu):\n",
    "        print(\"voltage over maximum\")\n",
    "\n",
    "elif any(vm_pu.min()<min_vm_pu):\n",
    "         print(\"voltage below minimum\")"
   ]
  },
  {
   "cell_type": "code",
   "execution_count": 26,
   "id": "9746ef02-35ee-4195-856f-67de6c83f315",
   "metadata": {},
   "outputs": [],
   "source": [
    "#ev_loads\n",
    "#adding ev's\n",
    "\n",
    "for i in range (1,314):\n",
    "    l=str(i)\n",
    "    pp.create_load(net, bus=15, p_mw=0.0066, q_mvar=0, name=\"Vehicle \"+l)\n",
    "#Bus CS 11 (0.4 MVA) - trafo id: 3\n",
    "for i in range (314,402):\n",
    "    l=str(i)\n",
    "    pp.create_load(net, bus=16, p_mw=0.0066, q_mvar=0, name=\"Vehicle \"+l)\n",
    "\n",
    "#Bus CS 5 (0.4 MVA) - trafo id: 4\n",
    "for i in range (402,412):\n",
    "    l=str(i)\n",
    "    pp.create_load(net, bus=17, p_mw=0.0066, q_mvar=0, name=\"Vehicle \"+l)"
   ]
  },
  {
   "cell_type": "code",
   "execution_count": 27,
   "id": "4c999413-147d-45dc-9ab2-cc55babae9da",
   "metadata": {},
   "outputs": [
    {
     "name": "stdout",
     "output_type": "stream",
     "text": [
      "-----------------------------    STEP 1.2    -----------------------\n",
      "Results can be found in your local temp folder: time_series_ev\n"
     ]
    },
    {
     "name": "stderr",
     "output_type": "stream",
     "text": [
      "100%|██████████| 24/24 [00:01<00:00, 14.00it/s]\n"
     ]
    },
    {
     "name": "stdout",
     "output_type": "stream",
     "text": [
      "critical line\n",
      "0\n",
      "Results can be found in your local temp folder: time_series_ev\n"
     ]
    },
    {
     "name": "stderr",
     "output_type": "stream",
     "text": [
      "100%|██████████| 24/24 [00:01<00:00, 12.56it/s]\n"
     ]
    },
    {
     "name": "stdout",
     "output_type": "stream",
     "text": [
      "critical line\n",
      "1\n",
      "Results can be found in your local temp folder: time_series_ev\n"
     ]
    },
    {
     "name": "stderr",
     "output_type": "stream",
     "text": [
      "100%|██████████| 24/24 [00:02<00:00, 11.18it/s]\n"
     ]
    },
    {
     "name": "stdout",
     "output_type": "stream",
     "text": [
      "critical line\n",
      "2\n",
      "Results can be found in your local temp folder: time_series_ev\n"
     ]
    },
    {
     "name": "stderr",
     "output_type": "stream",
     "text": [
      "100%|██████████| 24/24 [00:02<00:00, 10.44it/s]\n"
     ]
    },
    {
     "name": "stdout",
     "output_type": "stream",
     "text": [
      "critical line\n",
      "3\n",
      "Results can be found in your local temp folder: time_series_ev\n"
     ]
    },
    {
     "name": "stderr",
     "output_type": "stream",
     "text": [
      "100%|██████████| 24/24 [00:02<00:00,  8.03it/s]\n"
     ]
    },
    {
     "name": "stdout",
     "output_type": "stream",
     "text": [
      "critical line\n",
      "4\n",
      "Results can be found in your local temp folder: time_series_ev\n"
     ]
    },
    {
     "name": "stderr",
     "output_type": "stream",
     "text": [
      "100%|██████████| 24/24 [00:02<00:00,  9.04it/s]\n"
     ]
    },
    {
     "name": "stdout",
     "output_type": "stream",
     "text": [
      "critical line\n",
      "5\n",
      "Results can be found in your local temp folder: time_series_ev\n"
     ]
    },
    {
     "name": "stderr",
     "output_type": "stream",
     "text": [
      "100%|██████████| 24/24 [00:02<00:00,  8.46it/s]\n"
     ]
    },
    {
     "name": "stdout",
     "output_type": "stream",
     "text": [
      "critical line\n",
      "6\n",
      "Results can be found in your local temp folder: time_series_ev\n"
     ]
    },
    {
     "name": "stderr",
     "output_type": "stream",
     "text": [
      "100%|██████████| 24/24 [00:03<00:00,  6.72it/s]\n"
     ]
    },
    {
     "name": "stdout",
     "output_type": "stream",
     "text": [
      "critical line\n",
      "7\n",
      "Results can be found in your local temp folder: time_series_ev\n"
     ]
    },
    {
     "name": "stderr",
     "output_type": "stream",
     "text": [
      "100%|██████████| 24/24 [00:03<00:00,  6.57it/s]\n"
     ]
    },
    {
     "name": "stdout",
     "output_type": "stream",
     "text": [
      "critical line\n",
      "8\n",
      "Results can be found in your local temp folder: time_series_ev\n"
     ]
    },
    {
     "name": "stderr",
     "output_type": "stream",
     "text": [
      "100%|██████████| 24/24 [00:03<00:00,  6.01it/s]\n"
     ]
    },
    {
     "name": "stdout",
     "output_type": "stream",
     "text": [
      "critical line\n",
      "9\n",
      "Results can be found in your local temp folder: time_series_ev\n"
     ]
    },
    {
     "name": "stderr",
     "output_type": "stream",
     "text": [
      "100%|██████████| 24/24 [00:04<00:00,  5.33it/s]\n"
     ]
    },
    {
     "name": "stdout",
     "output_type": "stream",
     "text": [
      "critical line\n",
      "10\n",
      "Results can be found in your local temp folder: time_series_ev\n"
     ]
    },
    {
     "name": "stderr",
     "output_type": "stream",
     "text": [
      "100%|██████████| 24/24 [00:04<00:00,  5.41it/s]\n"
     ]
    },
    {
     "name": "stdout",
     "output_type": "stream",
     "text": [
      "critical line\n",
      "11\n",
      "Results can be found in your local temp folder: time_series_ev\n"
     ]
    },
    {
     "name": "stderr",
     "output_type": "stream",
     "text": [
      "100%|██████████| 24/24 [00:04<00:00,  5.07it/s]\n"
     ]
    },
    {
     "name": "stdout",
     "output_type": "stream",
     "text": [
      "critical line\n",
      "12\n",
      "Results can be found in your local temp folder: time_series_ev\n"
     ]
    },
    {
     "name": "stderr",
     "output_type": "stream",
     "text": [
      "100%|██████████| 24/24 [00:04<00:00,  5.50it/s]\n"
     ]
    },
    {
     "name": "stdout",
     "output_type": "stream",
     "text": [
      "critical line\n",
      "13\n",
      "Results can be found in your local temp folder: time_series_ev\n"
     ]
    },
    {
     "name": "stderr",
     "output_type": "stream",
     "text": [
      "100%|██████████| 24/24 [00:04<00:00,  4.98it/s]"
     ]
    },
    {
     "name": "stdout",
     "output_type": "stream",
     "text": [
      "critical line\n",
      "14\n",
      "[0, 1, 2, 3, 4, 5, 6, 7, 8, 9, 10, 11, 12, 13, 14]\n"
     ]
    },
    {
     "name": "stderr",
     "output_type": "stream",
     "text": [
      "\n"
     ]
    }
   ],
   "source": [
    "print(\"-----------------------------    STEP 1.2    -----------------------\")\n",
    "\n",
    "#net = nw.create_cigre_network_mv()\n",
    "\n",
    "vmax = 1.05\n",
    "vmin = 0.95\n",
    "max_ll = 100\n",
    "\n",
    "lines = net.line.index \n",
    "N = list()\n",
    "\n",
    "for l in lines:\n",
    "    net.line.loc[l,\"in_service\"] = False\n",
    "    output_dir = os.path.join(\"time_series_ev\")\n",
    "    print(\"Results can be found in your local temp folder: {}\".format(output_dir))\n",
    "    if not os.path.exists(output_dir):\n",
    "        os.mkdir(output_dir)\n",
    "    timeseries_example(output_dir)\n",
    "    \n",
    "    ll_file = os.path.join(output_dir, \"res_line\", \"loading_percent.xlsx\")\n",
    "    line_loading = pd.read_excel(ll_file, index_col=0)\n",
    "    vm_pu_file = os.path.join(output_dir, \"res_bus\", \"vm_pu.xlsx\")\n",
    "    vm_pu = pd.read_excel(vm_pu_file, index_col=0)\n",
    "    \n",
    "    pp.runpp(net)\n",
    "    \n",
    "    if any(vm_pu.max() > vmax) or any(vm_pu.min() < vmin) or any(line_loading) > max_ll:\n",
    "        N.append(l)\n",
    "        print(\"critical line\")\n",
    "        print(l)\n",
    "       \n",
    "    net.line.loc[l,\"in_service\"] = True\n",
    "    \n",
    "#ax = pplt.simple_plot(net, show_plot = False)\n",
    "#clc = pplt.create_line_collection(net, N, color =\"r\", linewidth = 3.,use_bus_geodata=(True))\n",
    "#pplt.draw_collections([clc], ax=ax)\n",
    "#plt.show()\n",
    "print(N)"
   ]
  },
  {
   "cell_type": "code",
   "execution_count": null,
   "id": "0102b7ac-908b-47b8-b08e-dd87754467a3",
   "metadata": {},
   "outputs": [],
   "source": []
  },
  {
   "cell_type": "code",
   "execution_count": null,
   "id": "f3066512-b24d-41aa-9cf1-298a78aa0189",
   "metadata": {},
   "outputs": [],
   "source": []
  }
 ],
 "metadata": {
  "kernelspec": {
   "display_name": "Python 3 (ipykernel)",
   "language": "python",
   "name": "python3"
  },
  "language_info": {
   "codemirror_mode": {
    "name": "ipython",
    "version": 3
   },
   "file_extension": ".py",
   "mimetype": "text/x-python",
   "name": "python",
   "nbconvert_exporter": "python",
   "pygments_lexer": "ipython3",
   "version": "3.9.12"
  }
 },
 "nbformat": 4,
 "nbformat_minor": 5
}
