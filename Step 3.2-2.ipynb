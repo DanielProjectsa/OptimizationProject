{
 "cells": [
  {
   "cell_type": "code",
   "execution_count": 270,
   "id": "ba6cb70d",
   "metadata": {},
   "outputs": [],
   "source": [
    "import os\n",
    "import numpy as np\n",
    "import pandas as pd\n",
    "import tempfile\n",
    "\n",
    "import pandapower as pp\n",
    "import pandapower.networks as nw\n",
    "from pandapower.timeseries import DFData\n",
    "from pandapower.timeseries import OutputWriter\n",
    "from pandapower.timeseries.run_time_series import run_timeseries\n",
    "from pandapower.control import ConstControl\n",
    "import pandapower.plotting as pplt\n",
    "import matplotlib.pyplot as plt\n",
    "from pandapower.plotting.plotly import pf_res_plotly\n",
    "\n",
    "#creating our net\n",
    "net = nw.create_cigre_network_mv()\n",
    "\n",
    "#Creating buses and trafos\n",
    "\n",
    "pp.create_bus(net, name='Bus CS 14', vn_kv=0.4, type='b', geodata=((10,3.5)))\n",
    "pp.create_bus(net, name='Bus CS 11', vn_kv=0.4, type='b', geodata=((2.5,7)))\n",
    "pp.create_bus(net, name='Bus CS 5', vn_kv=0.4, type='b', geodata=((-0.5,7)))\n",
    "pp.create_bus(net, name='Bus CS 4', vn_kv=0.4, type='b', geodata=((1,9)))\n",
    "pp.create_bus(net, name='Bus CS 9', vn_kv=0.4, type='b', geodata=((6,3.5)))\n",
    "\n",
    "\n",
    "pp.create_transformer(net, hv_bus=14, lv_bus= pp.get_element_index(net,'bus', 'Bus CS 14'), name='CS 14 - 0.63MVA', std_type= '0.63 MVA 20/0.4 kV')\n",
    "pp.create_transformer(net, hv_bus=11, lv_bus=pp.get_element_index(net, 'bus', 'Bus CS 11'),  name='CS 11 - 0.4MVA',std_type= '0.4 MVA 20/0.4 kV')\n",
    "pp.create_transformer(net, hv_bus=5, lv_bus=pp.get_element_index (net, 'bus', 'Bus CS 5'),   name='CS 5 - 0.4MVA', std_type= '0.4 MVA 20/0.4 kV')\n",
    "pp.create_transformer(net, hv_bus=4, lv_bus=pp.get_element_index (net, 'bus', 'Bus CS 4'),   name='CS 4 - 0.25MVA', std_type= '0.25 MVA 20/0.4 kV')\n",
    "pp.create_transformer(net, hv_bus=9, lv_bus=pp.get_element_index (net, 'bus', 'Bus CS 9'),   name='CS 9 - 0.25MVA', std_type= '0.25 MVA 20/0.4 kV')\n",
    "\n",
    "#print(net)\n",
    "\n",
    "#ax = pplt.simple_plot(net, show_plot = False)\n",
    "#clc = pplt.create_line_collection(net, color =\"g\", linewidth = 3.,use_bus_geodata=(True))\n",
    "#pplt.draw_collections([clc], ax=ax)\n",
    "#plt.show()\n",
    "\n",
    "#Adding CS at rated power (6.6 kW)\n",
    "\n",
    "\n",
    "max_line_loading=100\n",
    "\n",
    "max_vm_pu= 1.1\n",
    "\n",
    "min_vm_pu= 0.9\n",
    "\n",
    "net.switch.closed[1] = True\n",
    "net.switch.closed[2] = True\n",
    "net.switch.closed[4] = True\n"
   ]
  },
  {
   "cell_type": "code",
   "execution_count": 271,
   "id": "fb403d98",
   "metadata": {},
   "outputs": [],
   "source": [
    "\n",
    "#importing the active and reactive power of loads from excel\n",
    "df_active = pd.read_csv('active_power_time_series_ev_load.csv')\n",
    "df_reactive = pd.read_csv('reactive_power_time_series_ev_load.csv')\n",
    "# create the data source from\n",
    "ds_active = DFData(df_active)\n",
    "ds_reactive = DFData(df_reactive)\n",
    "\n",
    "def timeseries_example(output_dir):\n",
    "    \n",
    "    #defing the time step\n",
    "    n_timesteps = 24\n",
    "    \n",
    "    # 3. create controllers (to control P values of the load) ds_p is for active power and ds_q for reactive power\n",
    "    create_controllers(net, ds_active, ds_reactive)\n",
    "\n",
    "    # time steps to be calculated. Could also be a list with non-consecutive time steps\n",
    "    time_steps = range(0, n_timesteps)\n",
    "\n",
    "    # 4. the output writer with the desired results to be stored to files.\n",
    "    ow = create_output_writer(net, time_steps, output_dir=output_dir)\n",
    "\n",
    "    # 5. the main time series function\n",
    "    run_timeseries(net, time_steps) \n",
    "    \n",
    "    \n",
    "load_index=net.load.index\n",
    "load_name=net.load.name\n",
    "def create_controllers(net,ds_active,ds_reactive):\n",
    "    for i in range(len(load_index)):\n",
    "        ConstControl(net, element='load', variable='p_mw', element_index=load_index[i],\n",
    "                 data_source=ds_active, profile_name=load_name[i])\n",
    "        ConstControl(net, element='load', variable='q_mvar', element_index=load_index[i],\n",
    "                 data_source=ds_reactive, profile_name=load_name[i])\n",
    "\n",
    "def create_output_writer(net, time_steps, output_dir):\n",
    "    ow = OutputWriter(net, time_steps, output_path=output_dir, output_file_type=\".xlsx\", log_variables=list())\n",
    "    # these variables are saved to the harddisk after / during the time series loop\n",
    "    ow.log_variable('res_load', 'p_mw')\n",
    "    ow.log_variable('res_bus', 'vm_pu')\n",
    "    ow.log_variable('res_line', 'loading_percent')\n",
    "    ow.log_variable('res_line', 'i_ka')\n",
    "    ow.log_variable('res_trafo','loading_percent')\n",
    "    return ow\n",
    "\n",
    "\n",
    "#"
   ]
  },
  {
   "cell_type": "code",
   "execution_count": 272,
   "id": "f1deeb4c",
   "metadata": {},
   "outputs": [
    {
     "name": "stdout",
     "output_type": "stream",
     "text": [
      "Results can be found in your local temp folder: time_series_ev\n"
     ]
    },
    {
     "name": "stderr",
     "output_type": "stream",
     "text": [
      "100%|██████████████████████████████████████████| 24/24 [00:00<00:00, 112.61it/s]\n"
     ]
    }
   ],
   "source": [
    "output_dir = os.path.join(\"time_series_ev\")\n",
    "print(\"Results can be found in your local temp folder: {}\".format(output_dir))\n",
    "if not os.path.exists(output_dir):\n",
    "    os.mkdir(output_dir)\n",
    "timeseries_example(output_dir)"
   ]
  },
  {
   "cell_type": "code",
   "execution_count": 273,
   "id": "aaae4fca",
   "metadata": {},
   "outputs": [],
   "source": [
    "ll_file = os.path.join(output_dir, \"res_line\", \"loading_percent.xlsx\")\n",
    "line_loading = pd.read_excel(ll_file, index_col=0)\n",
    "    \n",
    "vm_pu_file = os.path.join(output_dir, \"res_bus\", \"vm_pu.xlsx\")\n",
    "vm_pu = pd.read_excel(vm_pu_file, index_col=0)\n",
    "\n",
    "trafo_loading_file = os.path.join(output_dir, \"res_trafo\", \"loading_percent.xlsx\")\n",
    "trafo_loading = pd.read_excel(trafo_loading_file, index_col=0)\n",
    "\n",
    "if any(line_loading.max()>100):\n",
    "        print(\"Overloaded lines\")\n",
    "\n",
    "elif any(vm_pu.max()>max_vm_pu):\n",
    "        print(\"voltage over maximum\")\n",
    "\n",
    "elif any(vm_pu.min()<min_vm_pu):\n",
    "         print(\"voltage below minimum\")"
   ]
  },
  {
   "cell_type": "code",
   "execution_count": 274,
   "id": "c3f4c925",
   "metadata": {},
   "outputs": [],
   "source": [
    "#lowlimit=350\n",
    "#uplimit=400\n",
    "\n",
    "#Bus CS 14 (0.63 MVA) - trafo id: 2\n",
    "\n",
    "#for i in range (1,41):\n",
    " #   l = str(i)\n",
    "  #  pp.create_load(net, bus=15, p_mw=0.0066, q_mvar=0, name=\"Vehicle \"+l)\n",
    "\n",
    "#Bus CS 11 (0.4 MVA) - trafo id: 3\n",
    "#for i in range (uplimit,uplimit+20):\n",
    "#    l = str(i)\n",
    " #   pp.create_load(net, bus=16, p_mw=0.0066, q_mvar=0, name=\"Vehicle \"+l)\n",
    "\n",
    "#Bus CS 5 (0.4 MVA) - trafo id: 4\n",
    "#for i in range (uplimit+20,uplimit+40):\n",
    "  #  l = str(i)\n",
    "  #  pp.create_load(net, bus=17, p_mw=0.0066, q_mvar=0, name=\"Vehicle \"+l)\n",
    "    \n",
    "#Bus CS 4 (0.25 MVA) - trafo id: 5\n",
    "#for i in range (uplimit+40,uplimit+50):\n",
    " #   l = str(i)\n",
    " #   pp.create_load(net, bus=18, p_mw=0.0066, q_mvar=0, name=\"Vehicle \"+l)\n",
    "    \n",
    "#Bus CS 9 (0.25 MVA)- trafo id: 6\n",
    "#for i in range (uplimit+50,uplimit+60):\n",
    "  #  l = str(i)\n",
    " #   pp.create_load(net, bus=19, p_mw=0.0066, q_mvar=0, name=\"Vehicle \"+l)\n",
    "\n",
    "\n"
   ]
  },
  {
   "cell_type": "code",
   "execution_count": 275,
   "id": "6fec9f65",
   "metadata": {
    "scrolled": false
   },
   "outputs": [
    {
     "name": "stdout",
     "output_type": "stream",
     "text": [
      "92\n",
      "Results can be found in your local temp folder: time_series_ev\n"
     ]
    },
    {
     "name": "stderr",
     "output_type": "stream",
     "text": [
      "100%|███████████████████████████████████████████| 24/24 [00:00<00:00, 93.34it/s]\n"
     ]
    },
    {
     "name": "stdout",
     "output_type": "stream",
     "text": [
      "93\n",
      "Results can be found in your local temp folder: time_series_ev\n"
     ]
    },
    {
     "name": "stderr",
     "output_type": "stream",
     "text": [
      "100%|███████████████████████████████████████████| 24/24 [00:00<00:00, 90.30it/s]\n"
     ]
    },
    {
     "name": "stdout",
     "output_type": "stream",
     "text": [
      "overloaded trafo\n",
      "Results can be found in your local temp folder: time_series_ev\n"
     ]
    },
    {
     "name": "stderr",
     "output_type": "stream",
     "text": [
      "100%|██████████████████████████████████████████| 24/24 [00:00<00:00, 118.30it/s]\n"
     ]
    }
   ],
   "source": [
    "\n",
    "lowlimit1=91\n",
    "uplimit1=120\n",
    "\n",
    "#Bus CS 14 (0.63 MVA) - trafo id: 2\n",
    "\n",
    "for i in range (1,lowlimit1):\n",
    "    l = str(i)\n",
    "    pp.create_load(net, bus=15, p_mw=0.0066, q_mvar=0, name=\"Vehicle \"+l)\n",
    "\n",
    "c=lowlimit1\n",
    "while all(vm_pu.max()<max_vm_pu) and all(line_loading.max()<100) and all(vm_pu.min()>min_vm_pu) and c<uplimit1 and all(trafo_loading.max()<100):\n",
    "    \n",
    "    c=c+1\n",
    "    print(c)\n",
    "    k=str(c)\n",
    "    pp.create_load(net, bus=15, p_mw=0.0066, q_mvar=0, name=\"Vehicle \"+k)\n",
    "    \n",
    "    output_dir = os.path.join(\"time_series_ev\")\n",
    "    print(\"Results can be found in your local temp folder: {}\".format(output_dir))\n",
    "    if not os.path.exists(output_dir):\n",
    "        os.mkdir(output_dir)\n",
    "    timeseries_example(output_dir)\n",
    "\n",
    "    ll_file = os.path.join(output_dir, \"res_line\", \"loading_percent.xlsx\")\n",
    "    line_loading = pd.read_excel(ll_file, index_col=0)\n",
    "    \n",
    "    vm_pu_file = os.path.join(output_dir, \"res_bus\", \"vm_pu.xlsx\")\n",
    "    vm_pu = pd.read_excel(vm_pu_file, index_col=0)\n",
    "    \n",
    "    trafo_loading_file = os.path.join(output_dir, \"res_trafo\", \"loading_percent.xlsx\")\n",
    "    trafo_loading = pd.read_excel(trafo_loading_file, index_col=0)\n",
    "\n",
    "    if any(line_loading.max()>100):\n",
    "        print(\"Overloaded lines\")\n",
    "\n",
    "    elif any(vm_pu.max()>max_vm_pu):\n",
    "        print(\"voltage over maximum\")\n",
    "\n",
    "    elif any(vm_pu.min()<min_vm_pu):\n",
    "         print(\"voltage below minimum\")\n",
    "            \n",
    "    elif c==uplimit1:\n",
    "        print(\"no maximum has been found\")\n",
    "        \n",
    "    elif any(trafo_loading.max()>100):\n",
    "        print(\"overloaded trafo\")\n",
    "        \n",
    "#creating our net\n",
    "net = nw.create_cigre_network_mv()\n",
    "\n",
    "net.switch.closed[1] = True\n",
    "net.switch.closed[2] = True\n",
    "net.switch.closed[4] = True\n",
    "\n",
    "#Creating buses and trafos\n",
    "\n",
    "pp.create_bus(net, name='Bus CS 14', vn_kv=0.4, type='b', geodata=((10,3.5)))\n",
    "pp.create_bus(net, name='Bus CS 11', vn_kv=0.4, type='b', geodata=((2.5,7)))\n",
    "pp.create_bus(net, name='Bus CS 5', vn_kv=0.4, type='b', geodata=((-0.5,7)))\n",
    "pp.create_bus(net, name='Bus CS 4', vn_kv=0.4, type='b', geodata=((1,9)))\n",
    "pp.create_bus(net, name='Bus CS 9', vn_kv=0.4, type='b', geodata=((6,3.5)))\n",
    "\n",
    "\n",
    "pp.create_transformer(net, hv_bus=14, lv_bus= pp.get_element_index(net,'bus', 'Bus CS 14'), name='CS 14 - 0.63MVA', std_type= '0.63 MVA 20/0.4 kV')\n",
    "pp.create_transformer(net, hv_bus=11, lv_bus=pp.get_element_index(net, 'bus', 'Bus CS 11'),  name='CS 11 - 0.4MVA',std_type= '0.4 MVA 20/0.4 kV')\n",
    "pp.create_transformer(net, hv_bus=5, lv_bus=pp.get_element_index (net, 'bus', 'Bus CS 5'),   name='CS 5 - 0.4MVA', std_type= '0.4 MVA 20/0.4 kV')\n",
    "pp.create_transformer(net, hv_bus=4, lv_bus=pp.get_element_index (net, 'bus', 'Bus CS 4'),   name='CS 4 - 0.25MVA', std_type= '0.25 MVA 20/0.4 kV')\n",
    "pp.create_transformer(net, hv_bus=9, lv_bus=pp.get_element_index (net, 'bus', 'Bus CS 9'),   name='CS 9 - 0.25MVA', std_type= '0.25 MVA 20/0.4 kV')\n",
    "\n",
    "\n",
    "for i in range (1,c-1):\n",
    "    l = str(i)\n",
    "    pp.create_load(net, bus=15, p_mw=0.0066, q_mvar=0, name=\"Vehicle \"+l)\n",
    "    \n",
    "output_dir = os.path.join(\"time_series_ev\")\n",
    "print(\"Results can be found in your local temp folder: {}\".format(output_dir))\n",
    "if not os.path.exists(output_dir):\n",
    "    os.mkdir(output_dir)\n",
    "timeseries_example(output_dir)\n",
    "\n",
    "ll_file = os.path.join(output_dir, \"res_line\", \"loading_percent.xlsx\")\n",
    "line_loading = pd.read_excel(ll_file, index_col=0)\n",
    "\n",
    "vm_pu_file = os.path.join(output_dir, \"res_bus\", \"vm_pu.xlsx\")\n",
    "vm_pu = pd.read_excel(vm_pu_file, index_col=0)\n",
    "\n",
    "\n",
    "trafo_loading_file = os.path.join(output_dir, \"res_trafo\", \"loading_percent.xlsx\")\n",
    "trafo_loading = pd.read_excel(trafo_loading_file, index_col=0)"
   ]
  },
  {
   "cell_type": "code",
   "execution_count": 276,
   "id": "fd07d58f",
   "metadata": {},
   "outputs": [
    {
     "data": {
      "text/plain": [
       "0    79.843121\n",
       "1    81.995791\n",
       "2    99.765200\n",
       "3     0.341654\n",
       "4     0.341638\n",
       "5     0.323989\n",
       "6     0.323927\n",
       "dtype: float64"
      ]
     },
     "execution_count": 276,
     "metadata": {},
     "output_type": "execute_result"
    }
   ],
   "source": [
    "trafo_loading.max()"
   ]
  },
  {
   "cell_type": "code",
   "execution_count": 277,
   "id": "b097c312",
   "metadata": {},
   "outputs": [
    {
     "name": "stdout",
     "output_type": "stream",
     "text": [
      "148\n",
      "Results can be found in your local temp folder: time_series_ev\n"
     ]
    },
    {
     "name": "stderr",
     "output_type": "stream",
     "text": [
      "100%|██████████████████████████████████████████| 24/24 [00:00<00:00, 107.39it/s]\n"
     ]
    },
    {
     "name": "stdout",
     "output_type": "stream",
     "text": [
      "149\n",
      "Results can be found in your local temp folder: time_series_ev\n"
     ]
    },
    {
     "name": "stderr",
     "output_type": "stream",
     "text": [
      "100%|███████████████████████████████████████████| 24/24 [00:00<00:00, 84.15it/s]\n"
     ]
    },
    {
     "name": "stdout",
     "output_type": "stream",
     "text": [
      "150\n",
      "Results can be found in your local temp folder: time_series_ev\n"
     ]
    },
    {
     "name": "stderr",
     "output_type": "stream",
     "text": [
      "100%|███████████████████████████████████████████| 24/24 [00:00<00:00, 77.28it/s]\n"
     ]
    },
    {
     "name": "stdout",
     "output_type": "stream",
     "text": [
      "overloaded trafo\n",
      "57\n",
      "Results can be found in your local temp folder: time_series_ev\n"
     ]
    },
    {
     "name": "stderr",
     "output_type": "stream",
     "text": [
      "100%|██████████████████████████████████████████| 24/24 [00:00<00:00, 118.63it/s]\n"
     ]
    }
   ],
   "source": [
    "c15=c-1\n",
    "EVs_B15=c15\n",
    "\n",
    "lowlimit2=c15+55\n",
    "uplimit2=c15+100\n",
    "\n",
    "#Bus CS 14 (0.63 MVA) - trafo id: 2\n",
    "\n",
    "for i in range (c15,lowlimit2):\n",
    "    l = str(i)\n",
    "    pp.create_load(net, bus=16, p_mw=0.0066, q_mvar=0, name=\"Vehicle \"+l)\n",
    "\n",
    "c=lowlimit2\n",
    "while all(vm_pu.max()<max_vm_pu) and all(line_loading.max()<100) and all(vm_pu.min()>min_vm_pu) and c<uplimit2 and all(trafo_loading.max()<100):\n",
    "    \n",
    "    \n",
    "    c=c+1\n",
    "    print(c)\n",
    "    k=str(c)\n",
    "    pp.create_load(net, bus=16, p_mw=0.0066, q_mvar=0, name=\"Vehicle \"+k)\n",
    "    \n",
    "    output_dir = os.path.join(\"time_series_ev\")\n",
    "    print(\"Results can be found in your local temp folder: {}\".format(output_dir))\n",
    "    if not os.path.exists(output_dir):\n",
    "        os.mkdir(output_dir)\n",
    "    timeseries_example(output_dir)\n",
    "\n",
    "    ll_file = os.path.join(output_dir, \"res_line\", \"loading_percent.xlsx\")\n",
    "    line_loading = pd.read_excel(ll_file, index_col=0)\n",
    "    \n",
    "    vm_pu_file = os.path.join(output_dir, \"res_bus\", \"vm_pu.xlsx\")\n",
    "    vm_pu = pd.read_excel(vm_pu_file, index_col=0)\n",
    "    \n",
    "    \n",
    "    trafo_loading_file = os.path.join(output_dir, \"res_trafo\", \"loading_percent.xlsx\")\n",
    "    trafo_loading = pd.read_excel(trafo_loading_file, index_col=0)\n",
    "\n",
    "\n",
    "    if any(line_loading.max()>100):\n",
    "        print(\"Overloaded lines\")\n",
    "\n",
    "    elif any(vm_pu.max()>max_vm_pu):\n",
    "        print(\"voltage over maximum\")\n",
    "\n",
    "    elif any(vm_pu.min()<min_vm_pu):\n",
    "         print(\"voltage below minimum\")\n",
    "            \n",
    "    elif c==uplimit2:\n",
    "        print(\"no maximum has been found\")\n",
    "   \n",
    "    elif any(trafo_loading.max()>100):\n",
    "        print(\"overloaded trafo\")\n",
    "        \n",
    "c16=c-1\n",
    "EVs_B16=c16-c15        \n",
    "print(EVs_B16)        \n",
    "        \n",
    "#creating our net\n",
    "net = nw.create_cigre_network_mv()\n",
    "net.switch.closed[1] = True\n",
    "net.switch.closed[2] = True\n",
    "net.switch.closed[4] = True\n",
    "\n",
    "#Creating buses and trafos\n",
    "\n",
    "pp.create_bus(net, name='Bus CS 14', vn_kv=0.4, type='b', geodata=((10,3.5)))\n",
    "pp.create_bus(net, name='Bus CS 11', vn_kv=0.4, type='b', geodata=((2.5,7)))\n",
    "pp.create_bus(net, name='Bus CS 5', vn_kv=0.4, type='b', geodata=((-0.5,7)))\n",
    "pp.create_bus(net, name='Bus CS 4', vn_kv=0.4, type='b', geodata=((1,9)))\n",
    "pp.create_bus(net, name='Bus CS 9', vn_kv=0.4, type='b', geodata=((6,3.5)))\n",
    "\n",
    "\n",
    "pp.create_transformer(net, hv_bus=14, lv_bus= pp.get_element_index(net,'bus', 'Bus CS 14'), name='CS 14 - 0.63MVA', std_type= '0.63 MVA 20/0.4 kV')\n",
    "pp.create_transformer(net, hv_bus=11, lv_bus=pp.get_element_index(net, 'bus', 'Bus CS 11'),  name='CS 11 - 0.4MVA',std_type= '0.4 MVA 20/0.4 kV')\n",
    "pp.create_transformer(net, hv_bus=5, lv_bus=pp.get_element_index (net, 'bus', 'Bus CS 5'),   name='CS 5 - 0.4MVA', std_type= '0.4 MVA 20/0.4 kV')\n",
    "pp.create_transformer(net, hv_bus=4, lv_bus=pp.get_element_index (net, 'bus', 'Bus CS 4'),   name='CS 4 - 0.25MVA', std_type= '0.25 MVA 20/0.4 kV')\n",
    "pp.create_transformer(net, hv_bus=9, lv_bus=pp.get_element_index (net, 'bus', 'Bus CS 9'),   name='CS 9 - 0.25MVA', std_type= '0.25 MVA 20/0.4 kV')\n",
    "\n",
    "\n",
    "for i in range (1,c15):\n",
    "    l = str(i)\n",
    "    pp.create_load(net, bus=15, p_mw=0.0066, q_mvar=0, name=\"Vehicle \"+l)\n",
    "\n",
    "for i in range (c15,c16):\n",
    "    l = str(i)\n",
    "    pp.create_load(net, bus=16, p_mw=0.0066, q_mvar=0, name=\"Vehicle \"+l)\n",
    "    \n",
    "output_dir = os.path.join(\"time_series_ev\")\n",
    "print(\"Results can be found in your local temp folder: {}\".format(output_dir))\n",
    "if not os.path.exists(output_dir):\n",
    "    os.mkdir(output_dir)\n",
    "timeseries_example(output_dir)\n",
    "\n",
    "ll_file = os.path.join(output_dir, \"res_line\", \"loading_percent.xlsx\")\n",
    "line_loading = pd.read_excel(ll_file, index_col=0)\n",
    "\n",
    "vm_pu_file = os.path.join(output_dir, \"res_bus\", \"vm_pu.xlsx\")\n",
    "vm_pu = pd.read_excel(vm_pu_file, index_col=0)\n",
    "\n",
    "\n",
    "trafo_loading_file = os.path.join(output_dir, \"res_trafo\", \"loading_percent.xlsx\")\n",
    "trafo_loading = pd.read_excel(trafo_loading_file, index_col=0)\n"
   ]
  },
  {
   "cell_type": "code",
   "execution_count": 278,
   "id": "871ca64a",
   "metadata": {},
   "outputs": [
    {
     "data": {
      "text/plain": [
       "0    80.666267\n",
       "1    82.833677\n",
       "2    99.999361\n",
       "3    99.571839\n",
       "4     0.340790\n",
       "5     0.323178\n",
       "6     0.323141\n",
       "dtype: float64"
      ]
     },
     "execution_count": 278,
     "metadata": {},
     "output_type": "execute_result"
    }
   ],
   "source": [
    "trafo_loading.max()"
   ]
  },
  {
   "cell_type": "code",
   "execution_count": 279,
   "id": "2bae1d43",
   "metadata": {},
   "outputs": [
    {
     "name": "stdout",
     "output_type": "stream",
     "text": [
      "207\n",
      "Results can be found in your local temp folder: time_series_ev\n"
     ]
    },
    {
     "name": "stderr",
     "output_type": "stream",
     "text": [
      "100%|██████████████████████████████████████████| 24/24 [00:00<00:00, 102.39it/s]\n"
     ]
    },
    {
     "name": "stdout",
     "output_type": "stream",
     "text": [
      "overloaded trafo\n",
      "57\n",
      "Results can be found in your local temp folder: time_series_ev\n"
     ]
    },
    {
     "name": "stderr",
     "output_type": "stream",
     "text": [
      "100%|██████████████████████████████████████████| 24/24 [00:00<00:00, 110.73it/s]\n"
     ]
    }
   ],
   "source": [
    "\n",
    "\n",
    "lowlimit3=c16+57\n",
    "uplimit3=c16+70\n",
    "\n",
    "\n",
    "for i in range (c16,lowlimit3):\n",
    "    l = str(i)\n",
    "    pp.create_load(net, bus=17, p_mw=0.0066, q_mvar=0, name=\"Vehicle \"+l)\n",
    "\n",
    "c=lowlimit3\n",
    "while all(vm_pu.max()<max_vm_pu) and all(line_loading.max()<100) and all(vm_pu.min()>min_vm_pu) and c<uplimit3  and all(trafo_loading.max()<100):\n",
    "    \n",
    "    c=c+1\n",
    "    print(c)\n",
    "    k=str(c)\n",
    "    pp.create_load(net, bus=17, p_mw=0.0066, q_mvar=0, name=\"Vehicle \"+k)\n",
    "    \n",
    "    output_dir = os.path.join(\"time_series_ev\")\n",
    "    print(\"Results can be found in your local temp folder: {}\".format(output_dir))\n",
    "    if not os.path.exists(output_dir):\n",
    "        os.mkdir(output_dir)\n",
    "    timeseries_example(output_dir)\n",
    "\n",
    "    ll_file = os.path.join(output_dir, \"res_line\", \"loading_percent.xlsx\")\n",
    "    line_loading = pd.read_excel(ll_file, index_col=0)\n",
    "    \n",
    "    vm_pu_file = os.path.join(output_dir, \"res_bus\", \"vm_pu.xlsx\")\n",
    "    vm_pu = pd.read_excel(vm_pu_file, index_col=0)\n",
    "    \n",
    "    trafo_loading_file = os.path.join(output_dir, \"res_trafo\", \"loading_percent.xlsx\")\n",
    "    trafo_loading = pd.read_excel(trafo_loading_file, index_col=0)\n",
    "\n",
    "    if any(line_loading.max()>100):\n",
    "        print(\"Overloaded lines\")\n",
    "\n",
    "    elif any(vm_pu.max()>max_vm_pu):\n",
    "        print(\"voltage over maximum\")\n",
    "\n",
    "    elif any(vm_pu.min()<min_vm_pu):\n",
    "         print(\"voltage below minimum\")\n",
    "            \n",
    "    elif c==uplimit3:\n",
    "        print(\"no maximum has been found\")\n",
    "    elif any(trafo_loading.max()>100):\n",
    "        print(\"overloaded trafo\")\n",
    "        \n",
    "        \n",
    "c17=c-1\n",
    "EVs_B17=c17-c16       \n",
    "print(EVs_B17)        \n",
    "        \n",
    "#creating our net\n",
    "net = nw.create_cigre_network_mv()\n",
    "net.switch.closed[1] = True\n",
    "net.switch.closed[2] = True\n",
    "net.switch.closed[4] = True\n",
    "\n",
    "#Creating buses and trafos\n",
    "\n",
    "pp.create_bus(net, name='Bus CS 14', vn_kv=0.4, type='b', geodata=((10,3.5)))\n",
    "pp.create_bus(net, name='Bus CS 11', vn_kv=0.4, type='b', geodata=((2.5,7)))\n",
    "pp.create_bus(net, name='Bus CS 5', vn_kv=0.4, type='b', geodata=((-0.5,7)))\n",
    "pp.create_bus(net, name='Bus CS 4', vn_kv=0.4, type='b', geodata=((1,9)))\n",
    "pp.create_bus(net, name='Bus CS 9', vn_kv=0.4, type='b', geodata=((6,3.5)))\n",
    "\n",
    "\n",
    "pp.create_transformer(net, hv_bus=14, lv_bus= pp.get_element_index(net,'bus', 'Bus CS 14'), name='CS 14 - 0.63MVA', std_type= '0.63 MVA 20/0.4 kV')\n",
    "pp.create_transformer(net, hv_bus=11, lv_bus=pp.get_element_index(net, 'bus', 'Bus CS 11'),  name='CS 11 - 0.4MVA',std_type= '0.4 MVA 20/0.4 kV')\n",
    "pp.create_transformer(net, hv_bus=5, lv_bus=pp.get_element_index (net, 'bus', 'Bus CS 5'),   name='CS 5 - 0.4MVA', std_type= '0.4 MVA 20/0.4 kV')\n",
    "pp.create_transformer(net, hv_bus=4, lv_bus=pp.get_element_index (net, 'bus', 'Bus CS 4'),   name='CS 4 - 0.25MVA', std_type= '0.25 MVA 20/0.4 kV')\n",
    "pp.create_transformer(net, hv_bus=9, lv_bus=pp.get_element_index (net, 'bus', 'Bus CS 9'),   name='CS 9 - 0.25MVA', std_type= '0.25 MVA 20/0.4 kV')\n",
    "\n",
    "\n",
    "for i in range (1,c15-1):\n",
    "    l = str(i)\n",
    "    pp.create_load(net, bus=15, p_mw=0.0066, q_mvar=0, name=\"Vehicle \"+l)\n",
    "\n",
    "for i in range (c15,c16):\n",
    "    l = str(i)\n",
    "    pp.create_load(net, bus=16, p_mw=0.0066, q_mvar=0, name=\"Vehicle \"+l)\n",
    "\n",
    "for i in range (c16,c17):\n",
    "    l = str(i)\n",
    "    pp.create_load(net, bus=17, p_mw=0.0066, q_mvar=0, name=\"Vehicle \"+l)\n",
    "    \n",
    "output_dir = os.path.join(\"time_series_ev\")\n",
    "print(\"Results can be found in your local temp folder: {}\".format(output_dir))\n",
    "if not os.path.exists(output_dir):\n",
    "    os.mkdir(output_dir)\n",
    "timeseries_example(output_dir)\n",
    "\n",
    "ll_file = os.path.join(output_dir, \"res_line\", \"loading_percent.xlsx\")\n",
    "line_loading = pd.read_excel(ll_file, index_col=0)\n",
    "\n",
    "vm_pu_file = os.path.join(output_dir, \"res_bus\", \"vm_pu.xlsx\")\n",
    "vm_pu = pd.read_excel(vm_pu_file, index_col=0)\n",
    "\n",
    "\n",
    "trafo_loading_file = os.path.join(output_dir, \"res_trafo\", \"loading_percent.xlsx\")\n",
    "trafo_loading = pd.read_excel(trafo_loading_file, index_col=0)"
   ]
  },
  {
   "cell_type": "code",
   "execution_count": 280,
   "id": "3d229117",
   "metadata": {},
   "outputs": [
    {
     "data": {
      "text/plain": [
       "True"
      ]
     },
     "execution_count": 280,
     "metadata": {},
     "output_type": "execute_result"
    }
   ],
   "source": [
    "all(trafo_loading.max()<100)"
   ]
  },
  {
   "cell_type": "code",
   "execution_count": 281,
   "id": "6ea276c7",
   "metadata": {},
   "outputs": [
    {
     "name": "stdout",
     "output_type": "stream",
     "text": [
      "0    81.489479\n",
      "1    83.656802\n",
      "2    99.114264\n",
      "3    99.877721\n",
      "4    99.920934\n",
      "5     0.322362\n",
      "6     0.322375\n",
      "dtype: float64\n"
     ]
    }
   ],
   "source": [
    "print(trafo_loading.max())"
   ]
  },
  {
   "cell_type": "code",
   "execution_count": 282,
   "id": "d9330f41",
   "metadata": {},
   "outputs": [
    {
     "data": {
      "text/html": [
       "<div>\n",
       "<style scoped>\n",
       "    .dataframe tbody tr th:only-of-type {\n",
       "        vertical-align: middle;\n",
       "    }\n",
       "\n",
       "    .dataframe tbody tr th {\n",
       "        vertical-align: top;\n",
       "    }\n",
       "\n",
       "    .dataframe thead th {\n",
       "        text-align: right;\n",
       "    }\n",
       "</style>\n",
       "<table border=\"1\" class=\"dataframe\">\n",
       "  <thead>\n",
       "    <tr style=\"text-align: right;\">\n",
       "      <th></th>\n",
       "      <th>0</th>\n",
       "      <th>1</th>\n",
       "      <th>2</th>\n",
       "      <th>3</th>\n",
       "      <th>4</th>\n",
       "      <th>5</th>\n",
       "      <th>6</th>\n",
       "    </tr>\n",
       "  </thead>\n",
       "  <tbody>\n",
       "    <tr>\n",
       "      <th>0</th>\n",
       "      <td>27.621479</td>\n",
       "      <td>28.613024</td>\n",
       "      <td>95.076239</td>\n",
       "      <td>95.330442</td>\n",
       "      <td>95.345636</td>\n",
       "      <td>0.321728</td>\n",
       "      <td>0.321741</td>\n",
       "    </tr>\n",
       "    <tr>\n",
       "      <th>1</th>\n",
       "      <td>26.667978</td>\n",
       "      <td>27.638752</td>\n",
       "      <td>95.012245</td>\n",
       "      <td>95.258450</td>\n",
       "      <td>95.273206</td>\n",
       "      <td>0.321963</td>\n",
       "      <td>0.321976</td>\n",
       "    </tr>\n",
       "    <tr>\n",
       "      <th>2</th>\n",
       "      <td>25.683036</td>\n",
       "      <td>26.632379</td>\n",
       "      <td>94.946391</td>\n",
       "      <td>95.184365</td>\n",
       "      <td>95.198670</td>\n",
       "      <td>0.322206</td>\n",
       "      <td>0.322218</td>\n",
       "    </tr>\n",
       "    <tr>\n",
       "      <th>3</th>\n",
       "      <td>25.678092</td>\n",
       "      <td>26.627327</td>\n",
       "      <td>94.946061</td>\n",
       "      <td>95.183994</td>\n",
       "      <td>95.198296</td>\n",
       "      <td>0.322207</td>\n",
       "      <td>0.322220</td>\n",
       "    </tr>\n",
       "    <tr>\n",
       "      <th>4</th>\n",
       "      <td>25.045630</td>\n",
       "      <td>25.981119</td>\n",
       "      <td>94.903908</td>\n",
       "      <td>95.136573</td>\n",
       "      <td>95.150587</td>\n",
       "      <td>0.322362</td>\n",
       "      <td>0.322375</td>\n",
       "    </tr>\n",
       "    <tr>\n",
       "      <th>5</th>\n",
       "      <td>25.539249</td>\n",
       "      <td>26.485465</td>\n",
       "      <td>94.936798</td>\n",
       "      <td>95.173574</td>\n",
       "      <td>95.187813</td>\n",
       "      <td>0.322241</td>\n",
       "      <td>0.322254</td>\n",
       "    </tr>\n",
       "    <tr>\n",
       "      <th>6</th>\n",
       "      <td>26.728570</td>\n",
       "      <td>27.700664</td>\n",
       "      <td>95.016305</td>\n",
       "      <td>95.263017</td>\n",
       "      <td>95.277801</td>\n",
       "      <td>0.321948</td>\n",
       "      <td>0.321961</td>\n",
       "    </tr>\n",
       "    <tr>\n",
       "      <th>7</th>\n",
       "      <td>30.000767</td>\n",
       "      <td>31.044220</td>\n",
       "      <td>95.236972</td>\n",
       "      <td>95.511269</td>\n",
       "      <td>95.527563</td>\n",
       "      <td>0.321138</td>\n",
       "      <td>0.321153</td>\n",
       "    </tr>\n",
       "    <tr>\n",
       "      <th>8</th>\n",
       "      <td>41.362150</td>\n",
       "      <td>42.654185</td>\n",
       "      <td>96.025575</td>\n",
       "      <td>96.398565</td>\n",
       "      <td>96.420271</td>\n",
       "      <td>0.318278</td>\n",
       "      <td>0.318297</td>\n",
       "    </tr>\n",
       "    <tr>\n",
       "      <th>9</th>\n",
       "      <td>51.377696</td>\n",
       "      <td>52.888909</td>\n",
       "      <td>96.750758</td>\n",
       "      <td>97.214754</td>\n",
       "      <td>97.241459</td>\n",
       "      <td>0.315695</td>\n",
       "      <td>0.315717</td>\n",
       "    </tr>\n",
       "    <tr>\n",
       "      <th>10</th>\n",
       "      <td>67.609574</td>\n",
       "      <td>69.475056</td>\n",
       "      <td>97.989241</td>\n",
       "      <td>98.609506</td>\n",
       "      <td>98.644815</td>\n",
       "      <td>0.311383</td>\n",
       "      <td>0.311411</td>\n",
       "    </tr>\n",
       "    <tr>\n",
       "      <th>11</th>\n",
       "      <td>80.319279</td>\n",
       "      <td>82.461191</td>\n",
       "      <td>99.016956</td>\n",
       "      <td>99.767974</td>\n",
       "      <td>99.810499</td>\n",
       "      <td>0.307896</td>\n",
       "      <td>0.307929</td>\n",
       "    </tr>\n",
       "    <tr>\n",
       "      <th>12</th>\n",
       "      <td>81.489479</td>\n",
       "      <td>83.656802</td>\n",
       "      <td>99.114264</td>\n",
       "      <td>99.877721</td>\n",
       "      <td>99.920934</td>\n",
       "      <td>0.307570</td>\n",
       "      <td>0.307603</td>\n",
       "    </tr>\n",
       "    <tr>\n",
       "      <th>13</th>\n",
       "      <td>80.536938</td>\n",
       "      <td>82.683577</td>\n",
       "      <td>99.035020</td>\n",
       "      <td>99.788347</td>\n",
       "      <td>99.830999</td>\n",
       "      <td>0.307835</td>\n",
       "      <td>0.307868</td>\n",
       "    </tr>\n",
       "    <tr>\n",
       "      <th>14</th>\n",
       "      <td>80.508288</td>\n",
       "      <td>82.654305</td>\n",
       "      <td>99.032642</td>\n",
       "      <td>99.785664</td>\n",
       "      <td>99.828300</td>\n",
       "      <td>0.307843</td>\n",
       "      <td>0.307876</td>\n",
       "    </tr>\n",
       "    <tr>\n",
       "      <th>15</th>\n",
       "      <td>80.383895</td>\n",
       "      <td>82.527211</td>\n",
       "      <td>99.022317</td>\n",
       "      <td>99.774020</td>\n",
       "      <td>99.816583</td>\n",
       "      <td>0.307878</td>\n",
       "      <td>0.307911</td>\n",
       "    </tr>\n",
       "    <tr>\n",
       "      <th>16</th>\n",
       "      <td>68.184063</td>\n",
       "      <td>70.062057</td>\n",
       "      <td>98.034567</td>\n",
       "      <td>98.660576</td>\n",
       "      <td>98.696201</td>\n",
       "      <td>0.311227</td>\n",
       "      <td>0.311256</td>\n",
       "    </tr>\n",
       "    <tr>\n",
       "      <th>17</th>\n",
       "      <td>46.532367</td>\n",
       "      <td>47.937584</td>\n",
       "      <td>96.396331</td>\n",
       "      <td>96.815811</td>\n",
       "      <td>96.840070</td>\n",
       "      <td>0.316952</td>\n",
       "      <td>0.316973</td>\n",
       "    </tr>\n",
       "    <tr>\n",
       "      <th>18</th>\n",
       "      <td>40.840103</td>\n",
       "      <td>42.120708</td>\n",
       "      <td>95.988559</td>\n",
       "      <td>96.356912</td>\n",
       "      <td>96.378363</td>\n",
       "      <td>0.318411</td>\n",
       "      <td>0.318430</td>\n",
       "    </tr>\n",
       "    <tr>\n",
       "      <th>19</th>\n",
       "      <td>34.742577</td>\n",
       "      <td>35.889698</td>\n",
       "      <td>95.561817</td>\n",
       "      <td>95.876744</td>\n",
       "      <td>95.895265</td>\n",
       "      <td>0.319954</td>\n",
       "      <td>0.319970</td>\n",
       "    </tr>\n",
       "    <tr>\n",
       "      <th>20</th>\n",
       "      <td>32.489000</td>\n",
       "      <td>33.586826</td>\n",
       "      <td>95.406677</td>\n",
       "      <td>95.702196</td>\n",
       "      <td>95.719653</td>\n",
       "      <td>0.320518</td>\n",
       "      <td>0.320533</td>\n",
       "    </tr>\n",
       "    <tr>\n",
       "      <th>21</th>\n",
       "      <td>31.725074</td>\n",
       "      <td>32.806199</td>\n",
       "      <td>95.354398</td>\n",
       "      <td>95.643379</td>\n",
       "      <td>95.660478</td>\n",
       "      <td>0.320709</td>\n",
       "      <td>0.320724</td>\n",
       "    </tr>\n",
       "    <tr>\n",
       "      <th>22</th>\n",
       "      <td>29.836048</td>\n",
       "      <td>30.875905</td>\n",
       "      <td>95.225796</td>\n",
       "      <td>95.498696</td>\n",
       "      <td>95.514914</td>\n",
       "      <td>0.321179</td>\n",
       "      <td>0.321193</td>\n",
       "    </tr>\n",
       "    <tr>\n",
       "      <th>23</th>\n",
       "      <td>28.988380</td>\n",
       "      <td>30.009734</td>\n",
       "      <td>95.168397</td>\n",
       "      <td>95.434121</td>\n",
       "      <td>95.449946</td>\n",
       "      <td>0.321389</td>\n",
       "      <td>0.321403</td>\n",
       "    </tr>\n",
       "  </tbody>\n",
       "</table>\n",
       "</div>"
      ],
      "text/plain": [
       "            0          1          2          3          4         5         6\n",
       "0   27.621479  28.613024  95.076239  95.330442  95.345636  0.321728  0.321741\n",
       "1   26.667978  27.638752  95.012245  95.258450  95.273206  0.321963  0.321976\n",
       "2   25.683036  26.632379  94.946391  95.184365  95.198670  0.322206  0.322218\n",
       "3   25.678092  26.627327  94.946061  95.183994  95.198296  0.322207  0.322220\n",
       "4   25.045630  25.981119  94.903908  95.136573  95.150587  0.322362  0.322375\n",
       "5   25.539249  26.485465  94.936798  95.173574  95.187813  0.322241  0.322254\n",
       "6   26.728570  27.700664  95.016305  95.263017  95.277801  0.321948  0.321961\n",
       "7   30.000767  31.044220  95.236972  95.511269  95.527563  0.321138  0.321153\n",
       "8   41.362150  42.654185  96.025575  96.398565  96.420271  0.318278  0.318297\n",
       "9   51.377696  52.888909  96.750758  97.214754  97.241459  0.315695  0.315717\n",
       "10  67.609574  69.475056  97.989241  98.609506  98.644815  0.311383  0.311411\n",
       "11  80.319279  82.461191  99.016956  99.767974  99.810499  0.307896  0.307929\n",
       "12  81.489479  83.656802  99.114264  99.877721  99.920934  0.307570  0.307603\n",
       "13  80.536938  82.683577  99.035020  99.788347  99.830999  0.307835  0.307868\n",
       "14  80.508288  82.654305  99.032642  99.785664  99.828300  0.307843  0.307876\n",
       "15  80.383895  82.527211  99.022317  99.774020  99.816583  0.307878  0.307911\n",
       "16  68.184063  70.062057  98.034567  98.660576  98.696201  0.311227  0.311256\n",
       "17  46.532367  47.937584  96.396331  96.815811  96.840070  0.316952  0.316973\n",
       "18  40.840103  42.120708  95.988559  96.356912  96.378363  0.318411  0.318430\n",
       "19  34.742577  35.889698  95.561817  95.876744  95.895265  0.319954  0.319970\n",
       "20  32.489000  33.586826  95.406677  95.702196  95.719653  0.320518  0.320533\n",
       "21  31.725074  32.806199  95.354398  95.643379  95.660478  0.320709  0.320724\n",
       "22  29.836048  30.875905  95.225796  95.498696  95.514914  0.321179  0.321193\n",
       "23  28.988380  30.009734  95.168397  95.434121  95.449946  0.321389  0.321403"
      ]
     },
     "execution_count": 282,
     "metadata": {},
     "output_type": "execute_result"
    }
   ],
   "source": [
    "trafo_loading"
   ]
  },
  {
   "cell_type": "code",
   "execution_count": 283,
   "id": "e9d5cb34",
   "metadata": {},
   "outputs": [
    {
     "name": "stdout",
     "output_type": "stream",
     "text": [
      "217\n",
      "Results can be found in your local temp folder: time_series_ev\n"
     ]
    },
    {
     "name": "stderr",
     "output_type": "stream",
     "text": [
      "100%|███████████████████████████████████████████| 24/24 [00:00<00:00, 96.23it/s]\n"
     ]
    },
    {
     "name": "stdout",
     "output_type": "stream",
     "text": [
      "218\n",
      "Results can be found in your local temp folder: time_series_ev\n"
     ]
    },
    {
     "name": "stderr",
     "output_type": "stream",
     "text": [
      "100%|███████████████████████████████████████████| 24/24 [00:00<00:00, 88.51it/s]\n"
     ]
    },
    {
     "name": "stdout",
     "output_type": "stream",
     "text": [
      "219\n",
      "Results can be found in your local temp folder: time_series_ev\n"
     ]
    },
    {
     "name": "stderr",
     "output_type": "stream",
     "text": [
      "100%|███████████████████████████████████████████| 24/24 [00:00<00:00, 76.19it/s]\n"
     ]
    },
    {
     "name": "stdout",
     "output_type": "stream",
     "text": [
      "220\n",
      "Results can be found in your local temp folder: time_series_ev\n"
     ]
    },
    {
     "name": "stderr",
     "output_type": "stream",
     "text": [
      "100%|███████████████████████████████████████████| 24/24 [00:00<00:00, 66.88it/s]\n"
     ]
    },
    {
     "name": "stdout",
     "output_type": "stream",
     "text": [
      "221\n",
      "Results can be found in your local temp folder: time_series_ev\n"
     ]
    },
    {
     "name": "stderr",
     "output_type": "stream",
     "text": [
      "100%|███████████████████████████████████████████| 24/24 [00:00<00:00, 61.54it/s]\n"
     ]
    },
    {
     "name": "stdout",
     "output_type": "stream",
     "text": [
      "overloaded trafo\n",
      "14\n",
      "Results can be found in your local temp folder: time_series_ev\n"
     ]
    },
    {
     "name": "stderr",
     "output_type": "stream",
     "text": [
      "100%|██████████████████████████████████████████| 24/24 [00:00<00:00, 109.63it/s]\n"
     ]
    }
   ],
   "source": [
    "\n",
    "\n",
    "lowlimit4=c17+10\n",
    "uplimit4=c17+60\n",
    "\n",
    "#Bus CS 14 (0.63 MVA) - trafo id: 2\n",
    "\n",
    "for i in range (c17,lowlimit4):\n",
    "    l = str(i)\n",
    "    pp.create_load(net, bus=18, p_mw=0.0066, q_mvar=0, name=\"Vehicle \"+l)\n",
    "    \n",
    "c=lowlimit4\n",
    "while all(vm_pu.max()<max_vm_pu) and all(vm_pu.min()>min_vm_pu) and all(line_loading.max()<100) and c<uplimit4  and all(trafo_loading.max()<100):\n",
    "    c=c+1\n",
    "    print(c)\n",
    "    k=str(c)\n",
    "    pp.create_load(net, bus=18, p_mw=0.0066, q_mvar=0, name=\"Vehicle \"+k)\n",
    "    \n",
    "    output_dir = os.path.join(\"time_series_ev\")\n",
    "    print(\"Results can be found in your local temp folder: {}\".format(output_dir))\n",
    "    if not os.path.exists(output_dir):\n",
    "        os.mkdir(output_dir)\n",
    "    timeseries_example(output_dir)\n",
    "\n",
    "    ll_file = os.path.join(output_dir, \"res_line\", \"loading_percent.xlsx\")\n",
    "    line_loading = pd.read_excel(ll_file, index_col=0)\n",
    "    \n",
    "    vm_pu_file = os.path.join(output_dir, \"res_bus\", \"vm_pu.xlsx\")\n",
    "    vm_pu = pd.read_excel(vm_pu_file, index_col=0)\n",
    "    \n",
    "    trafo_loading_file = os.path.join(output_dir, \"res_trafo\", \"loading_percent.xlsx\")\n",
    "    trafo_loading = pd.read_excel(trafo_loading_file, index_col=0)\n",
    "\n",
    "    if any(line_loading.max()>100):\n",
    "        print(\"Overloaded lines\")\n",
    "\n",
    "    elif any(vm_pu.max()>max_vm_pu):\n",
    "        print(\"voltage over maximum\")\n",
    "\n",
    "    elif any(vm_pu.min()<min_vm_pu):\n",
    "         print(\"voltage below minimum\")\n",
    "            \n",
    "    elif c==uplimit4:\n",
    "        print(\"no maximum has been found\")\n",
    "        \n",
    "    elif any(trafo_loading.max()>100):\n",
    "        print(\"overloaded trafo\")\n",
    "        \n",
    "c18=c-1\n",
    "EVs_B18=c18-c17        \n",
    "print(EVs_B18)        \n",
    "        \n",
    "#creating our net\n",
    "net = nw.create_cigre_network_mv()\n",
    "net.switch.closed[1] = True\n",
    "net.switch.closed[2] = True\n",
    "net.switch.closed[4] = True\n",
    "\n",
    "#Creating buses and trafos\n",
    "\n",
    "pp.create_bus(net, name='Bus CS 14', vn_kv=0.4, type='b', geodata=((10,3.5)))\n",
    "pp.create_bus(net, name='Bus CS 11', vn_kv=0.4, type='b', geodata=((2.5,7)))\n",
    "pp.create_bus(net, name='Bus CS 5', vn_kv=0.4, type='b', geodata=((-0.5,7)))\n",
    "pp.create_bus(net, name='Bus CS 4', vn_kv=0.4, type='b', geodata=((1,9)))\n",
    "pp.create_bus(net, name='Bus CS 9', vn_kv=0.4, type='b', geodata=((6,3.5)))\n",
    "\n",
    "\n",
    "pp.create_transformer(net, hv_bus=14, lv_bus= pp.get_element_index(net,'bus', 'Bus CS 14'), name='CS 14 - 0.63MVA', std_type= '0.63 MVA 20/0.4 kV')\n",
    "pp.create_transformer(net, hv_bus=11, lv_bus=pp.get_element_index(net, 'bus', 'Bus CS 11'),  name='CS 11 - 0.4MVA',std_type= '0.4 MVA 20/0.4 kV')\n",
    "pp.create_transformer(net, hv_bus=5, lv_bus=pp.get_element_index (net, 'bus', 'Bus CS 5'),   name='CS 5 - 0.4MVA', std_type= '0.4 MVA 20/0.4 kV')\n",
    "pp.create_transformer(net, hv_bus=4, lv_bus=pp.get_element_index (net, 'bus', 'Bus CS 4'),   name='CS 4 - 0.25MVA', std_type= '0.25 MVA 20/0.4 kV')\n",
    "pp.create_transformer(net, hv_bus=9, lv_bus=pp.get_element_index (net, 'bus', 'Bus CS 9'),   name='CS 9 - 0.25MVA', std_type= '0.25 MVA 20/0.4 kV')\n",
    "\n",
    "\n",
    "for i in range (1,c15-1):\n",
    "    l = str(i)\n",
    "    pp.create_load(net, bus=15, p_mw=0.0066, q_mvar=0, name=\"Vehicle \"+l)\n",
    "\n",
    "for i in range (c15,c16):\n",
    "    l = str(i)\n",
    "    pp.create_load(net, bus=16, p_mw=0.0066, q_mvar=0, name=\"Vehicle \"+l)\n",
    "\n",
    "for i in range (c16,c17):\n",
    "   l = str(i)\n",
    "   pp.create_load(net, bus=17, p_mw=0.0066, q_mvar=0, name=\"Vehicle \"+l)\n",
    "\n",
    "for i in range (c17,c18):\n",
    "    l = str(i)\n",
    "    pp.create_load(net, bus=18, p_mw=0.0066, q_mvar=0, name=\"Vehicle \"+l)\n",
    "    \n",
    "output_dir = os.path.join(\"time_series_ev\")\n",
    "print(\"Results can be found in your local temp folder: {}\".format(output_dir))\n",
    "if not os.path.exists(output_dir):\n",
    "    os.mkdir(output_dir)\n",
    "timeseries_example(output_dir)\n",
    "\n",
    "ll_file = os.path.join(output_dir, \"res_line\", \"loading_percent.xlsx\")\n",
    "line_loading = pd.read_excel(ll_file, index_col=0)\n",
    "\n",
    "vm_pu_file = os.path.join(output_dir, \"res_bus\", \"vm_pu.xlsx\")\n",
    "vm_pu = pd.read_excel(vm_pu_file, index_col=0)\n",
    "\n",
    "trafo_loading_file = os.path.join(output_dir, \"res_trafo\", \"loading_percent.xlsx\")\n",
    "trafo_loading = pd.read_excel(trafo_loading_file, index_col=0)"
   ]
  },
  {
   "cell_type": "code",
   "execution_count": 284,
   "id": "6c87c2a4",
   "metadata": {},
   "outputs": [
    {
     "name": "stdout",
     "output_type": "stream",
     "text": [
      "0    81.693201\n",
      "1    83.857380\n",
      "2    99.168627\n",
      "3    99.950992\n",
      "4    99.995045\n",
      "5    39.023484\n",
      "6     0.322193\n",
      "dtype: float64\n"
     ]
    }
   ],
   "source": [
    "print(trafo_loading.max())"
   ]
  },
  {
   "cell_type": "code",
   "execution_count": 287,
   "id": "8cc5597c",
   "metadata": {},
   "outputs": [
    {
     "name": "stdout",
     "output_type": "stream",
     "text": [
      "221\n",
      "Results can be found in your local temp folder: time_series_ev\n"
     ]
    },
    {
     "name": "stderr",
     "output_type": "stream",
     "text": [
      "100%|███████████████████████████████████████████| 24/24 [00:00<00:00, 96.11it/s]\n"
     ]
    },
    {
     "name": "stdout",
     "output_type": "stream",
     "text": [
      "overloaded trafo\n",
      "0\n",
      "Results can be found in your local temp folder: time_series_ev\n"
     ]
    },
    {
     "name": "stderr",
     "output_type": "stream",
     "text": [
      "100%|██████████████████████████████████████████| 24/24 [00:00<00:00, 100.42it/s]\n"
     ]
    }
   ],
   "source": [
    "\n",
    "\n",
    "lowlimit5=c18+0\n",
    "uplimit5=c18+40\n",
    "\n",
    "#Bus CS 14 (0.63 MVA) - trafo id: 2\n",
    "\n",
    "for i in range (c18,lowlimit5):\n",
    "    l = str(i)\n",
    "    pp.create_load(net, bus=19, p_mw=0.0066, q_mvar=0, name=\"Vehicle \"+l)\n",
    "\n",
    "c=lowlimit5\n",
    "while all(vm_pu.max()<max_vm_pu) and all(vm_pu.min()>min_vm_pu) and all(line_loading.max()<100) and c<uplimit5  and all(trafo_loading.max()<100):\n",
    "    c=c+1\n",
    "    print(c)\n",
    "    k=str(c)\n",
    "    pp.create_load(net, bus=19, p_mw=0.0066, q_mvar=0, name=\"Vehicle \"+k)\n",
    "    \n",
    "    output_dir = os.path.join(\"time_series_ev\")\n",
    "    print(\"Results can be found in your local temp folder: {}\".format(output_dir))\n",
    "    if not os.path.exists(output_dir):\n",
    "        os.mkdir(output_dir)\n",
    "    timeseries_example(output_dir)\n",
    "\n",
    "    ll_file = os.path.join(output_dir, \"res_line\", \"loading_percent.xlsx\")\n",
    "    line_loading = pd.read_excel(ll_file, index_col=0)\n",
    "    \n",
    "    vm_pu_file = os.path.join(output_dir, \"res_bus\", \"vm_pu.xlsx\")\n",
    "    vm_pu = pd.read_excel(vm_pu_file, index_col=0)\n",
    "    \n",
    "    trafo_loading_file = os.path.join(output_dir, \"res_trafo\", \"loading_percent.xlsx\")\n",
    "    trafo_loading = pd.read_excel(trafo_loading_file, index_col=0)\n",
    "\n",
    "    if any(line_loading.max()>100):\n",
    "        print(\"Overloaded lines\")\n",
    "\n",
    "    elif any(vm_pu.max()>max_vm_pu):\n",
    "        print(\"voltage over maximum\")\n",
    "\n",
    "    elif any(vm_pu.min()<min_vm_pu):\n",
    "         print(\"voltage below minimum\")\n",
    "            \n",
    "    elif c==uplimit5:\n",
    "        print(\"no maximum has been found\")\n",
    "        \n",
    "    elif any(net.res_trafo.loading_percent>100):\n",
    "        print(\"overloaded trafo\")\n",
    "        \n",
    "    elif any(trafo_loading.max()>100):\n",
    "        print(\"overloaded trafo\")\n",
    "        \n",
    "c19=c-1\n",
    "EVs_B19=c19-c18        \n",
    "print(EVs_B19)        \n",
    "        \n",
    "#creating our net\n",
    "net = nw.create_cigre_network_mv()\n",
    "net.switch.closed[1] = True\n",
    "net.switch.closed[2] = True\n",
    "net.switch.closed[4] = True\n",
    "\n",
    "#Creating buses and trafos\n",
    "\n",
    "pp.create_bus(net, name='Bus CS 14', vn_kv=0.4, type='b', geodata=((10,3.5)))\n",
    "pp.create_bus(net, name='Bus CS 11', vn_kv=0.4, type='b', geodata=((2.5,7)))\n",
    "pp.create_bus(net, name='Bus CS 5', vn_kv=0.4, type='b', geodata=((-0.5,7)))\n",
    "pp.create_bus(net, name='Bus CS 4', vn_kv=0.4, type='b', geodata=((1,9)))\n",
    "pp.create_bus(net, name='Bus CS 9', vn_kv=0.4, type='b', geodata=((6,3.5)))\n",
    "\n",
    "\n",
    "pp.create_transformer(net, hv_bus=14, lv_bus= pp.get_element_index(net,'bus', 'Bus CS 14'), name='CS 14 - 0.63MVA', std_type= '0.63 MVA 20/0.4 kV')\n",
    "pp.create_transformer(net, hv_bus=11, lv_bus=pp.get_element_index(net, 'bus', 'Bus CS 11'),  name='CS 11 - 0.4MVA',std_type= '0.4 MVA 20/0.4 kV')\n",
    "pp.create_transformer(net, hv_bus=5, lv_bus=pp.get_element_index (net, 'bus', 'Bus CS 5'),   name='CS 5 - 0.4MVA', std_type= '0.4 MVA 20/0.4 kV')\n",
    "pp.create_transformer(net, hv_bus=4, lv_bus=pp.get_element_index (net, 'bus', 'Bus CS 4'),   name='CS 4 - 0.25MVA', std_type= '0.25 MVA 20/0.4 kV')\n",
    "pp.create_transformer(net, hv_bus=9, lv_bus=pp.get_element_index (net, 'bus', 'Bus CS 9'),   name='CS 9 - 0.25MVA', std_type= '0.25 MVA 20/0.4 kV')\n",
    "\n",
    "\n",
    "for i in range (1,c15-1):\n",
    "    l = str(i)\n",
    "    pp.create_load(net, bus=15, p_mw=0.0066, q_mvar=0, name=\"Vehicle \"+l)\n",
    "\n",
    "for i in range (c15,c16):\n",
    "    l = str(i)\n",
    "    pp.create_load(net, bus=16, p_mw=0.0066, q_mvar=0, name=\"Vehicle \"+l)\n",
    "\n",
    "for i in range (c16,c17):\n",
    "   l = str(i)\n",
    "   pp.create_load(net, bus=17, p_mw=0.0066, q_mvar=0, name=\"Vehicle \"+l)\n",
    "\n",
    "for i in range (c17,c18):\n",
    "    l = str(i)\n",
    "    pp.create_load(net, bus=18, p_mw=0.0066, q_mvar=0, name=\"Vehicle \"+l)\n",
    "    \n",
    "for i in range (c18,c19):\n",
    "    l = str(i)\n",
    "    pp.create_load(net, bus=19, p_mw=0.0066, q_mvar=0, name=\"Vehicle \"+l)\n",
    "    \n",
    "output_dir = os.path.join(\"time_series_ev\")\n",
    "print(\"Results can be found in your local temp folder: {}\".format(output_dir))\n",
    "if not os.path.exists(output_dir):\n",
    "    os.mkdir(output_dir)\n",
    "timeseries_example(output_dir)\n",
    "\n",
    "ll_file = os.path.join(output_dir, \"res_line\", \"loading_percent.xlsx\")\n",
    "line_loading = pd.read_excel(ll_file, index_col=0)\n",
    "\n",
    "vm_pu_file = os.path.join(output_dir, \"res_bus\", \"vm_pu.xlsx\")\n",
    "vm_pu = pd.read_excel(vm_pu_file, index_col=0)\n",
    "\n",
    "trafo_loading_file = os.path.join(output_dir, \"res_trafo\", \"loading_percent.xlsx\")\n",
    "trafo_loading = pd.read_excel(trafo_loading_file, index_col=0)"
   ]
  },
  {
   "cell_type": "code",
   "execution_count": 290,
   "id": "4025edd3",
   "metadata": {},
   "outputs": [
    {
     "data": {
      "text/plain": [
       "0    29.175903\n",
       "1    30.195920\n",
       "2    95.211946\n",
       "3    95.493183\n",
       "4    95.509681\n",
       "5    37.348462\n",
       "6     0.321220\n",
       "Name: loading_percent, dtype: float64"
      ]
     },
     "execution_count": 290,
     "metadata": {},
     "output_type": "execute_result"
    }
   ],
   "source": [
    "net.res_trafo.loading_percent"
   ]
  },
  {
   "cell_type": "code",
   "execution_count": 291,
   "id": "a90ec151",
   "metadata": {},
   "outputs": [
    {
     "name": "stdout",
     "output_type": "stream",
     "text": [
      "0    81.693201\n",
      "1    83.857380\n",
      "2    99.168627\n",
      "3    99.950992\n",
      "4    99.995045\n",
      "5    39.023484\n",
      "6     0.322193\n",
      "dtype: float64\n"
     ]
    }
   ],
   "source": [
    "print(trafo_loading.max())"
   ]
  },
  {
   "cell_type": "code",
   "execution_count": 211,
   "id": "a883ecb7",
   "metadata": {},
   "outputs": [
    {
     "data": {
      "text/plain": [
       "True"
      ]
     },
     "execution_count": 211,
     "metadata": {},
     "output_type": "execute_result"
    }
   ],
   "source": [
    "all(vm_pu.max()<max_vm_pu) and all(vm_pu.min()>min_vm_pu) and all(line_loading.max()<100) and c<uplimit4  and all(trafo_loading.max()<100)"
   ]
  },
  {
   "cell_type": "code",
   "execution_count": null,
   "id": "c5242ea0",
   "metadata": {},
   "outputs": [],
   "source": []
  }
 ],
 "metadata": {
  "kernelspec": {
   "display_name": "Python 3 (ipykernel)",
   "language": "python",
   "name": "python3"
  },
  "language_info": {
   "codemirror_mode": {
    "name": "ipython",
    "version": 3
   },
   "file_extension": ".py",
   "mimetype": "text/x-python",
   "name": "python",
   "nbconvert_exporter": "python",
   "pygments_lexer": "ipython3",
   "version": "3.9.12"
  }
 },
 "nbformat": 4,
 "nbformat_minor": 5
}
